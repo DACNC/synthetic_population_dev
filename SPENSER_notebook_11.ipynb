{
 "cells": [
  {
   "cell_type": "code",
   "execution_count": 28,
   "metadata": {},
   "outputs": [],
   "source": [
    "import glob\n",
    "import pandas as pd\n",
    "import numpy as np\n",
    "import os\n",
    "import csv\n",
    "import sys\n",
    "\n",
    "import random"
   ]
  },
  {
   "cell_type": "code",
   "execution_count": 2,
   "metadata": {},
   "outputs": [],
   "source": [
    "#Read CSV file containing the people from the North East of England (output from SPENSER_notebook_6)\n",
    "df_persons_NE_inactive_5categories_export_20220304_correct_dir = r'C:\\Users\\b9055315\\Documents\\PhD_PROJECT\\Synthetic_population_developement\\SPENSER\\Data\\2019\\economic_activity\\Inactive_categories\\Chosen_ones' # use your path\n",
    "df_persons_NE_inactive_5categories_export_20220304_correct_dir_file = os.path.join(df_persons_NE_inactive_5categories_export_20220304_correct_dir, \"df_persons_NE_inactive_5categories_export_20220304_correct.csv\")\n",
    "df_persons_NE_inactive_5categories = pd.read_csv(df_persons_NE_inactive_5categories_export_20220304_correct_dir_file, index_col=None, header=0)\n"
   ]
  },
  {
   "cell_type": "markdown",
   "metadata": {},
   "source": [
    "## Income for inactive people will be assigned based on statistical data"
   ]
  },
  {
   "cell_type": "markdown",
   "metadata": {},
   "source": [
    "## Retired:"
   ]
  },
  {
   "cell_type": "code",
   "execution_count": 17,
   "metadata": {},
   "outputs": [
    {
     "name": "stderr",
     "output_type": "stream",
     "text": [
      "C:\\Program Files\\ArcGIS\\Pro\\bin\\Python\\envs\\arcgispro-py3\\lib\\site-packages\\ipykernel_launcher.py:22: SettingWithCopyWarning: \n",
      "A value is trying to be set on a copy of a slice from a DataFrame.\n",
      "Try using .loc[row_indexer,col_indexer] = value instead\n",
      "\n",
      "See the caveats in the documentation: http://pandas.pydata.org/pandas-docs/stable/indexing.html#indexing-view-versus-copy\n",
      "C:\\Program Files\\ArcGIS\\Pro\\bin\\Python\\envs\\arcgispro-py3\\lib\\site-packages\\ipykernel_launcher.py:23: SettingWithCopyWarning: \n",
      "A value is trying to be set on a copy of a slice from a DataFrame.\n",
      "Try using .loc[row_indexer,col_indexer] = value instead\n",
      "\n",
      "See the caveats in the documentation: http://pandas.pydata.org/pandas-docs/stable/indexing.html#indexing-view-versus-copy\n",
      "C:\\Program Files\\ArcGIS\\Pro\\bin\\Python\\envs\\arcgispro-py3\\lib\\site-packages\\ipykernel_launcher.py:24: SettingWithCopyWarning: \n",
      "A value is trying to be set on a copy of a slice from a DataFrame.\n",
      "Try using .loc[row_indexer,col_indexer] = value instead\n",
      "\n",
      "See the caveats in the documentation: http://pandas.pydata.org/pandas-docs/stable/indexing.html#indexing-view-versus-copy\n"
     ]
    }
   ],
   "source": [
    "# Select those inactive retired people:\n",
    "df_retired = df_persons_NE_inactive_5categories.loc[df_persons_NE_inactive_5categories['Occupation'] == 'Retired']\n",
    "\n",
    "Marital_status_list = ['Married', 'Couple']\n",
    "\n",
    "# Those couples:\n",
    "df_retired_couple = df_retired.loc[df_retired['Marital_status'].isin(Marital_status_list)]\n",
    "\n",
    "# Those retired single male:\n",
    "df_retired_single_male = df_retired.loc[(df_retired['Marital_status'] == 'Single') & (df_retired['Sex'] == 1)]\n",
    "\n",
    "#Those retired single female:\n",
    "df_retired_single_female = df_retired.loc[(df_retired['Marital_status'] == 'Single') & (df_retired['Sex'] == 2)]\n",
    "\n",
    "\n",
    "#Income values to be assigned (income in £ per week 2018/19 prices):\n",
    "##Pensioners' incomes series: An analysis of trends in pensioner incomes: 1994/95 to 2018/19\n",
    "##https://www.gov.uk/government/statistics/pensioners-incomes-series-financial-year-2018-to-2019\n",
    "annual_gross_couple_2018_2019 = int(674 * 52)\n",
    "annual_gross_single_male_2018_2019 = int(425.31 * 52)\n",
    "annual_gross_single_female_2018_2019 = int(315.80 * 52)\n",
    "\n",
    "\n",
    "df_retired_couple['Income'] = int(annual_gross_couple_2018_2019/2)\n",
    "df_retired_single_male['Income'] = annual_gross_single_male_2018_2019\n",
    "df_retired_single_female['Income'] = annual_gross_single_female_2018_2019\n",
    "\n",
    "\n",
    "df_retired__updated_all = (pd.concat([df_retired_couple, df_retired_single_male, df_retired_single_female]))\n"
   ]
  },
  {
   "cell_type": "code",
   "execution_count": 54,
   "metadata": {},
   "outputs": [
    {
     "data": {
      "text/plain": [
       "16421"
      ]
     },
     "execution_count": 54,
     "metadata": {},
     "output_type": "execute_result"
    }
   ],
   "source": [
    "df_retired__updated_all['Income'].min()"
   ]
  },
  {
   "cell_type": "code",
   "execution_count": 55,
   "metadata": {},
   "outputs": [
    {
     "data": {
      "text/plain": [
       "22116"
      ]
     },
     "execution_count": 55,
     "metadata": {},
     "output_type": "execute_result"
    }
   ],
   "source": [
    "df_retired__updated_all['Income'].max()"
   ]
  },
  {
   "cell_type": "code",
   "execution_count": 126,
   "metadata": {},
   "outputs": [
    {
     "data": {
      "image/png": "[encoded data removed]",
      "text/plain": [
       "<Figure size 432x288 with 1 Axes>"
      ]
     },
     "metadata": {},
     "output_type": "display_data"
    }
   ],
   "source": [
    "df_retired__updated_all.hist(column='Income', bins=50);"
   ]
  },
  {
   "cell_type": "markdown",
   "metadata": {},
   "source": [
    "## Long term sick"
   ]
  },
  {
   "cell_type": "code",
   "execution_count": 47,
   "metadata": {},
   "outputs": [
    {
     "name": "stderr",
     "output_type": "stream",
     "text": [
      "C:\\Program Files\\ArcGIS\\Pro\\bin\\Python\\envs\\arcgispro-py3\\lib\\site-packages\\ipykernel_launcher.py:35: SettingWithCopyWarning: \n",
      "A value is trying to be set on a copy of a slice from a DataFrame.\n",
      "Try using .loc[row_indexer,col_indexer] = value instead\n",
      "\n",
      "See the caveats in the documentation: http://pandas.pydata.org/pandas-docs/stable/indexing.html#indexing-view-versus-copy\n"
     ]
    }
   ],
   "source": [
    "# PIP\n",
    "# You can get Personal Independence Payment (PIP) if all of the following apply to you:\n",
    "## you’re 16 or over\n",
    "## you have a long-term physical or mental health condition or disability\n",
    "## you have difficulty doing certain everyday tasks or getting around\n",
    "## you expect the difficulties to last for at least 12 months from when they started\n",
    "# https://www.gov.uk/pip\n",
    "pip_daily_living_part_income = [60, 89.60] #(£ weeklyly standard allowance)\n",
    "pip_mobility_part_income = [23.70, 62.55]  #(£ weekly standard allowance)\n",
    "\n",
    "\n",
    "# Universal Credit\n",
    "##You may be able to get Universal Credit if you’re on a low income or need help with your living costs. You could be working (including self-employed or part time) or be out of work.\n",
    "#To claim you must:\n",
    "##live in the UK\n",
    "##be aged 18 or over (there are some exceptions if you’re 16 to 17)\n",
    "##be under State Pension age\n",
    "##have £16,000 or less in money, savings and investments\n",
    "## https://www.gov.uk/universal-credit\n",
    "\n",
    "universal_credit_standard_single_under25 = 257.33 #(£ extra Monthly standard allowance)\n",
    "universal_credit_standard_single_25plus = 324.84 #(£ extra Monthly standard allowance)\n",
    "universal_credit_standard_couple_under25 = 403.93 #(£ extra Monthly standard allowance)\n",
    "universal_credit_standard_couple_25plus = 509.91 #(£ extra Monthly standard allowance)\n",
    "\n",
    "universal_credit_children_first = 282.50 #(£ extra Monthly)\n",
    "universal_credit_children_second = 237.08 #(£ extra Monthly)\n",
    "\n",
    "universal_credit_extra_disability_or_health_condition = 343.63 #(£ extra Monthly)\n",
    "\n",
    "\n",
    "\n",
    "\n",
    "\n",
    "# Select people sick\n",
    "df_sick = df_persons_NE_inactive_5categories.loc[df_persons_NE_inactive_5categories['Occupation'] == 'Long term sick']\n",
    "\n",
    "df_sick['Income'] = 0\n",
    "\n",
    "\n",
    "# Calculate the income for each sick person, based on their characteristics:\n",
    "for idx_person, person in df_sick.iterrows():\n",
    "    \n",
    "    # If person is younger than 25:\n",
    "    if person['Age'] < 25 :\n",
    "        \n",
    "        if person['Marital_status']  == 'Single':\n",
    "        \n",
    "            if person['Total_Children_in_household'] > 0:\n",
    "            \n",
    "                if person['Total_Children_in_household'] == 1:\n",
    "                \n",
    "                    pip_income =  random.randrange(int(pip_daily_living_part_income[0]),int(pip_daily_living_part_income[1]), 1) + random.randrange(int(pip_mobility_part_income[0]),int(pip_mobility_part_income[1]), 1)\n",
    "                    universal_credit_income = universal_credit_standard_single_under25 + universal_credit_children_first + universal_credit_extra_disability_or_health_condition\n",
    "                \n",
    "                    income_total = 52 * pip_income + 12 *universal_credit_income\n",
    "                \n",
    "                    df_sick.at[idx_person,'Income'] = int(income_total)\n",
    "                \n",
    "                \n",
    "                if person['Total_Children_in_household'] == 2:\n",
    "                \n",
    "                    pip_income =  random.randrange(int(pip_daily_living_part_income[0]),int(pip_daily_living_part_income[1]), 1) + random.randrange(int(pip_mobility_part_income[0]),int(pip_mobility_part_income[1]), 1)\n",
    "                    universal_credit_income = universal_credit_standard_single_under25 + universal_credit_children_first + universal_credit_children_second + universal_credit_extra_disability_or_health_condition\n",
    "                \n",
    "                    income_total = 52 * pip_income + 12 *universal_credit_income\n",
    "                \n",
    "                    df_sick.at[idx_person,'Income'] = int(income_total)\n",
    "            \n",
    "            \n",
    "                if person['Total_Children_in_household'] > 2:\n",
    "                \n",
    "                    pip_income =  random.randrange(int(pip_daily_living_part_income[0]),int(pip_daily_living_part_income[1]), 1) + random.randrange(int(pip_mobility_part_income[0]),int(pip_mobility_part_income[1]), 1)\n",
    "                    universal_credit_income = universal_credit_standard_single_under25 + universal_credit_children_first + (2* universal_credit_children_second) + universal_credit_extra_disability_or_health_condition\n",
    "                \n",
    "                    income_total = 52 * pip_income + 12 *universal_credit_income\n",
    "                \n",
    "                    df_sick.at[idx_person,'Income'] = int(income_total)\n",
    "                    \n",
    "            # if the person (single and below 25 years) does not have any children:       \n",
    "            else:\n",
    "                pip_income =  random.randrange(int(pip_daily_living_part_income[0]),int(pip_daily_living_part_income[1]), 1) + random.randrange(int(pip_mobility_part_income[0]),int(pip_mobility_part_income[1]), 1)\n",
    "                \n",
    "                universal_credit_income = universal_credit_standard_single_under25 + universal_credit_extra_disability_or_health_condition\n",
    "                \n",
    "                income_total = 52 * pip_income + 12 *universal_credit_income\n",
    "                \n",
    "                df_sick.at[idx_person,'Income'] = int(income_total)\n",
    "            \n",
    "        \n",
    "        # If person is below 25 and is married or couple:   \n",
    "        else:\n",
    "            \n",
    "            if person['Total_Children_in_household'] > 0:\n",
    "            \n",
    "                if person['Total_Children_in_household'] == 1:\n",
    "                \n",
    "                    pip_income =  random.randrange(int(pip_daily_living_part_income[0]),int(pip_daily_living_part_income[1]), 1) + random.randrange(int(pip_mobility_part_income[0]),int(pip_mobility_part_income[1]), 1)\n",
    "                    universal_credit_income = universal_credit_standard_couple_under25/2 + universal_credit_children_first + universal_credit_extra_disability_or_health_condition\n",
    "                \n",
    "                    income_total = 52 * pip_income + 12 *universal_credit_income\n",
    "                \n",
    "                    df_sick.at[idx_person,'Income'] = int(income_total)\n",
    "                \n",
    "                \n",
    "                if person['Total_Children_in_household'] == 2:\n",
    "                \n",
    "                    pip_income =  random.randrange(int(pip_daily_living_part_income[0]),int(pip_daily_living_part_income[1]), 1) + random.randrange(int(pip_mobility_part_income[0]),int(pip_mobility_part_income[1]), 1)      \n",
    "                    universal_credit_income = universal_credit_standard_couple_under25/2 + universal_credit_children_first + universal_credit_children_second + universal_credit_extra_disability_or_health_condition\n",
    "                \n",
    "                    income_total = 52 * pip_income + 12 *universal_credit_income\n",
    "                \n",
    "                    df_sick.at[idx_person,'Income'] = int(income_total)\n",
    "            \n",
    "            \n",
    "                if person['Total_Children_in_household'] > 2:\n",
    "                \n",
    "                    pip_income =  random.randrange(int(pip_daily_living_part_income[0]),int(pip_daily_living_part_income[1]), 1) + random.randrange(int(pip_mobility_part_income[0]),int(pip_mobility_part_income[1]), 1)\n",
    "                    universal_credit_income = universal_credit_standard_couple_under25/2 + universal_credit_children_first + (2* universal_credit_children_second) + universal_credit_extra_disability_or_health_condition\n",
    "                \n",
    "                    income_total = 52 * pip_income + 12 *universal_credit_income\n",
    "                \n",
    "                    df_sick.at[idx_person,'Income'] = int(income_total)\n",
    "                    \n",
    "            \n",
    "            # if the person (married or couple and below 25 years) does not have any children:       \n",
    "            else:\n",
    "                pip_income =  random.randrange(int(pip_daily_living_part_income[0]),int(pip_daily_living_part_income[1]), 1) + random.randrange(int(pip_mobility_part_income[0]),int(pip_mobility_part_income[1]), 1)\n",
    "                universal_credit_income = universal_credit_standard_couple_under25/2 + universal_credit_extra_disability_or_health_condition\n",
    "                \n",
    "                income_total = 52 * pip_income + 12 *universal_credit_income\n",
    "                \n",
    "                df_sick.at[idx_person,'Income'] = int(income_total)\n",
    "            \n",
    "     \n",
    "    # If person is older or equal to 25:       \n",
    "    else:\n",
    "        \n",
    "        if person['Marital_status']  == 'Single':\n",
    "        \n",
    "            if person['Total_Children_in_household'] > 0:\n",
    "            \n",
    "                if person['Total_Children_in_household'] == 1:\n",
    "                \n",
    "                    pip_income =  random.randrange(int(pip_daily_living_part_income[0]),int(pip_daily_living_part_income[1]), 1) + random.randrange(int(pip_mobility_part_income[0]),int(pip_mobility_part_income[1]), 1)\n",
    "                    universal_credit_income = universal_credit_standard_single_25plus + universal_credit_children_first + universal_credit_extra_disability_or_health_condition\n",
    "                \n",
    "                    income_total = 52 * pip_income + 12 *universal_credit_income\n",
    "                \n",
    "                    df_sick.at[idx_person,'Income'] = int(income_total)\n",
    "                \n",
    "                \n",
    "                if person['Total_Children_in_household'] == 2:\n",
    "                \n",
    "                    pip_income =  random.randrange(int(pip_daily_living_part_income[0]),int(pip_daily_living_part_income[1]), 1) + random.randrange(int(pip_mobility_part_income[0]),int(pip_mobility_part_income[1]), 1)\n",
    "                    universal_credit_income = universal_credit_standard_single_25plus + universal_credit_children_first + universal_credit_children_second + universal_credit_extra_disability_or_health_condition\n",
    "                \n",
    "                    income_total = 52 * pip_income + 12 *universal_credit_income\n",
    "                \n",
    "                    df_sick.at[idx_person,'Income'] = int(income_total)\n",
    "            \n",
    "            \n",
    "                if person['Total_Children_in_household'] > 2:\n",
    "                \n",
    "                    pip_income =  random.randrange(int(pip_daily_living_part_income[0]),int(pip_daily_living_part_income[1]), 1) + random.randrange(int(pip_mobility_part_income[0]),int(pip_mobility_part_income[1]), 1)\n",
    "                    universal_credit_income = universal_credit_standard_single_25plus + universal_credit_children_first + (2* universal_credit_children_second) + universal_credit_extra_disability_or_health_condition\n",
    "                \n",
    "                    income_total = 52 * pip_income + 12 *universal_credit_income\n",
    "                \n",
    "                    df_sick.at[idx_person,'Income'] = int(income_total)\n",
    "            \n",
    "        \n",
    "            # if the person (single and > 25 years) does not have any children:       \n",
    "            else:\n",
    "                \n",
    "                pip_income =  random.randrange(int(pip_daily_living_part_income[0]),int(pip_daily_living_part_income[1]), 1) + random.randrange(int(pip_mobility_part_income[0]),int(pip_mobility_part_income[1]), 1)\n",
    "                universal_credit_income = universal_credit_standard_single_25plus + universal_credit_extra_disability_or_health_condition\n",
    "                \n",
    "                income_total = 52 * pip_income + 12 *universal_credit_income\n",
    "                \n",
    "                df_sick.at[idx_person,'Income'] = int(income_total)\n",
    "        \n",
    "        # If person is above 25 and is married or couple:   \n",
    "        else:\n",
    "            \n",
    "            if person['Total_Children_in_household'] > 0:\n",
    "            \n",
    "                if person['Total_Children_in_household'] == 1:\n",
    "                \n",
    "                    pip_income =  random.randrange(int(pip_daily_living_part_income[0]),int(pip_daily_living_part_income[1]), 1) + random.randrange(int(pip_mobility_part_income[0]),int(pip_mobility_part_income[1]), 1)\n",
    "                    universal_credit_income = universal_credit_standard_couple_25plus/2 + universal_credit_children_first + universal_credit_extra_disability_or_health_condition\n",
    "                \n",
    "                    income_total = 52 * pip_income + 12 *universal_credit_income\n",
    "                \n",
    "                    df_sick.at[idx_person,'Income'] = int(income_total)\n",
    "                \n",
    "                \n",
    "                if person['Total_Children_in_household'] == 2:\n",
    "                \n",
    "                    pip_income =  random.randrange(int(pip_daily_living_part_income[0]),int(pip_daily_living_part_income[1]), 1) + random.randrange(int(pip_mobility_part_income[0]),int(pip_mobility_part_income[1]), 1)\n",
    "                    universal_credit_income = universal_credit_standard_couple_25plus/2 + universal_credit_children_first + universal_credit_children_second + universal_credit_extra_disability_or_health_condition\n",
    "                \n",
    "                    income_total = 52 * pip_income + 12 *universal_credit_income\n",
    "                \n",
    "                    df_sick.at[idx_person,'Income'] = int(income_total)\n",
    "            \n",
    "            \n",
    "                if person['Total_Children_in_household'] > 2:\n",
    "                \n",
    "                    pip_income =  random.randrange(int(pip_daily_living_part_income[0]),int(pip_daily_living_part_income[1]), 1) + random.randrange(int(pip_mobility_part_income[0]),int(pip_mobility_part_income[1]), 1)\n",
    "                    universal_credit_income = universal_credit_standard_couple_25plus/2 + universal_credit_children_first + (2* universal_credit_children_second) + universal_credit_extra_disability_or_health_condition\n",
    "                \n",
    "                    income_total = 52 * pip_income + 12 *universal_credit_income\n",
    "                \n",
    "                    df_sick.at[idx_person,'Income'] = int(income_total)\n",
    "            \n",
    "            \n",
    "            # if the person (couple/married and > 25 years) does not have any children:       \n",
    "            else:\n",
    "                \n",
    "                pip_income =  random.randrange(int(pip_daily_living_part_income[0]),int(pip_daily_living_part_income[1]), 1) + random.randrange(int(pip_mobility_part_income[0]),int(pip_mobility_part_income[1]), 1)\n",
    "                universal_credit_income = universal_credit_standard_couple_25plus/2 + universal_credit_extra_disability_or_health_condition\n",
    "                \n",
    "                income_total = 52 * pip_income + 12 *universal_credit_income\n",
    "                \n",
    "                df_sick.at[idx_person,'Income'] = int(income_total)\n",
    "\n",
    "\n"
   ]
  },
  {
   "cell_type": "code",
   "execution_count": null,
   "metadata": {},
   "outputs": [],
   "source": []
  },
  {
   "cell_type": "code",
   "execution_count": 51,
   "metadata": {},
   "outputs": [
    {
     "data": {
      "text/plain": [
       "10863"
      ]
     },
     "execution_count": 51,
     "metadata": {},
     "output_type": "execute_result"
    }
   ],
   "source": [
    "df_sick['Income'].min()"
   ]
  },
  {
   "cell_type": "code",
   "execution_count": 52,
   "metadata": {},
   "outputs": [
    {
     "data": {
      "text/plain": [
       "24849"
      ]
     },
     "execution_count": 52,
     "metadata": {},
     "output_type": "execute_result"
    }
   ],
   "source": [
    "df_sick['Income'].max()"
   ]
  },
  {
   "cell_type": "code",
   "execution_count": 127,
   "metadata": {},
   "outputs": [
    {
     "data": {
      "image/png": "[encoded data removed]",
      "text/plain": [
       "<Figure size 432x288 with 1 Axes>"
      ]
     },
     "metadata": {},
     "output_type": "display_data"
    }
   ],
   "source": [
    "df_sick.hist(column='Income', bins=50);"
   ]
  },
  {
   "cell_type": "markdown",
   "metadata": {},
   "source": [
    "# Looking after family / home"
   ]
  },
  {
   "cell_type": "code",
   "execution_count": 56,
   "metadata": {},
   "outputs": [
    {
     "name": "stderr",
     "output_type": "stream",
     "text": [
      "C:\\Program Files\\ArcGIS\\Pro\\bin\\Python\\envs\\arcgispro-py3\\lib\\site-packages\\ipykernel_launcher.py:34: SettingWithCopyWarning: \n",
      "A value is trying to be set on a copy of a slice from a DataFrame.\n",
      "Try using .loc[row_indexer,col_indexer] = value instead\n",
      "\n",
      "See the caveats in the documentation: http://pandas.pydata.org/pandas-docs/stable/indexing.html#indexing-view-versus-copy\n"
     ]
    }
   ],
   "source": [
    "# Carers allowance\n",
    "##You could get £67.60 a week if you care for someone at least 35 hours a week and they get certain benefits.\n",
    "##You do not have to be related to, or live with, the person you care for.\n",
    "##You do not get paid extra if you care for more than one person.\n",
    "##If someone else also cares for the same person as you, only one of you can claim Carer’s Allowance.\n",
    "## https://www.gov.uk/carers-allowance\n",
    "\n",
    "carer_allowance = 67.60 #(£ weeklyly standard allowance)\n",
    "\n",
    "# Universal Credit\n",
    "##You may be able to get Universal Credit if you’re on a low income or need help with your living costs. You could be working (including self-employed or part time) or be out of work.\n",
    "#To claim you must:\n",
    "##live in the UK\n",
    "##be aged 18 or over (there are some exceptions if you’re 16 to 17)\n",
    "##be under State Pension age\n",
    "##have £16,000 or less in money, savings and investments\n",
    "## https://www.gov.uk/universal-credit\n",
    "\n",
    "universal_credit_standard_single_under25 = 257.33 #(£ extra Monthly standard allowance)\n",
    "universal_credit_standard_single_25plus = 324.84 #(£ extra Monthly standard allowance)\n",
    "universal_credit_standard_couple_under25 = 403.93 #(£ extra Monthly standard allowance)\n",
    "universal_credit_standard_couple_25plus = 509.91 #(£ extra Monthly standard allowance)\n",
    "\n",
    "universal_credit_children_first = 282.50 #(£ extra Monthly)\n",
    "universal_credit_children_second = 237.08 #(£ extra Monthly)\n",
    "\n",
    "universal_credit_extra_care = 163.73 #(£ extra Monthly)\n",
    "\n",
    "\n",
    "\n",
    "\n",
    "\n",
    "\n",
    "df_looking_after = df_persons_NE_inactive_5categories.loc[df_persons_NE_inactive_5categories['Occupation'] == 'Looking after home family']\n",
    "\n",
    "df_looking_after['Income'] = 0\n",
    "\n",
    "\n",
    "for idx_person, person in df_looking_after.iterrows():\n",
    "    \n",
    "    # If person is younger than 25:\n",
    "    if person['Age'] < 25 :\n",
    "        \n",
    "        if person['Marital_status']  == 'Single':\n",
    "        \n",
    "            if person['Total_Children_in_household'] > 0:\n",
    "            \n",
    "                if person['Total_Children_in_household'] == 1:\n",
    "                \n",
    "                    \n",
    "                    universal_credit_income = universal_credit_standard_single_under25 + universal_credit_children_first + universal_credit_extra_care\n",
    "                \n",
    "                    income_total = 52 * carer_allowance + 12 * universal_credit_income\n",
    "                \n",
    "                    df_looking_after.at[idx_person,'Income'] = int(income_total)\n",
    "                \n",
    "                \n",
    "                if person['Total_Children_in_household'] == 2:\n",
    "                \n",
    "                    \n",
    "                    universal_credit_income = universal_credit_standard_single_under25 + universal_credit_children_first + universal_credit_children_second + universal_credit_extra_care\n",
    "                \n",
    "                    income_total = 52 * carer_allowance + 12 *universal_credit_income\n",
    "                \n",
    "                    df_looking_after.at[idx_person,'Income'] = int(income_total)\n",
    "            \n",
    "            \n",
    "                if person['Total_Children_in_household'] > 2:\n",
    "                \n",
    "                    \n",
    "                    universal_credit_income = universal_credit_standard_single_under25 + universal_credit_children_first + (2* universal_credit_children_second) + universal_credit_extra_care\n",
    "                \n",
    "                    income_total = 52 * carer_allowance + 12 * universal_credit_income\n",
    "                \n",
    "                    df_looking_after.at[idx_person,'Income'] = int(income_total)\n",
    "                    \n",
    "            # if the person (single and below 25 years) does not have any children:       \n",
    "            else:\n",
    "                \n",
    "                universal_credit_income = universal_credit_standard_single_under25 + universal_credit_extra_care\n",
    "                \n",
    "                income_total = 52 * carer_allowance + 12 * universal_credit_income\n",
    "                \n",
    "                df_looking_after.at[idx_person,'Income'] = int(income_total)\n",
    "            \n",
    "        \n",
    "        # If person is below 25 and is married or couple:   \n",
    "        else:\n",
    "            \n",
    "            if person['Total_Children_in_household'] > 0:\n",
    "            \n",
    "                if person['Total_Children_in_household'] == 1:\n",
    "                \n",
    "                    \n",
    "                    universal_credit_income = universal_credit_standard_couple_under25/2 + universal_credit_children_first + universal_credit_extra_care\n",
    "                \n",
    "                    income_total = 52 * carer_allowance + 12 * universal_credit_income\n",
    "                \n",
    "                    df_looking_after.at[idx_person,'Income'] = int(income_total)\n",
    "                \n",
    "                \n",
    "                if person['Total_Children_in_household'] == 2:\n",
    "                \n",
    "                    \n",
    "                    universal_credit_income = universal_credit_standard_couple_under25/2 + universal_credit_children_first + universal_credit_children_second + universal_credit_extra_care\n",
    "                \n",
    "                    income_total = 52 * carer_allowance + 12 * universal_credit_income\n",
    "                \n",
    "                    df_looking_after.at[idx_person,'Income'] = int(income_total)\n",
    "            \n",
    "            \n",
    "                if person['Total_Children_in_household'] > 2:\n",
    "                \n",
    "                    \n",
    "                    universal_credit_income = universal_credit_standard_couple_under25/2 + universal_credit_children_first + (2* universal_credit_children_second) + universal_credit_extra_care\n",
    "                \n",
    "                    income_total = 52 * carer_allowance + 12 * universal_credit_income\n",
    "                \n",
    "                    df_looking_after.at[idx_person,'Income'] = int(income_total)\n",
    "                    \n",
    "            \n",
    "            # if the person (married or couple and below 25 years) does not have any children:       \n",
    "            else:\n",
    "                \n",
    "                universal_credit_income = universal_credit_standard_couple_under25/2 + universal_credit_extra_care\n",
    "                \n",
    "                income_total = 52 * carer_allowance + 12 * universal_credit_income\n",
    "                \n",
    "                df_looking_after.at[idx_person,'Income'] = int(income_total)\n",
    "            \n",
    "     \n",
    "    # If person is older or equal to 25:       \n",
    "    else:\n",
    "        \n",
    "        if person['Marital_status']  == 'Single':\n",
    "        \n",
    "            if person['Total_Children_in_household'] > 0:\n",
    "            \n",
    "                if person['Total_Children_in_household'] == 1:\n",
    "                \n",
    "                    \n",
    "                    universal_credit_income = universal_credit_standard_single_25plus + universal_credit_children_first + universal_credit_extra_care\n",
    "                \n",
    "                    income_total = 52 * carer_allowance + 12 * universal_credit_income\n",
    "                \n",
    "                    df_looking_after.at[idx_person,'Income'] = int(income_total)\n",
    "                \n",
    "                \n",
    "                if person['Total_Children_in_household'] == 2:\n",
    "                \n",
    "                    \n",
    "                    universal_credit_income = universal_credit_standard_single_25plus + universal_credit_children_first + universal_credit_children_second + universal_credit_extra_care\n",
    "                \n",
    "                    income_total = 52 * carer_allowance + 12 * universal_credit_income\n",
    "                \n",
    "                    df_looking_after.at[idx_person,'Income'] = int(income_total)\n",
    "            \n",
    "            \n",
    "                if person['Total_Children_in_household'] > 2:\n",
    "                \n",
    "                    \n",
    "                    universal_credit_income = universal_credit_standard_single_25plus + universal_credit_children_first + (2* universal_credit_children_second) + universal_credit_extra_care\n",
    "                \n",
    "                    income_total = 52 * carer_allowance + 12 * universal_credit_income\n",
    "                \n",
    "                    df_looking_after.at[idx_person,'Income'] = int(income_total)\n",
    "            \n",
    "        \n",
    "            # if the person (single and > 25 years) does not have any children:       \n",
    "            else:\n",
    "                \n",
    "                \n",
    "                universal_credit_income = universal_credit_standard_single_25plus + universal_credit_extra_care\n",
    "                \n",
    "                income_total = 52 * carer_allowance + 12 * universal_credit_income\n",
    "                \n",
    "                df_looking_after.at[idx_person,'Income'] = int(income_total)\n",
    "        \n",
    "        # If person is above 25 and is married or couple:   \n",
    "        else:\n",
    "            \n",
    "            if person['Total_Children_in_household'] > 0:\n",
    "            \n",
    "                if person['Total_Children_in_household'] == 1:\n",
    "                \n",
    "                    \n",
    "                    universal_credit_income = universal_credit_standard_couple_25plus/2 + universal_credit_children_first + universal_credit_extra_care\n",
    "                \n",
    "                    income_total = 52 * carer_allowance + 12 * universal_credit_income\n",
    "                \n",
    "                    df_looking_after.at[idx_person,'Income'] = int(income_total)\n",
    "                \n",
    "                \n",
    "                if person['Total_Children_in_household'] == 2:\n",
    "                \n",
    "                    \n",
    "                    universal_credit_income = universal_credit_standard_couple_25plus/2 + universal_credit_children_first + universal_credit_children_second + universal_credit_extra_care\n",
    "                \n",
    "                    income_total = 52 * carer_allowance + 12 * universal_credit_income\n",
    "                \n",
    "                    df_looking_after.at[idx_person,'Income'] = int(income_total)\n",
    "            \n",
    "            \n",
    "                if person['Total_Children_in_household'] > 2:\n",
    "                \n",
    "                    \n",
    "                    universal_credit_income = universal_credit_standard_couple_25plus/2 + universal_credit_children_first + (2* universal_credit_children_second) + universal_credit_extra_care\n",
    "                \n",
    "                    income_total = 52 * carer_allowance + 12 * universal_credit_income\n",
    "                \n",
    "                    df_looking_after.at[idx_person,'Income'] = int(income_total)\n",
    "            \n",
    "            \n",
    "            # if the person (couple/married and > 25 years) does not have any children:       \n",
    "            else:\n",
    "                \n",
    "                \n",
    "                universal_credit_income = universal_credit_standard_couple_25plus/2 + universal_credit_extra_care\n",
    "                \n",
    "                income_total = 52 * carer_allowance + 12 * universal_credit_income\n",
    "                \n",
    "                df_looking_after.at[idx_person,'Income'] = int(income_total)\n",
    "\n",
    "\n",
    "\n",
    "\n",
    "\n",
    "\n"
   ]
  },
  {
   "cell_type": "code",
   "execution_count": null,
   "metadata": {},
   "outputs": [],
   "source": []
  },
  {
   "cell_type": "code",
   "execution_count": 58,
   "metadata": {},
   "outputs": [
    {
     "data": {
      "text/plain": [
       "7903"
      ]
     },
     "execution_count": 58,
     "metadata": {},
     "output_type": "execute_result"
    }
   ],
   "source": [
    "df_looking_after['Income'].min()"
   ]
  },
  {
   "cell_type": "code",
   "execution_count": 59,
   "metadata": {},
   "outputs": [
    {
     "data": {
      "text/plain": [
       "18457"
      ]
     },
     "execution_count": 59,
     "metadata": {},
     "output_type": "execute_result"
    }
   ],
   "source": [
    "df_looking_after['Income'].max()"
   ]
  },
  {
   "cell_type": "code",
   "execution_count": 128,
   "metadata": {},
   "outputs": [
    {
     "data": {
      "image/png": "[encoded data removed]",
      "text/plain": [
       "<Figure size 432x288 with 1 Axes>"
      ]
     },
     "metadata": {},
     "output_type": "display_data"
    }
   ],
   "source": [
    "df_looking_after.hist(column='Income', bins=50);"
   ]
  },
  {
   "cell_type": "markdown",
   "metadata": {},
   "source": [
    "## other"
   ]
  },
  {
   "cell_type": "code",
   "execution_count": 61,
   "metadata": {},
   "outputs": [
    {
     "name": "stderr",
     "output_type": "stream",
     "text": [
      "C:\\Program Files\\ArcGIS\\Pro\\bin\\Python\\envs\\arcgispro-py3\\lib\\site-packages\\ipykernel_launcher.py:21: SettingWithCopyWarning: \n",
      "A value is trying to be set on a copy of a slice from a DataFrame.\n",
      "Try using .loc[row_indexer,col_indexer] = value instead\n",
      "\n",
      "See the caveats in the documentation: http://pandas.pydata.org/pandas-docs/stable/indexing.html#indexing-view-versus-copy\n"
     ]
    }
   ],
   "source": [
    "# Universal Credit\n",
    "##You may be able to get Universal Credit if you’re on a low income or need help with your living costs. You could be working (including self-employed or part time) or be out of work.\n",
    "#To claim you must:\n",
    "##live in the UK\n",
    "##be aged 18 or over (there are some exceptions if you’re 16 to 17)\n",
    "##be under State Pension age\n",
    "##have £16,000 or less in money, savings and investments\n",
    "## https://www.gov.uk/universal-credit\n",
    "\n",
    "universal_credit_standard_single_under25 = 257.33 #(£ extra Monthly standard allowance)\n",
    "universal_credit_standard_single_25plus = 324.84 #(£ extra Monthly standard allowance)\n",
    "universal_credit_standard_couple_under25 = 403.93 #(£ extra Monthly standard allowance)\n",
    "universal_credit_standard_couple_25plus = 509.91 #(£ extra Monthly standard allowance)\n",
    "\n",
    "universal_credit_children_first = 282.50 #(£ extra Monthly)\n",
    "universal_credit_children_second = 237.08 #(£ extra Monthly)\n",
    "\n",
    "\n",
    "df_Other = df_persons_NE_inactive_5categories.loc[df_persons_NE_inactive_5categories['Occupation'] == 'Other']\n",
    "\n",
    "df_Other['Income'] = 0\n",
    "\n",
    "\n",
    "for idx_person, person in df_Other.iterrows():\n",
    "    \n",
    "    # If person is younger than 25:\n",
    "    if person['Age'] < 25 :\n",
    "        \n",
    "        if person['Marital_status']  == 'Single':\n",
    "        \n",
    "            if person['Total_Children_in_household'] > 0:\n",
    "            \n",
    "                if person['Total_Children_in_household'] == 1:\n",
    "                \n",
    "                    \n",
    "                    universal_credit_income = universal_credit_standard_single_under25 + universal_credit_children_first\n",
    "                \n",
    "                    income_total = 12 * universal_credit_income\n",
    "                \n",
    "                    df_Other.at[idx_person,'Income'] = int(income_total)\n",
    "                \n",
    "                \n",
    "                if person['Total_Children_in_household'] == 2:\n",
    "                \n",
    "                    \n",
    "                    universal_credit_income = universal_credit_standard_single_under25 + universal_credit_children_first + universal_credit_children_second\n",
    "                \n",
    "                    income_total =  12 *universal_credit_income\n",
    "                \n",
    "                    df_Other.at[idx_person,'Income'] = int(income_total)\n",
    "            \n",
    "            \n",
    "                if person['Total_Children_in_household'] > 2:\n",
    "                \n",
    "                    \n",
    "                    universal_credit_income = universal_credit_standard_single_under25 + universal_credit_children_first + (2* universal_credit_children_second) \n",
    "                \n",
    "                    income_total =  12 * universal_credit_income\n",
    "                \n",
    "                    df_Other.at[idx_person,'Income'] = int(income_total)\n",
    "                    \n",
    "            # if the person (single and below 25 years) does not have any children:       \n",
    "            else:\n",
    "                \n",
    "                universal_credit_income = universal_credit_standard_single_under25 \n",
    "                \n",
    "                income_total = 12 * universal_credit_income\n",
    "                \n",
    "                df_Other.at[idx_person,'Income'] = int(income_total)\n",
    "            \n",
    "        \n",
    "        # If person is below 25 and is married or couple:   \n",
    "        else:\n",
    "            \n",
    "            if person['Total_Children_in_household'] > 0:\n",
    "            \n",
    "                if person['Total_Children_in_household'] == 1:\n",
    "                \n",
    "                    \n",
    "                    universal_credit_income = universal_credit_standard_couple_under25/2 + universal_credit_children_first \n",
    "                \n",
    "                    income_total = 12 * universal_credit_income\n",
    "                \n",
    "                    df_Other.at[idx_person,'Income'] = int(income_total)\n",
    "                \n",
    "                \n",
    "                if person['Total_Children_in_household'] == 2:\n",
    "                \n",
    "                    \n",
    "                    universal_credit_income = universal_credit_standard_couple_under25/2 + universal_credit_children_first + universal_credit_children_second \n",
    "                \n",
    "                    income_total = 12 * universal_credit_income\n",
    "                \n",
    "                    df_Other.at[idx_person,'Income'] = int(income_total)\n",
    "            \n",
    "            \n",
    "                if person['Total_Children_in_household'] > 2:\n",
    "                \n",
    "                    \n",
    "                    universal_credit_income = universal_credit_standard_couple_under25/2 + universal_credit_children_first + (2* universal_credit_children_second) \n",
    "                \n",
    "                    income_total = 12 * universal_credit_income\n",
    "                \n",
    "                    df_Other.at[idx_person,'Income'] = int(income_total)\n",
    "                    \n",
    "            \n",
    "            # if the person (married or couple and below 25 years) does not have any children:       \n",
    "            else:\n",
    "                \n",
    "                universal_credit_income = universal_credit_standard_couple_under25/2 \n",
    "                \n",
    "                income_total = 12 * universal_credit_income\n",
    "                \n",
    "                df_Other.at[idx_person,'Income'] = int(income_total)\n",
    "            \n",
    "     \n",
    "    # If person is older or equal to 25:       \n",
    "    else:\n",
    "        \n",
    "        if person['Marital_status']  == 'Single':\n",
    "        \n",
    "            if person['Total_Children_in_household'] > 0:\n",
    "            \n",
    "                if person['Total_Children_in_household'] == 1:\n",
    "                \n",
    "                    \n",
    "                    universal_credit_income = universal_credit_standard_single_25plus + universal_credit_children_first \n",
    "                \n",
    "                    income_total = 12 * universal_credit_income\n",
    "                \n",
    "                    df_Other.at[idx_person,'Income'] = int(income_total)\n",
    "                \n",
    "                \n",
    "                if person['Total_Children_in_household'] == 2:\n",
    "                \n",
    "                    \n",
    "                    universal_credit_income = universal_credit_standard_single_25plus + universal_credit_children_first + universal_credit_children_second \n",
    "                \n",
    "                    income_total = 12 * universal_credit_income\n",
    "                \n",
    "                    df_Other.at[idx_person,'Income'] = int(income_total)\n",
    "            \n",
    "            \n",
    "                if person['Total_Children_in_household'] > 2:\n",
    "                \n",
    "                    \n",
    "                    universal_credit_income = universal_credit_standard_single_25plus + universal_credit_children_first + (2* universal_credit_children_second) \n",
    "                \n",
    "                    income_total = 12 * universal_credit_income\n",
    "                \n",
    "                    df_Other.at[idx_person,'Income'] = int(income_total)\n",
    "            \n",
    "        \n",
    "            # if the person (single and > 25 years) does not have any children:       \n",
    "            else:\n",
    "                \n",
    "                \n",
    "                universal_credit_income = universal_credit_standard_single_25plus \n",
    "                \n",
    "                income_total = 12 * universal_credit_income\n",
    "                \n",
    "                df_Other.at[idx_person,'Income'] = int(income_total)\n",
    "        \n",
    "        # If person is above 25 and is married or couple:   \n",
    "        else:\n",
    "            \n",
    "            if person['Total_Children_in_household'] > 0:\n",
    "            \n",
    "                if person['Total_Children_in_household'] == 1:\n",
    "                \n",
    "                    \n",
    "                    universal_credit_income = universal_credit_standard_couple_25plus/2 + universal_credit_children_first \n",
    "                \n",
    "                    income_total = 12 * universal_credit_income\n",
    "                \n",
    "                    df_Other.at[idx_person,'Income'] = int(income_total)\n",
    "                \n",
    "                \n",
    "                if person['Total_Children_in_household'] == 2:\n",
    "                \n",
    "                    \n",
    "                    universal_credit_income = universal_credit_standard_couple_25plus/2 + universal_credit_children_first + universal_credit_children_second \n",
    "                \n",
    "                    income_total = 12 * universal_credit_income\n",
    "                \n",
    "                    df_Other.at[idx_person,'Income'] = int(income_total)\n",
    "            \n",
    "            \n",
    "                if person['Total_Children_in_household'] > 2:\n",
    "                \n",
    "                    \n",
    "                    universal_credit_income = universal_credit_standard_couple_25plus/2 + universal_credit_children_first + (2* universal_credit_children_second) \n",
    "                \n",
    "                    income_total = 12 * universal_credit_income\n",
    "                \n",
    "                    df_Other.at[idx_person,'Income'] = int(income_total)\n",
    "            \n",
    "            \n",
    "            # if the person (couple/married and > 25 years) does not have any children:       \n",
    "            else:\n",
    "                \n",
    "                \n",
    "                universal_credit_income = universal_credit_standard_couple_25plus/2 \n",
    "                \n",
    "                income_total = 12 * universal_credit_income\n",
    "                \n",
    "                df_Other.at[idx_person,'Income'] = int(income_total)\n",
    "\n",
    "\n",
    "\n",
    "\n",
    "\n",
    "\n",
    "\n",
    "\n"
   ]
  },
  {
   "cell_type": "code",
   "execution_count": null,
   "metadata": {},
   "outputs": [],
   "source": []
  },
  {
   "cell_type": "code",
   "execution_count": 63,
   "metadata": {},
   "outputs": [
    {
     "data": {
      "text/plain": [
       "2423"
      ]
     },
     "execution_count": 63,
     "metadata": {},
     "output_type": "execute_result"
    }
   ],
   "source": [
    "df_Other['Income'].min()"
   ]
  },
  {
   "cell_type": "code",
   "execution_count": 64,
   "metadata": {},
   "outputs": [
    {
     "data": {
      "text/plain": [
       "12978"
      ]
     },
     "execution_count": 64,
     "metadata": {},
     "output_type": "execute_result"
    }
   ],
   "source": [
    "df_Other['Income'].max()"
   ]
  },
  {
   "cell_type": "code",
   "execution_count": 129,
   "metadata": {},
   "outputs": [
    {
     "data": {
      "image/png": "[encoded data removed]",
      "text/plain": [
       "<Figure size 432x288 with 1 Axes>"
      ]
     },
     "metadata": {},
     "output_type": "display_data"
    }
   ],
   "source": [
    "df_Other.hist(column='Income', bins=50);"
   ]
  },
  {
   "cell_type": "markdown",
   "metadata": {},
   "source": [
    "## Student"
   ]
  },
  {
   "cell_type": "code",
   "execution_count": 116,
   "metadata": {},
   "outputs": [
    {
     "name": "stderr",
     "output_type": "stream",
     "text": [
      "C:\\Program Files\\ArcGIS\\Pro\\bin\\Python\\envs\\arcgispro-py3\\lib\\site-packages\\ipykernel_launcher.py:26: SettingWithCopyWarning: \n",
      "A value is trying to be set on a copy of a slice from a DataFrame.\n",
      "Try using .loc[row_indexer,col_indexer] = value instead\n",
      "\n",
      "See the caveats in the documentation: http://pandas.pydata.org/pandas-docs/stable/indexing.html#indexing-view-versus-copy\n"
     ]
    }
   ],
   "source": [
    "#National Living Wage and National Minimum Wage: government response to the Low Pay Commission’s Autumn 2019 recommendations\n",
    "##https://www.gov.uk/government/publications/national-living-wage-and-national-minimum-wage-government-response-to-the-low-pay-commissions-autumn-2019-recommendations\n",
    "\n",
    "#Details\n",
    "# £8.21 for workers aged 25 and over (the National Living Wage)\n",
    "# £7.70 for 21 to 24-year-olds\n",
    "# £6.15 for 18 to 20-year-olds\n",
    "# £4.35 for 16 to 17-year-olds\n",
    "# £3.90 for apprentices aged under 19 or in the first year of their apprenticeship\n",
    "\n",
    "\n",
    "#Min and max wage per hours (rounded values)\n",
    "## Min income refers to te national minimum wage per age.\n",
    "## Maximum income is an estimate value chosen after several iterations\n",
    "income_age_16_17 = [4, 6]\n",
    "income_age_18_20 = [5, 10]\n",
    "income_age_21_24 = [6, 15]\n",
    "income_age_25_plus = [8,20]\n",
    "\n",
    "# min and max hours worked per week:\n",
    "weekly_working_hours = [5,20]\n",
    "\n",
    "\n",
    "df_student = df_persons_NE_inactive_5categories.loc[df_persons_NE_inactive_5categories['Occupation'] == 'Student']\n",
    "\n",
    "df_student['Income'] = 0\n",
    "\n",
    "\n",
    "for idx_person, person in df_student.iterrows():\n",
    "    \n",
    "    \n",
    "    if (person['Age'] >= 16  and  person['Age'] <= 17):\n",
    "        \n",
    "        df_student.at[idx_person,'Income'] = random.randrange(int(income_age_16_17[0]),int(income_age_16_17[1]), 1) * random.randrange(int(weekly_working_hours[0]),int(weekly_working_hours[1]), 1) * 52\n",
    "\n",
    "    elif (person['Age'] >= 18  and  person['Age'] <= 20):\n",
    "        \n",
    "        df_student.at[idx_person,'Income'] = random.randrange(int(income_age_18_20[0]),int(income_age_18_20[1]), 1) * random.randrange(int(weekly_working_hours[0]),int(weekly_working_hours[1]), 1) * 52\n",
    "\n",
    "    elif (person['Age'] >= 21  and  person['Age'] <= 24):\n",
    "        \n",
    "        df_student.at[idx_person,'Income'] = random.randrange(int(income_age_21_24[0]),int(income_age_21_24[1]), 1) * random.randrange(int(weekly_working_hours[0]),int(weekly_working_hours[1]), 1) * 52\n",
    "\n",
    "    elif (person['Age'] >= 25):\n",
    "        \n",
    "        df_student.at[idx_person,'Income'] = random.randrange(int(income_age_25_plus[0]),int(income_age_25_plus[1]), 1) * random.randrange(int(weekly_working_hours[0]),int(weekly_working_hours[1]), 1) * 52\n",
    "\n",
    "        \n",
    "\n"
   ]
  },
  {
   "cell_type": "code",
   "execution_count": null,
   "metadata": {},
   "outputs": [],
   "source": []
  },
  {
   "cell_type": "code",
   "execution_count": 117,
   "metadata": {},
   "outputs": [
    {
     "data": {
      "text/plain": [
       "1040"
      ]
     },
     "execution_count": 117,
     "metadata": {},
     "output_type": "execute_result"
    }
   ],
   "source": [
    "df_student['Income'].min()"
   ]
  },
  {
   "cell_type": "code",
   "execution_count": 118,
   "metadata": {},
   "outputs": [
    {
     "data": {
      "text/plain": [
       "18772"
      ]
     },
     "execution_count": 118,
     "metadata": {},
     "output_type": "execute_result"
    }
   ],
   "source": [
    "df_student['Income'].max()"
   ]
  },
  {
   "cell_type": "code",
   "execution_count": 130,
   "metadata": {},
   "outputs": [
    {
     "data": {
      "image/png": "[encoded data removed]",
      "text/plain": [
       "<Figure size 432x288 with 1 Axes>"
      ]
     },
     "metadata": {},
     "output_type": "display_data"
    }
   ],
   "source": [
    "df_student.hist(column='Income', bins=50);"
   ]
  },
  {
   "cell_type": "code",
   "execution_count": null,
   "metadata": {},
   "outputs": [],
   "source": []
  },
  {
   "cell_type": "code",
   "execution_count": 120,
   "metadata": {},
   "outputs": [],
   "source": [
    "# Concatenate all dataframes updated with the income values:\n",
    "df_persons_NE_inactive_5categories_income = (pd.concat([df_retired__updated_all, df_sick, df_looking_after, df_Other, df_student]))\n",
    "\n"
   ]
  },
  {
   "cell_type": "code",
   "execution_count": null,
   "metadata": {},
   "outputs": [],
   "source": []
  },
  {
   "cell_type": "code",
   "execution_count": 122,
   "metadata": {},
   "outputs": [],
   "source": [
    "# Save dataframe\n",
    "df_persons_NE_inactive_5categories_income_export_20220306_correct = df_persons_NE_inactive_5categories_income\n",
    "df_persons_NE_inactive_5categories_income_export_20220306_correct.to_csv(r'C:\\Users\\b9055315\\Documents\\PhD_PROJECT\\Synthetic_population_developement\\SPENSER\\Data\\2019\\income\\inactive\\df_persons_NE_inactive_5categories_income_export_20220306_correct.csv', encoding='utf-8', header=True)\n"
   ]
  },
  {
   "cell_type": "code",
   "execution_count": null,
   "metadata": {},
   "outputs": [],
   "source": []
  },
  {
   "cell_type": "code",
   "execution_count": 135,
   "metadata": {},
   "outputs": [
    {
     "data": {
      "image/png": "[encoded data removed]",
      "text/plain": [
       "<Figure size 432x288 with 1 Axes>"
      ]
     },
     "metadata": {},
     "output_type": "display_data"
    }
   ],
   "source": [
    "df_persons_NE_inactive_5categories_income.hist(column='Income', bins=20);"
   ]
  },
  {
   "cell_type": "code",
   "execution_count": null,
   "metadata": {},
   "outputs": [],
   "source": [
    "## there are a lot of retired people (age > 65)"
   ]
  },
  {
   "cell_type": "code",
   "execution_count": null,
   "metadata": {},
   "outputs": [],
   "source": []
  },
  {
   "cell_type": "code",
   "execution_count": null,
   "metadata": {},
   "outputs": [],
   "source": []
  }
 ],
 "metadata": {
  "kernelspec": {
   "display_name": "Python 3 (ipykernel)",
   "language": "python",
   "name": "python3"
  },
  "language_info": {
   "codemirror_mode": {
    "name": "ipython",
    "version": 3
   },
   "file_extension": ".py",
   "mimetype": "text/x-python",
   "name": "python",
   "nbconvert_exporter": "python",
   "pygments_lexer": "ipython3",
   "version": "3.8.12"
  }
 },
 "nbformat": 4,
 "nbformat_minor": 2
}
