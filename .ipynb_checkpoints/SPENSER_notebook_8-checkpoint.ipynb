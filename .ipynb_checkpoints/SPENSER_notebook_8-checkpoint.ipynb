{
 "cells": [
  {
   "cell_type": "code",
   "execution_count": 1,
   "metadata": {},
   "outputs": [],
   "source": [
    "import glob\n",
    "import pandas as pd\n",
    "import numpy as np\n",
    "import os\n",
    "import csv\n",
    "import sys"
   ]
  },
  {
   "cell_type": "code",
   "execution_count": 2,
   "metadata": {},
   "outputs": [],
   "source": [
    "#Read CSV file containing the persons with an income value from spenser_ntebook_7\n",
    "df_income_dir = r'C:\\Users\\b9055315\\Documents\\PhD_PROJECT\\Synthetic_population_developement\\SPENSER\\Data\\2019\\income' # use your path\n",
    "df_income_file = os.path.join(df_income_dir, \"df_income_all_saved_20220216.csv\")\n",
    "df_income = pd.read_csv(df_income_file, index_col=None, header=0)"
   ]
  },
  {
   "cell_type": "code",
   "execution_count": 3,
   "metadata": {},
   "outputs": [
    {
     "data": {
      "text/plain": [
       "1283655"
      ]
     },
     "execution_count": 3,
     "metadata": {},
     "output_type": "execute_result"
    }
   ],
   "source": [
    "len(df_income)"
   ]
  },
  {
   "cell_type": "markdown",
   "metadata": {},
   "source": [
    "### Function to swap income values between people within the same occupation and same sex.\n",
    "\n",
    "### This is required because it was observed that in general, people aged between 40-49 were earning more than expected, while people between 18-21, 22-29, 30-39, 50-59 and 60+ were earning less than expected\n",
    "\n",
    "### The following function is just to fix first the income of people aged 18-21, just swapping their income with people aged 22-29 and 60-120"
   ]
  },
  {
   "cell_type": "code",
   "execution_count": 4,
   "metadata": {},
   "outputs": [
    {
     "name": "stdout",
     "output_type": "stream",
     "text": [
      "1\n",
      "2\n",
      "3\n",
      "4\n",
      "5\n",
      "6\n",
      "7\n",
      "8\n",
      "9\n",
      "code has finished. Check the results!\n"
     ]
    }
   ],
   "source": [
    "# fix first the income of people aged 18-21, just swapping their income with people aged 22-29 and 60-120\n",
    "\n",
    "occupation_list = [1,2,3,4,5,6,7,8,9]\n",
    "\n",
    "gender_list = [1,2]\n",
    "\n",
    "age_list = [(16,17), (18,21), (22,29), (30,39), (40,49), (50,59), (60, 120)]\n",
    "\n",
    "people_NE_income_updated_list = []\n",
    "\n",
    "\n",
    "\n",
    "for occupation in occupation_list:\n",
    "    \n",
    "    print(occupation)\n",
    "    \n",
    "    for gender in gender_list:\n",
    "        \n",
    "        #Select those agents of a specific occupation and gender\n",
    "        df_income_occupation_gender = df_income.loc[(df_income['Occupation'] == occupation) & (df_income['Sex'] == gender)]\n",
    "        \n",
    "        # Select those agents by range of age:    \n",
    "        df_income_occupation_gender_18_21 = df_income_occupation_gender.loc[(df_income_occupation_gender['Age'] >= age_list[1][0]) & (df_income_occupation_gender['Age'] <= age_list[1][1])]\n",
    "        df_income_occupation_gender_22_29 = df_income_occupation_gender.loc[(df_income_occupation_gender['Age'] >= age_list[2][0]) & (df_income_occupation_gender['Age'] <= age_list[2][1])]\n",
    "        df_income_occupation_gender_60_120 = df_income_occupation_gender.loc[(df_income_occupation_gender['Age'] >= age_list[6][0]) & (df_income_occupation_gender['Age'] <= age_list[6][1])]\n",
    "\n",
    "\n",
    "        # 10% of people between 22-29 will swap their income\n",
    "        df_income_occupation_gender_22_29_change = df_income_occupation_gender_22_29.sample(int(round(len(df_income_occupation_gender_22_29)*0.069,0)))\n",
    "        \n",
    "\n",
    "        # 10% of people between 60-120 will swap their income\n",
    "        df_income_occupation_gender_60_120_change = df_income_occupation_gender_60_120.sample(int(round(len(df_income_occupation_gender_60_120)*0.069,0)))\n",
    "        \n",
    "        \n",
    "        # concatenate both dataframes\n",
    "        df_income_occupation_gender_22_29_60_120_change = (pd.concat([df_income_occupation_gender_22_29_change, df_income_occupation_gender_60_120_change]))\n",
    "        \n",
    "        \n",
    "        # people between 18-21 years selected to update their income\n",
    "        df_income_occupation_gender_18_21_change = df_income_occupation_gender_18_21.sample(int(round(len(df_income_occupation_gender_22_29_60_120_change),0)))\n",
    "\n",
    "\n",
    "        \n",
    "        # Save into lists the income values selected in each of the previous groups:\n",
    "        income_18_21_list = df_income_occupation_gender_18_21_change['Income'].tolist()\n",
    "        income_22_29_60_120_list = df_income_occupation_gender_22_29_60_120_change['Income'].tolist() \n",
    "\n",
    "        \n",
    "        #split the income_18_21_list in two equal parts\n",
    "        income_22_29_list, income_60_120_list = np.split(income_18_21_list, [int(round(len(income_18_21_list) * 0.5,0))])\n",
    "        \n",
    "        \n",
    "            \n",
    "        if (len(income_22_29_60_120_list) < len(df_income_occupation_gender_18_21_change)):\n",
    "                \n",
    "            a = len(df_income_occupation_gender_18_21_change) - len(income_22_29_60_120_list)\n",
    "            df_income_occupation_gender_18_21_change = df_income_occupation_gender_18_21_change[:-a]\n",
    "                \n",
    "                \n",
    "                \n",
    "        if (len(income_22_29_60_120_list) > len(df_income_occupation_gender_18_21_change)):\n",
    "                \n",
    "            aa = len(income_22_29_60_120_list) - len(df_income_occupation_gender_18_21_change)\n",
    "            income_22_29_60_120_list = income_22_29_60_120_list[:-a]\n",
    "                \n",
    "                \n",
    "                \n",
    "        if (len(income_22_29_list) < len(df_income_occupation_gender_22_29_change)):\n",
    "                \n",
    "            b = len(df_income_occupation_gender_22_29_change) - len(income_22_29_list)\n",
    "            df_income_occupation_gender_22_29_change = df_income_occupation_gender_22_29_change[:-b]\n",
    "                \n",
    "\n",
    "                \n",
    "        if (len(income_22_29_list) > len(df_income_occupation_gender_22_29_change)):\n",
    "                \n",
    "            bb = len(income_22_29_list) - len(df_income_occupation_gender_22_29_change)\n",
    "            income_22_29_list = income_22_29_list[:-bb]\n",
    "                \n",
    "\n",
    "\n",
    "                \n",
    "        if (len(income_60_120_list) < len(df_income_occupation_gender_60_120_change)):\n",
    "                \n",
    "            c = len(df_income_occupation_gender_60_120_change) - len(income_60_120_list)\n",
    "            df_income_occupation_gender_60_120_change = df_income_occupation_gender_60_120_change[:-c]\n",
    "            \n",
    "\n",
    "                \n",
    "            \n",
    "        if (len(income_60_120_list) > len(df_income_occupation_gender_60_120_change)):\n",
    "                \n",
    "            cc = len(income_60_120_list) - len(df_income_occupation_gender_60_120_change)\n",
    "            income_60_120_list = income_60_120_list[:-cc]\n",
    "            \n",
    "\n",
    "        df_income_occupation_gender_18_21_change['Income'] = income_22_29_60_120_list\n",
    "        \n",
    "\n",
    "        df_income_occupation_gender_22_29_change['Income'] = income_22_29_list\n",
    "        \n",
    "   \n",
    "        df_income_occupation_gender_60_120_change['Income'] = income_60_120_list\n",
    "\n",
    "\n",
    "        \n",
    "        # Concatenate all previous generated dataframes\n",
    "        df_income_occupation_gender_updated = (pd.concat([df_income_occupation_gender_18_21_change, df_income_occupation_gender_22_29_change, df_income_occupation_gender_60_120_change]))\n",
    " \n",
    "        #Append the dataframe into the temporal list\n",
    "        people_NE_income_updated_list.append(df_income_occupation_gender_updated)\n",
    "        \n",
    "        \n",
    "#concatenate all people \"LONGTERM SICK\" in one dataframe\n",
    "df_people_NE_income_updated_all_first_stage = pd.concat(people_NE_income_updated_list, axis=0, ignore_index=True)\n",
    "        \n",
    "print('code has finished. Check the results!')\n"
   ]
  },
  {
   "cell_type": "code",
   "execution_count": 5,
   "metadata": {},
   "outputs": [],
   "source": [
    "# List containing those agents which income has been updated\n",
    "agents_updated_list = df_people_NE_income_updated_all_first_stage['PID_AreaMSOA'].tolist()\n",
    "        \n",
    "# Remove from the original \n",
    "df_income_no_updated = df_income[~df_income['PID_AreaMSOA'].isin(agents_updated_list)]\n"
   ]
  },
  {
   "cell_type": "code",
   "execution_count": 6,
   "metadata": {},
   "outputs": [
    {
     "data": {
      "text/plain": [
       "48093"
      ]
     },
     "execution_count": 6,
     "metadata": {},
     "output_type": "execute_result"
    }
   ],
   "source": [
    "len(df_people_NE_income_updated_all_first_stage)"
   ]
  },
  {
   "cell_type": "code",
   "execution_count": 7,
   "metadata": {},
   "outputs": [
    {
     "data": {
      "text/plain": [
       "1235562"
      ]
     },
     "execution_count": 7,
     "metadata": {},
     "output_type": "execute_result"
    }
   ],
   "source": [
    "len(df_income_no_updated)"
   ]
  },
  {
   "cell_type": "code",
   "execution_count": 8,
   "metadata": {},
   "outputs": [
    {
     "data": {
      "text/plain": [
       "0"
      ]
     },
     "execution_count": 8,
     "metadata": {},
     "output_type": "execute_result"
    }
   ],
   "source": [
    "# Check if there is any dupplicates\n",
    "len(df_income) - len(df_people_NE_income_updated_all_first_stage) - len(df_income_no_updated)"
   ]
  },
  {
   "cell_type": "code",
   "execution_count": 9,
   "metadata": {},
   "outputs": [
    {
     "data": {
      "text/plain": [
       "1283655"
      ]
     },
     "execution_count": 9,
     "metadata": {},
     "output_type": "execute_result"
    }
   ],
   "source": [
    "# Concatenate all previous generated dataframes\n",
    "df_income_new = (pd.concat([df_income_no_updated, df_people_NE_income_updated_all_first_stage]))\n",
    "\n",
    "len(df_income_new)\n"
   ]
  },
  {
   "cell_type": "code",
   "execution_count": 10,
   "metadata": {},
   "outputs": [
    {
     "data": {
      "text/plain": [
       "1283655"
      ]
     },
     "execution_count": 10,
     "metadata": {},
     "output_type": "execute_result"
    }
   ],
   "source": [
    "# Check again if there are duplicates\n",
    "df_income_new_1 = df_income_new\n",
    "\n",
    "# Remove duplicates\n",
    "df_income_new_1 = df_income_new_1.drop_duplicates(subset='PID_AreaMSOA',keep = False)\n",
    "\n",
    "\n",
    "len(df_income_new_1)\n"
   ]
  },
  {
   "cell_type": "code",
   "execution_count": 11,
   "metadata": {},
   "outputs": [
    {
     "data": {
      "text/plain": [
       "1283655"
      ]
     },
     "execution_count": 11,
     "metadata": {},
     "output_type": "execute_result"
    }
   ],
   "source": [
    "len(df_income)"
   ]
  },
  {
   "cell_type": "markdown",
   "metadata": {},
   "source": [
    "### Check the median income value per range of age:"
   ]
  },
  {
   "cell_type": "code",
   "execution_count": 14,
   "metadata": {},
   "outputs": [
    {
     "data": {
      "text/plain": [
       "5500.0"
      ]
     },
     "execution_count": 14,
     "metadata": {},
     "output_type": "execute_result"
    }
   ],
   "source": [
    "df_income_all_1 = df_income_new.loc[(df_income_new['Age'] >=16) & (df_income_new['Age'] <=17)]\n",
    "\n",
    "df_income_all_1[\"Income\"].median()"
   ]
  },
  {
   "cell_type": "code",
   "execution_count": 15,
   "metadata": {},
   "outputs": [
    {
     "data": {
      "text/plain": [
       "9380.0"
      ]
     },
     "execution_count": 15,
     "metadata": {},
     "output_type": "execute_result"
    }
   ],
   "source": [
    "df_income_all_2 = df_income_new.loc[(df_income_new['Age'] >=18) & (df_income_new['Age'] <=21)]\n",
    "\n",
    "df_income_all_2[\"Income\"].median()"
   ]
  },
  {
   "cell_type": "code",
   "execution_count": 16,
   "metadata": {},
   "outputs": [
    {
     "data": {
      "text/plain": [
       "16590.0"
      ]
     },
     "execution_count": 16,
     "metadata": {},
     "output_type": "execute_result"
    }
   ],
   "source": [
    "df_income_all_3 = df_income_new.loc[(df_income_new['Age'] >=22) & (df_income_new['Age'] <=29)]\n",
    "\n",
    "df_income_all_3[\"Income\"].median()"
   ]
  },
  {
   "cell_type": "code",
   "execution_count": 17,
   "metadata": {},
   "outputs": [
    {
     "data": {
      "text/plain": [
       "24940.0"
      ]
     },
     "execution_count": 17,
     "metadata": {},
     "output_type": "execute_result"
    }
   ],
   "source": [
    "df_income_all_4 = df_income_new.loc[(df_income_new['Age'] >=30) & (df_income_new['Age'] <=39)]\n",
    "\n",
    "df_income_all_4[\"Income\"].median()"
   ]
  },
  {
   "cell_type": "code",
   "execution_count": 18,
   "metadata": {},
   "outputs": [
    {
     "data": {
      "text/plain": [
       "39880.0"
      ]
     },
     "execution_count": 18,
     "metadata": {},
     "output_type": "execute_result"
    }
   ],
   "source": [
    "df_income_all_5 = df_income_new.loc[(df_income_new['Age'] >=40) & (df_income_new['Age'] <=49)]\n",
    "\n",
    "df_income_all_5[\"Income\"].median()"
   ]
  },
  {
   "cell_type": "code",
   "execution_count": 19,
   "metadata": {},
   "outputs": [
    {
     "data": {
      "text/plain": [
       "26430.0"
      ]
     },
     "execution_count": 19,
     "metadata": {},
     "output_type": "execute_result"
    }
   ],
   "source": [
    "df_income_all_6 = df_income_new.loc[(df_income_new['Age'] >=50) & (df_income_new['Age'] <=59)]\n",
    "\n",
    "df_income_all_6[\"Income\"].median()"
   ]
  },
  {
   "cell_type": "code",
   "execution_count": 20,
   "metadata": {},
   "outputs": [
    {
     "data": {
      "text/plain": [
       "15050.0"
      ]
     },
     "execution_count": 20,
     "metadata": {},
     "output_type": "execute_result"
    }
   ],
   "source": [
    "df_income_all_7 = df_income_new.loc[(df_income_new['Age'] >=60)]\n",
    "\n",
    "df_income_all_7[\"Income\"].median()"
   ]
  },
  {
   "cell_type": "code",
   "execution_count": 21,
   "metadata": {},
   "outputs": [
    {
     "data": {
      "text/plain": [
       "23060.0"
      ]
     },
     "execution_count": 21,
     "metadata": {},
     "output_type": "execute_result"
    }
   ],
   "source": [
    "df_income_new[\"Income\"].median()"
   ]
  },
  {
   "cell_type": "code",
   "execution_count": null,
   "metadata": {},
   "outputs": [],
   "source": []
  },
  {
   "cell_type": "code",
   "execution_count": null,
   "metadata": {},
   "outputs": [],
   "source": []
  },
  {
   "cell_type": "code",
   "execution_count": null,
   "metadata": {},
   "outputs": [],
   "source": []
  },
  {
   "cell_type": "markdown",
   "metadata": {},
   "source": [
    "### Function to swap income values between people within the same occupation and same sex.\n",
    "\n",
    "### This is required because it was observed that in general, people aged between 40-49 were earning more than expected, while people between 18-21, 22-29, 30-39, 50-59 and 60+ were earning less than expected\n",
    "\n",
    "\n",
    "### The following function is just to swap the income values between 22-29, 30-39, 40-49, 50-59 and 60+ in order to balance their mean gross annual income"
   ]
  },
  {
   "cell_type": "code",
   "execution_count": 64,
   "metadata": {},
   "outputs": [
    {
     "name": "stdout",
     "output_type": "stream",
     "text": [
      "1\n",
      "2\n",
      "3\n",
      "4\n",
      "5\n",
      "6\n",
      "7\n",
      "8\n",
      "9\n",
      "code has finished. Check the results!\n"
     ]
    }
   ],
   "source": [
    "## swap the income values between 22-29, 30-39, 40-49, 50-59 and 60+ in order to balance their mean gross annual income\n",
    "\n",
    "occupation_list = [1,2,3,4,5,6,7,8,9]\n",
    "\n",
    "gender_list = [1,2]\n",
    "\n",
    "age_list = [(16,17), (18,21), (22,29), (30,39), (40,49), (50,59), (60, 120)]\n",
    "\n",
    "people_NE_income_updated_list = []\n",
    "\n",
    "\n",
    "\n",
    "for occupation in occupation_list:\n",
    "    \n",
    "    print(occupation)\n",
    "    \n",
    "    for gender in gender_list:\n",
    "        \n",
    "        #Select those agents of a specific occupation and gender\n",
    "        df_income_occupation_gender = df_income_new.loc[(df_income_new['Occupation'] == occupation) & (df_income_new['Sex'] == gender)]\n",
    "        \n",
    "        # Select those agents by range of age:    \n",
    "        df_income_occupation_gender_22_29 = df_income_occupation_gender.loc[(df_income_occupation_gender['Age'] >= age_list[2][0]) & (df_income_occupation_gender['Age'] <= age_list[2][1])]\n",
    "        df_income_occupation_gender_30_39 = df_income_occupation_gender.loc[(df_income_occupation_gender['Age'] >= age_list[3][0]) & (df_income_occupation_gender['Age'] <= age_list[3][1])]\n",
    "        df_income_occupation_gender_40_49 = df_income_occupation_gender.loc[(df_income_occupation_gender['Age'] >= age_list[4][0]) & (df_income_occupation_gender['Age'] <= age_list[4][1])]\n",
    "        df_income_occupation_gender_50_59 = df_income_occupation_gender.loc[(df_income_occupation_gender['Age'] >= age_list[5][0]) & (df_income_occupation_gender['Age'] <= age_list[5][1])]\n",
    "        df_income_occupation_gender_60_120 = df_income_occupation_gender.loc[(df_income_occupation_gender['Age'] >= age_list[6][0]) & (df_income_occupation_gender['Age'] <= age_list[6][1])]\n",
    "\n",
    "        \n",
    "        \n",
    "        # 45% of people between 40-49 will swap their income\n",
    "        df_income_occupation_gender_40_49_change = df_income_occupation_gender_40_49.sample(int(round(len(df_income_occupation_gender_40_49)*0.46,0)))\n",
    "        \n",
    "        # 15% of people between 50-59 will swap their income\n",
    "        df_income_occupation_gender_50_59_change = df_income_occupation_gender_50_59.sample(int(round(len(df_income_occupation_gender_50_59)*0.15,0)))\n",
    "        \n",
    "        \n",
    "        df_income_occupation_gender_40_49_50_59_change = (pd.concat([df_income_occupation_gender_40_49_change, df_income_occupation_gender_50_59_change]))\n",
    " \n",
    "        \n",
    "        #Split the lists of people that have to reduce their income proportionally to those people that have to increase their income\n",
    "        ratio_22_29 = 0.44\n",
    "        ratio_30_39 = 0.24\n",
    "        ratio_60_120 = 0.32\n",
    "        \n",
    "        # Select those people between (22-29, 30-39 and 60-120) years that are going to swap their income with people between 40-49 years\n",
    "        ## Age 22-29 --> 50% of the selected people aged 40-49\n",
    "        df_income_occupation_gender_22_29_change = df_income_occupation_gender_22_29.sample(int(round(len(df_income_occupation_gender_40_49_50_59_change)* ratio_22_29,0)))\n",
    "        ## Age 30-39 --> 20% of the selected people aged 40-49\n",
    "        df_income_occupation_gender_30_39_change = df_income_occupation_gender_30_39.sample(int(round(len(df_income_occupation_gender_40_49_50_59_change)* ratio_30_39,0)))\n",
    "        ## Age 60-120 --> 30% of the selected people aged 40-49\n",
    "        df_income_occupation_gender_60_120_change = df_income_occupation_gender_60_120.sample(int(round(len(df_income_occupation_gender_40_49_50_59_change)* ratio_60_120,0)))\n",
    "        \n",
    "        \n",
    "        \n",
    "        # Save into lists the income values selected in each of the previous groups:\n",
    "        #income_16_17_list = df_income_occupation_gender_16_17_change['Income'].tolist()\n",
    "        income_18_21_list = df_income_occupation_gender_18_21_change['Income'].tolist()\n",
    "        income_22_29_list = df_income_occupation_gender_22_29_change['Income'].tolist() \n",
    "        income_30_39_list = df_income_occupation_gender_30_39_change['Income'].tolist()\n",
    "        income_40_49_list = df_income_occupation_gender_40_49_change['Income'].tolist()\n",
    "        income_50_59_list = df_income_occupation_gender_50_59_change['Income'].tolist()\n",
    "        income_60_120_list = df_income_occupation_gender_60_120_change['Income'].tolist()\n",
    "        \n",
    "        \n",
    "        income_40_49_50_59_list = income_40_49_list + income_50_59_list\n",
    "        \n",
    "        \n",
    "\n",
    "        income_40_49_50_59_to_22_29_list, income_40_49_50_59_to_30_39_list, income_40_49_50_59_to_60_120_list = np.split(income_40_49_50_59_list, [int(round(len(income_40_49_50_59_list) * ratio_22_29,0)), int(round(len(income_40_49_50_59_list)*(ratio_22_29 + ratio_30_39),0))])\n",
    "        \n",
    "        \n",
    "        income_22_29_30_39_60_120__to__40_49_50_59_list = income_22_29_list + income_30_39_list + income_60_120_list\n",
    "        \n",
    "            \n",
    "        if (len(income_40_49_50_59_to_22_29_list) < len(df_income_occupation_gender_22_29_change)):\n",
    "                \n",
    "            a = len(df_income_occupation_gender_22_29_change) - len(income_40_49_50_59_to_22_29_list)\n",
    "            df_income_occupation_gender_22_29_change = df_income_occupation_gender_22_29_change[:-a]\n",
    "                \n",
    "            #print('fixed dataframe')\n",
    "                \n",
    "                \n",
    "        if (len(income_40_49_50_59_to_22_29_list) > len(df_income_occupation_gender_22_29_change)):\n",
    "                \n",
    "            aa = len(income_40_49_to_22_29_list) - len(df_income_occupation_gender_22_29_change)\n",
    "            income_40_49_50_59_to_22_29_list = income_40_49_50_59_to_22_29_list[:-a]\n",
    "                \n",
    "            #print('fixed list')\n",
    "                \n",
    "                \n",
    "        if (len(income_40_49_50_59_to_30_39_list) < len(df_income_occupation_gender_30_39_change)):\n",
    "                \n",
    "            b = len(df_income_occupation_gender_30_39_change) - len(income_40_49_50_59_to_30_39_list)\n",
    "            df_income_occupation_gender_30_39_change = df_income_occupation_gender_30_39_change[:-b]\n",
    "                \n",
    "            #print('fixed dataframe')\n",
    "                \n",
    "        if (len(income_40_49_50_59_to_30_39_list) > len(df_income_occupation_gender_30_39_change)):\n",
    "                \n",
    "            bb = len(income_40_49_50_59_to_30_39_list) - len(df_income_occupation_gender_30_39_change)\n",
    "            income_40_49_50_59_to_30_39_list = income_40_49_50_59_to_30_39_list[:-bb]\n",
    "                \n",
    "            #print('fixed list')\n",
    "\n",
    "                \n",
    "        if (len(income_40_49_50_59_to_60_120_list) < len(df_income_occupation_gender_60_120_change)):\n",
    "                \n",
    "            c = len(df_income_occupation_gender_60_120_change) - len(income_40_49_50_59_to_60_120_list)\n",
    "            df_income_occupation_gender_60_120_change = df_income_occupation_gender_60_120_change[:-c]\n",
    "            \n",
    "            #print('fixed dataframe')\n",
    "                \n",
    "            \n",
    "        if (len(income_40_49_50_59_to_60_120_list) > len(df_income_occupation_gender_60_120_change)):\n",
    "                \n",
    "            cc = len(income_40_49_50_59_to_60_120_list) - len(df_income_occupation_gender_60_120_change)\n",
    "            income_40_49_50_59_to_60_120_list = income_40_49_50_59_to_60_120_list[:-cc]\n",
    "            \n",
    "            #print('fixed list')\n",
    "\n",
    "        \n",
    "        # Swap the values\n",
    "\n",
    "        df_income_occupation_gender_22_29_change['Income'] = income_40_49_50_59_to_22_29_list\n",
    "        \n",
    "        df_income_occupation_gender_30_39_change['Income'] = income_40_49_50_59_to_30_39_list\n",
    "        \n",
    "        df_income_occupation_gender_60_120_change['Income'] = income_40_49_50_59_to_60_120_list\n",
    "\n",
    "        \n",
    "        \n",
    "        \n",
    "        if (len(income_22_29_30_39_60_120__to__40_49_50_59_list) != len(df_income_occupation_gender_40_49_50_59_change)):\n",
    "        \n",
    "            if (len(df_income_occupation_gender_40_49_50_59_change) < len(income_22_29_30_39_60_120__to__40_49_50_59_list)):\n",
    "                \n",
    "                d = len(income_22_29_30_39_60_120__to__40_49_50_59_list) - len(df_income_occupation_gender_40_49_50_59_change)\n",
    "                \n",
    "                income_22_29_30_39_60_120__to__40_49_50_59_list = income_22_29_30_39_60_120__to__40_49_50_59_list[:-d]\n",
    "                \n",
    "            if (len(df_income_occupation_gender_40_49_50_59_change) > len(income_22_29_30_39_60_120__to__40_49_50_59_list)):\n",
    "                \n",
    "                e = len(df_income_occupation_gender_40_49_50_59_change) - len(income_22_29_30_39_60_120__to__40_49_50_59_list)\n",
    "                \n",
    "                df_income_occupation_gender_40_49_50_59_change = df_income_occupation_gender_40_49_50_59_change[:-e]\n",
    "        \n",
    "\n",
    "        \n",
    "        df_income_occupation_gender_40_49_50_59_change['Income'] = income_22_29_30_39_60_120__to__40_49_50_59_list\n",
    "        \n",
    "        \n",
    "        \n",
    "        # Concatenate all previous generated dataframes\n",
    "        df_income_occupation_gender_updated = (pd.concat([df_income_occupation_gender_22_29_change,df_income_occupation_gender_30_39_change,df_income_occupation_gender_40_49_50_59_change,df_income_occupation_gender_60_120_change]))\n",
    " \n",
    "        #Append the dataframe into the temporal list\n",
    "        people_NE_income_updated_list.append(df_income_occupation_gender_updated)\n",
    "        \n",
    "        \n",
    "#concatenate all people \"LONGTERM SICK\" in one dataframe\n",
    "df_people_NE_income_updated_all = pd.concat(people_NE_income_updated_list, axis=0, ignore_index=True)\n",
    "        \n",
    "print('code has finished. Check the results!')"
   ]
  },
  {
   "cell_type": "code",
   "execution_count": 65,
   "metadata": {},
   "outputs": [],
   "source": [
    "# List containing those agents which income has been updated\n",
    "agents_updated_list = df_people_NE_income_updated_all['PID_AreaMSOA'].tolist()\n",
    "        \n",
    "\n",
    "# Remove from the original \n",
    "df_income_no_updated = df_income_new[~df_income_new['PID_AreaMSOA'].isin(agents_updated_list)]\n"
   ]
  },
  {
   "cell_type": "code",
   "execution_count": 66,
   "metadata": {},
   "outputs": [
    {
     "data": {
      "text/plain": [
       "331076"
      ]
     },
     "execution_count": 66,
     "metadata": {},
     "output_type": "execute_result"
    }
   ],
   "source": [
    "len(df_people_NE_income_updated_all)"
   ]
  },
  {
   "cell_type": "code",
   "execution_count": 67,
   "metadata": {},
   "outputs": [
    {
     "data": {
      "text/plain": [
       "952579"
      ]
     },
     "execution_count": 67,
     "metadata": {},
     "output_type": "execute_result"
    }
   ],
   "source": [
    "len(df_income_no_updated)"
   ]
  },
  {
   "cell_type": "code",
   "execution_count": 69,
   "metadata": {},
   "outputs": [
    {
     "data": {
      "text/plain": [
       "0"
      ]
     },
     "execution_count": 69,
     "metadata": {},
     "output_type": "execute_result"
    }
   ],
   "source": [
    "# Check if there is any duplicates or missing person\n",
    "len(df_income_new) - len(df_people_NE_income_updated_all) - len(df_income_no_updated)"
   ]
  },
  {
   "cell_type": "code",
   "execution_count": 70,
   "metadata": {},
   "outputs": [
    {
     "data": {
      "text/plain": [
       "1283655"
      ]
     },
     "execution_count": 70,
     "metadata": {},
     "output_type": "execute_result"
    }
   ],
   "source": [
    "# Concatenate all previous generated dataframes\n",
    "df_income_new_2 = (pd.concat([df_income_no_updated, df_people_NE_income_updated_all]))\n",
    "\n",
    "len(df_income_new_2)\n",
    " "
   ]
  },
  {
   "cell_type": "code",
   "execution_count": 71,
   "metadata": {},
   "outputs": [
    {
     "data": {
      "text/plain": [
       "1283655"
      ]
     },
     "execution_count": 71,
     "metadata": {},
     "output_type": "execute_result"
    }
   ],
   "source": [
    "len(df_income_new)"
   ]
  },
  {
   "cell_type": "code",
   "execution_count": 72,
   "metadata": {},
   "outputs": [
    {
     "data": {
      "text/plain": [
       "0"
      ]
     },
     "execution_count": 72,
     "metadata": {},
     "output_type": "execute_result"
    }
   ],
   "source": [
    "len(df_income_new_2) - len(df_income)"
   ]
  },
  {
   "cell_type": "code",
   "execution_count": 73,
   "metadata": {},
   "outputs": [
    {
     "data": {
      "text/plain": [
       "0"
      ]
     },
     "execution_count": 73,
     "metadata": {},
     "output_type": "execute_result"
    }
   ],
   "source": [
    "len(df_income_new_2) - len(df_income_new)"
   ]
  },
  {
   "cell_type": "code",
   "execution_count": null,
   "metadata": {},
   "outputs": [],
   "source": []
  },
  {
   "cell_type": "markdown",
   "metadata": {},
   "source": [
    "## Check the median income value per range of age:"
   ]
  },
  {
   "cell_type": "code",
   "execution_count": 76,
   "metadata": {},
   "outputs": [
    {
     "data": {
      "text/plain": [
       "5500.0"
      ]
     },
     "execution_count": 76,
     "metadata": {},
     "output_type": "execute_result"
    }
   ],
   "source": [
    "df_income_all_1 = df_income_new_2.loc[(df_income_new_2['Age'] >=16) & (df_income_new_2['Age'] <=17)]\n",
    "\n",
    "df_income_all_1[\"Income\"].median()"
   ]
  },
  {
   "cell_type": "code",
   "execution_count": 77,
   "metadata": {},
   "outputs": [
    {
     "data": {
      "text/plain": [
       "9380.0"
      ]
     },
     "execution_count": 77,
     "metadata": {},
     "output_type": "execute_result"
    }
   ],
   "source": [
    "df_income_all_2 = df_income_new_2.loc[(df_income_new_2['Age'] >=18) & (df_income_new_2['Age'] <=21)]\n",
    "\n",
    "df_income_all_2[\"Income\"].median()"
   ]
  },
  {
   "cell_type": "code",
   "execution_count": 78,
   "metadata": {},
   "outputs": [
    {
     "data": {
      "text/plain": [
       "21140.0"
      ]
     },
     "execution_count": 78,
     "metadata": {},
     "output_type": "execute_result"
    }
   ],
   "source": [
    "df_income_all_3 = df_income_new_2.loc[(df_income_new_2['Age'] >=22) & (df_income_new_2['Age'] <=29)]\n",
    "\n",
    "df_income_all_3[\"Income\"].median()"
   ]
  },
  {
   "cell_type": "code",
   "execution_count": 79,
   "metadata": {},
   "outputs": [
    {
     "data": {
      "text/plain": [
       "26160.0"
      ]
     },
     "execution_count": 79,
     "metadata": {},
     "output_type": "execute_result"
    }
   ],
   "source": [
    "df_income_all_4 = df_income_new_2.loc[(df_income_new_2['Age'] >=30) & (df_income_new_2['Age'] <=39)]\n",
    "\n",
    "df_income_all_4[\"Income\"].median()"
   ]
  },
  {
   "cell_type": "code",
   "execution_count": 80,
   "metadata": {},
   "outputs": [
    {
     "data": {
      "text/plain": [
       "27570.0"
      ]
     },
     "execution_count": 80,
     "metadata": {},
     "output_type": "execute_result"
    }
   ],
   "source": [
    "df_income_all_5 = df_income_new_2.loc[(df_income_new_2['Age'] >=40) & (df_income_new_2['Age'] <=49)]\n",
    "\n",
    "df_income_all_5[\"Income\"].median()"
   ]
  },
  {
   "cell_type": "code",
   "execution_count": 81,
   "metadata": {},
   "outputs": [
    {
     "data": {
      "text/plain": [
       "24680.0"
      ]
     },
     "execution_count": 81,
     "metadata": {},
     "output_type": "execute_result"
    }
   ],
   "source": [
    "df_income_all_6 = df_income_new_2.loc[(df_income_new_2['Age'] >=50) & (df_income_new_2['Age'] <=59)]\n",
    "\n",
    "df_income_all_6[\"Income\"].median()"
   ]
  },
  {
   "cell_type": "code",
   "execution_count": 82,
   "metadata": {},
   "outputs": [
    {
     "data": {
      "text/plain": [
       "17930.0"
      ]
     },
     "execution_count": 82,
     "metadata": {},
     "output_type": "execute_result"
    }
   ],
   "source": [
    "df_income_all_7 = df_income_new_2.loc[(df_income_new_2['Age'] >=60)]\n",
    "\n",
    "df_income_all_7[\"Income\"].median()"
   ]
  },
  {
   "cell_type": "code",
   "execution_count": 85,
   "metadata": {},
   "outputs": [
    {
     "data": {
      "text/plain": [
       "23060.0"
      ]
     },
     "execution_count": 85,
     "metadata": {},
     "output_type": "execute_result"
    }
   ],
   "source": [
    "df_income_new_2[\"Income\"].median()"
   ]
  },
  {
   "cell_type": "code",
   "execution_count": 86,
   "metadata": {},
   "outputs": [
    {
     "data": {
      "text/plain": [
       "25650.229477546538"
      ]
     },
     "execution_count": 86,
     "metadata": {},
     "output_type": "execute_result"
    }
   ],
   "source": [
    "df_income_new_2[\"Income\"].mean()"
   ]
  },
  {
   "cell_type": "code",
   "execution_count": null,
   "metadata": {},
   "outputs": [],
   "source": []
  },
  {
   "cell_type": "code",
   "execution_count": 88,
   "metadata": {},
   "outputs": [],
   "source": [
    "#Export the df_persons_NE_household_composition_updated\n",
    "\n",
    "df_income_new_2_20222307_correct = df_income_new_2\n",
    "\n",
    "df_income_new_2_20222307_correct.to_csv(r'C:\\Users\\b9055315\\Documents\\PhD_PROJECT\\Synthetic_population_developement\\SPENSER\\Data\\2019\\income\\df_income_new_2_20222307_correct.csv', encoding='utf-8', header=True)\n"
   ]
  },
  {
   "cell_type": "code",
   "execution_count": null,
   "metadata": {},
   "outputs": [],
   "source": []
  }
 ],
 "metadata": {
  "kernelspec": {
   "display_name": "Python 3 (ipykernel)",
   "language": "python",
   "name": "python3"
  },
  "language_info": {
   "codemirror_mode": {
    "name": "ipython",
    "version": 3
   },
   "file_extension": ".py",
   "mimetype": "text/x-python",
   "name": "python",
   "nbconvert_exporter": "python",
   "pygments_lexer": "ipython3",
   "version": "3.8.12"
  }
 },
 "nbformat": 4,
 "nbformat_minor": 2
}
