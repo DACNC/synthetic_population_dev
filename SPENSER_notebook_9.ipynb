{
 "cells": [
  {
   "cell_type": "code",
   "execution_count": 10,
   "id": "dd15a6d7",
   "metadata": {},
   "outputs": [],
   "source": [
    "import glob\n",
    "import pandas as pd\n",
    "import numpy as np\n",
    "import os\n",
    "import csv\n",
    "import sys\n",
    "import random"
   ]
  },
  {
   "cell_type": "code",
   "execution_count": 11,
   "id": "3eb3dd9c",
   "metadata": {},
   "outputs": [],
   "source": [
    "##Read CSV file containing the persons from the North East of England\n",
    "df_persons_NE__dir = r'C:\\Users\\b9055315\\Documents\\PhD_PROJECT\\Synthetic_population_developement\\SPENSER\\Data\\NE_only' # use your path\n",
    "df_persons_NE__file = os.path.join(df_persons_NE__dir, \"df_persons_NE_clean.csv\")\n",
    "df_persons_NE = pd.read_csv(df_persons_NE__file, index_col=None, header=0)"
   ]
  },
  {
   "cell_type": "code",
   "execution_count": null,
   "id": "350bd65d",
   "metadata": {},
   "outputs": [],
   "source": []
  },
  {
   "cell_type": "code",
   "execution_count": 12,
   "id": "abd8d9e7",
   "metadata": {},
   "outputs": [],
   "source": [
    "# Create a new empty column for the bike access (bool and initialised to False)\n",
    "df_persons_NE[\"Bike_access\"] = np.nan\n",
    "df_persons_NE[\"Bike_access\"] = df_persons_NE[\"Bike_access\"].astype('bool')   \n",
    "df_persons_NE[\"Bike_access\"] = False"
   ]
  },
  {
   "cell_type": "code",
   "execution_count": null,
   "id": "2fd01abb",
   "metadata": {},
   "outputs": [],
   "source": []
  },
  {
   "cell_type": "code",
   "execution_count": 14,
   "id": "666b221d",
   "metadata": {},
   "outputs": [],
   "source": [
    "# Input data from Department for Transport\n",
    "## Table NTS0608\n",
    "## Bicycle ownership by age: England, 2017/19\n",
    "### link: https://www.gov.uk/government/statistical-data-sets/nts06-age-gender-and-modal-breakdown\n",
    "\n",
    "# List that contains the range of age [0], [1] and the % of people that owns a bike within this range [2]\n",
    "age_ranges_percentage = [(5,10,83), (11,16,69), (17,20,41), (21,29,30), (30,39,39), (40,49,49), (50,59,45), (60,120,24)]\n",
    "\n",
    "bike_owners_list = []\n",
    "\n",
    "for age_percentage in age_ranges_percentage:\n",
    " \n",
    "\n",
    "    # Select those people within the range of age selected:\n",
    "    globals()[f\"df_age_{age_percentage[0]}_{age_percentage[1]}\"] = df_persons_NE.loc[(df_persons_NE['Age'] >= age_percentage[0]) & (df_persons_NE['Age'] <= age_percentage[1])]\n",
    "                \n",
    "    # Select randomly the % of people with a bicycle from the previous dataframe:               \n",
    "    globals()[f\"df_age_{age_percentage[0]}_{age_percentage[1]}_bike\"] = globals()[f\"df_age_{age_percentage[0]}_{age_percentage[1]}\"].sample(int(len(globals()[f\"df_age_{age_percentage[0]}_{age_percentage[1]}\"]) * age_percentage[2]/100))\n",
    "\n",
    "    \n",
    "    #Append the dataframe into the temporal list\n",
    "    bike_owners_list.append(globals()[f\"df_age_{age_percentage[0]}_{age_percentage[1]}_bike\"])\n",
    "    \n",
    "    \n",
    "    \n",
    "    \n",
    "#concatenate all persons with a bike in one dataframe\n",
    "df_persons_NE_bike_owners = pd.concat(bike_owners_list, axis=0, ignore_index=True)\n",
    "\n",
    "#Update the value of the column \"Bike_access\" to those people with a bike:\n",
    "df_persons_NE_bike_owners[\"Bike_access\"] = True\n",
    "    "
   ]
  },
  {
   "cell_type": "code",
   "execution_count": 15,
   "id": "a10ac670",
   "metadata": {},
   "outputs": [],
   "source": [
    "# concatenate the inactive people selected with df_persons_NE_Household_composition_updated and remove duplicates to\n",
    "# identify the employed and later on the unemployed\n",
    "\n",
    "#concatenate all persons \"EMPLOYED\" in one dataframe\n",
    "df_persons_NE_plus_bikes = (pd.concat([df_persons_NE, df_persons_NE_bike_owners]))\n",
    "\n",
    "\n",
    "# Remove duplicates and keep only those who were not assigned a driving licence\n",
    "df_persons_NO_bikes = df_persons_NE_plus_bikes.drop_duplicates(subset='PID_AreaMSOA', keep = False)\n",
    "\n",
    "\n",
    "# Merge those people with and without a bike\n",
    "df_persons_NE_bike_updated = (pd.concat([df_persons_NE_bike_owners, df_persons_NO_bikes]))\n",
    "\n",
    "# The total number of people in the last dataframe should be the same as the one from the original dataframe (df_persons_NE)\n",
    "\n"
   ]
  },
  {
   "cell_type": "code",
   "execution_count": 7,
   "id": "e4c7bc50",
   "metadata": {},
   "outputs": [],
   "source": []
  },
  {
   "cell_type": "code",
   "execution_count": 18,
   "id": "d448fc09",
   "metadata": {},
   "outputs": [
    {
     "name": "stdout",
     "output_type": "stream",
     "text": [
      "82.99952120419833\n",
      "68.99945141680008\n",
      "40.99949399222978\n",
      "29.999968631092234\n",
      "38.99982174203353\n",
      "48.999813470036216\n",
      "44.99997330329064\n",
      "23.999877225634172\n"
     ]
    }
   ],
   "source": [
    "#Check the percentages obtained per range of age:\n",
    "\n",
    "df_age_5_10 = df_persons_NE.loc[(df_persons_NE['Age'] >= 5) & (df_persons_NE['Age'] <= 10)]\n",
    "print((len(df_age_5_10_bike))/len(df_age_5_10) *100)\n",
    "\n",
    "df_age_11_16 = df_persons_NE.loc[(df_persons_NE['Age'] >= 11) & (df_persons_NE['Age'] <= 16)]\n",
    "print((len(df_age_11_16_bike))/len(df_age_11_16) *100)\n",
    "\n",
    "df_age_17_20 = df_persons_NE.loc[(df_persons_NE['Age'] >= 17) & (df_persons_NE['Age'] <= 20)]\n",
    "print((len(df_age_17_20_bike))/len(df_age_17_20) *100)\n",
    "\n",
    "df_age_21_29 = df_persons_NE.loc[(df_persons_NE['Age'] >= 21) & (df_persons_NE['Age'] <= 29)]\n",
    "print((len(df_age_21_29_bike))/len(df_age_21_29) *100)\n",
    "\n",
    "df_age_30_39 = df_persons_NE.loc[(df_persons_NE['Age'] >= 30) & (df_persons_NE['Age'] <= 39)]\n",
    "print((len(df_age_30_39_bike))/len(df_age_30_39) *100)\n",
    "\n",
    "df_age_40_49 = df_persons_NE.loc[(df_persons_NE['Age'] >= 40) & (df_persons_NE['Age'] <= 49)]\n",
    "print((len(df_age_40_49_bike))/len(df_age_40_49) *100)\n",
    "\n",
    "df_age_50_59 = df_persons_NE.loc[(df_persons_NE['Age'] >= 50) & (df_persons_NE['Age'] <= 59)]\n",
    "print((len(df_age_50_59_bike))/len(df_age_50_59) *100)\n",
    "\n",
    "df_age_60_120 = df_persons_NE.loc[(df_persons_NE['Age'] >= 60) & (df_persons_NE['Age'] <= 120)]\n",
    "print((len(df_age_60_120_bike))/len(df_age_60_120) *100)"
   ]
  },
  {
   "cell_type": "code",
   "execution_count": 19,
   "id": "20dba9d7",
   "metadata": {},
   "outputs": [],
   "source": [
    "#Export the dataframe into a csv file\n",
    "\n",
    "## Make a copy\n",
    "df_persons_NE_bike_updated_saved = df_persons_NE_bike_updated\n",
    "\n",
    "## Export it\n",
    "df_persons_NE_bike_updated_saved.to_csv(r'C:\\Users\\b9055315\\Documents\\PhD_PROJECT\\Synthetic_population_developement\\SPENSER\\Data\\2019\\Bike_access\\df_persons_NE_bike_updated.csv', encoding='utf-8', header=True)\n"
   ]
  },
  {
   "cell_type": "code",
   "execution_count": null,
   "id": "221398d6",
   "metadata": {},
   "outputs": [],
   "source": []
  }
 ],
 "metadata": {
  "kernelspec": {
   "display_name": "Python 3 (ipykernel)",
   "language": "python",
   "name": "python3"
  },
  "language_info": {
   "codemirror_mode": {
    "name": "ipython",
    "version": 3
   },
   "file_extension": ".py",
   "mimetype": "text/x-python",
   "name": "python",
   "nbconvert_exporter": "python",
   "pygments_lexer": "ipython3",
   "version": "3.8.12"
  }
 },
 "nbformat": 4,
 "nbformat_minor": 5
}
