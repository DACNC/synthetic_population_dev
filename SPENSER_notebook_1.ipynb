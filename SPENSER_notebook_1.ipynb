{
 "cells": [
  {
   "cell_type": "code",
   "execution_count": 1,
   "id": "3dcc3516",
   "metadata": {},
   "outputs": [],
   "source": [
    "import glob\n",
    "import pandas as pd\n",
    "import numpy as np\n",
    "import os\n",
    "import csv\n",
    "import sys"
   ]
  },
  {
   "cell_type": "markdown",
   "id": "cb602ad5",
   "metadata": {},
   "source": [
    "Import and concatenate the csv files containing the persons and households of the area of study"
   ]
  },
  {
   "cell_type": "code",
   "execution_count": 2,
   "id": "d4e02b99",
   "metadata": {},
   "outputs": [],
   "source": [
    "## Import multiple csv files into pandas and concatenate into one DataFrame\n",
    "# get data file names from the persons\n",
    "path_persons = r'C:\\Users\\b9055315\\Documents\\PhD_PROJECT\\Synthetic_population_developement\\SPENSER\\Data\\2019\\2019_persons' \n",
    "all_persons_files = glob.iglob(os.path.join(path_persons, \"*.csv\"))\n",
    "\n",
    "# get data file names from the households\n",
    "path_households = r'C:\\Users\\b9055315\\Documents\\PhD_PROJECT\\Synthetic_population_developement\\SPENSER\\Data\\2019\\2019_households'\n",
    "all_households_files = glob.iglob(os.path.join(path_households, \"*.csv\"))\n"
   ]
  },
  {
   "cell_type": "code",
   "execution_count": 3,
   "id": "0d256336",
   "metadata": {},
   "outputs": [],
   "source": [
    "#concatenate all persons files in one dataframe\n",
    "persons_temp = []\n",
    "\n",
    "for filename in all_persons_files:\n",
    "    df_persons = pd.read_csv(filename, index_col=None, header=0)\n",
    "    persons_temp.append(df_persons)\n",
    "\n",
    "df_persons_NE = pd.concat(persons_temp, axis=0, ignore_index=True)\n"
   ]
  },
  {
   "cell_type": "code",
   "execution_count": 4,
   "id": "1622ac08",
   "metadata": {},
   "outputs": [],
   "source": [
    "#concatenate all households files in one dataframe\n",
    "households_temp = []\n",
    "\n",
    "for filename in all_households_files:\n",
    "    df_households = pd.read_csv(filename, index_col=None, header=0)\n",
    "    households_temp.append(df_households)\n",
    "\n",
    "df_households_NE = pd.concat(households_temp, axis=0, ignore_index=True)"
   ]
  },
  {
   "cell_type": "markdown",
   "id": "d17afe81",
   "metadata": {},
   "source": [
    "Read and save in a list with the values of MSOA and OA areas "
   ]
  },
  {
   "cell_type": "markdown",
   "id": "ff01bbf6",
   "metadata": {},
   "source": [
    "This file was create in PostGIS with the following SQL query:\n",
    "\n",
    "Create table boundaries.MSOA_OA_2011_ne as\n",
    "\n",
    "select a.msoa11cd as MSOA, b.oa11cd as OA\n",
    "\n",
    "from boundaries.msoa_2011_ne a, boundaries.oa_2011_ne b\n",
    "\n",
    "where ST_Within(b.geom, a.geom)\n",
    "\n",
    "\n",
    "(MSOA and OA areas were downloaded from https://geoportal.statistics.gov.uk/)"
   ]
  },
  {
   "cell_type": "code",
   "execution_count": 5,
   "id": "014facae",
   "metadata": {},
   "outputs": [],
   "source": [
    "#Read CSV file containing the MSOA and OA values only from the North East of England\n",
    "MSOA_OA_2011_NE_dir = r'C:\\Users\\b9055315\\Documents\\PhD_PROJECT\\Synthetic_population_developement' # use your path\n",
    "MSOA_OA_2011_NE_files = os.path.join(MSOA_OA_2011_NE_dir, \"MSOA_OA_2011_NE.csv\")\n",
    "df_MSOA_OA_2011_NE_list = pd.read_csv(MSOA_OA_2011_NE_files, index_col=None, header=0)"
   ]
  },
  {
   "cell_type": "code",
   "execution_count": 6,
   "id": "2e422a9c",
   "metadata": {},
   "outputs": [
    {
     "name": "stdout",
     "output_type": "stream",
     "text": [
      "No.of.unique values : 340\n"
     ]
    }
   ],
   "source": [
    "# Check the total number of MSOA levels are in the dataframe\n",
    "# counting unique values of MSOA levels in the df_persons_NE\n",
    "n = len(pd.unique(df_persons_NE['Area']))\n",
    "  \n",
    "print(\"No.of.unique values :\", \n",
    "      n)"
   ]
  },
  {
   "cell_type": "code",
   "execution_count": 7,
   "id": "9101d968",
   "metadata": {},
   "outputs": [
    {
     "name": "stdout",
     "output_type": "stream",
     "text": [
      "No.of.unique values : 8802\n"
     ]
    }
   ],
   "source": [
    "# Check the total number of OA areas are in the dataframe\n",
    "# counting unique values of OA areas in the df_households_NE\n",
    "m = len(pd.unique(df_households_NE['Area']))\n",
    "  \n",
    "print(\"No.of.unique values :\", \n",
    "      m)"
   ]
  },
  {
   "cell_type": "markdown",
   "id": "bd9e28aa",
   "metadata": {},
   "source": [
    "Rename and convert some column names and values"
   ]
  },
  {
   "cell_type": "code",
   "execution_count": 9,
   "id": "9e0b067f",
   "metadata": {},
   "outputs": [],
   "source": [
    "#Rename the column names of 'df_persons_NE'\n",
    "df_persons_NE = df_persons_NE.rename({'Area': 'Area_MSOA', 'DC1117EW_C_SEX': 'Sex', 'DC1117EW_C_AGE': 'Age', 'DC2101EW_C_ETHPUK11': 'Ethnic'}, axis=1)"
   ]
  },
  {
   "cell_type": "code",
   "execution_count": 10,
   "id": "a6d377b9",
   "metadata": {},
   "outputs": [],
   "source": [
    "#Rename the column names of 'df_households_NE'\n",
    "df_households_NE = df_households_NE.rename({'Area': 'Area_OA'}, axis=1)"
   ]
  },
  {
   "cell_type": "code",
   "execution_count": 11,
   "id": "91b59bb7",
   "metadata": {},
   "outputs": [],
   "source": [
    "# convert column \"HID\" to int\n",
    "df_households_NE = df_households_NE.astype({\"HID\": int})"
   ]
  },
  {
   "cell_type": "markdown",
   "id": "347f6d7d",
   "metadata": {},
   "source": [
    "Generate a unique PRIMARY KEY for df_persons_NE and df_households_NE"
   ]
  },
  {
   "cell_type": "code",
   "execution_count": 12,
   "id": "a360ed8a",
   "metadata": {},
   "outputs": [],
   "source": [
    "#Create a new column in 'df_persons_NE' for the unique ID --> PID_Area_MSOA\n",
    "df_persons_NE[\"PID_AreaMSOA\"] = df_persons_NE[\"PID\"].astype(str) + '_' + df_persons_NE[\"Area_MSOA\"]\n",
    "\n",
    "#Create a new column in 'df_persons_NE' for the unique ID --> PID_Area_MSOA\n",
    "df_households_NE[\"HID_AreaOA\"] = df_households_NE[\"HID\"].astype(str) + '_' + df_households_NE[\"Area_OA\"]\n"
   ]
  },
  {
   "cell_type": "code",
   "execution_count": 13,
   "id": "4ca33fc9",
   "metadata": {},
   "outputs": [],
   "source": [
    "#Join df_households_NE with df_MSOA_OA_2011_NE_list in order to get MSOA level within \n",
    "#df_households_NE and then pass the Area_OA to df_persons_NE based on the MSOA level value\n",
    "df_households_NE = df_households_NE.merge(df_MSOA_OA_2011_NE_list, left_on='Area_OA', right_on='oa', how='left')"
   ]
  },
  {
   "cell_type": "code",
   "execution_count": 14,
   "id": "620993eb",
   "metadata": {},
   "outputs": [],
   "source": [
    "#Rename the column names of 'df_persons_NE'\n",
    "df_households_NE = df_households_NE.rename({'msoa': 'Area_MSOA'}, axis=1)"
   ]
  },
  {
   "cell_type": "code",
   "execution_count": 15,
   "id": "b7016326",
   "metadata": {},
   "outputs": [],
   "source": [
    "#Merge df_persons_NE with df_households_NE in order to get the Area_OA for each person\n",
    "df_persons_NE = pd.merge(df_persons_NE, df_households_NE,  how='left', left_on=['HID','Area_MSOA'], right_on = ['HID','Area_MSOA'])"
   ]
  },
  {
   "cell_type": "code",
   "execution_count": 16,
   "id": "2d6cf843",
   "metadata": {},
   "outputs": [],
   "source": [
    "# Create a new column in df_households_NE combining HRPID with Area_MSOA in order to then match the Household refernce person (HRPID)\n",
    "# from the household dataframe with the person in the df_persons_NE\n",
    "df_households_NE[\"HRPID_AreaMSOA\"] = df_households_NE[\"HRPID\"].astype(str) + '_' + df_households_NE[\"Area_MSOA\"]\n"
   ]
  },
  {
   "cell_type": "code",
   "execution_count": 17,
   "id": "221b4ffd",
   "metadata": {},
   "outputs": [],
   "source": [
    "# # Merge df_persons_NE with df_households_NE AGAIN in order to get the HRPID_Area_MSOA for each person\n",
    "# The goal with this is that the new LC4605_C_NSSEC will be only assigned to the household reference person\n",
    "# The rest of member of the household will have an empty value in this column\n",
    "\n",
    "df_persons_NE = pd.merge(df_persons_NE, df_households_NE,  how='left', left_on=['PID_AreaMSOA'], right_on = ['HRPID_AreaMSOA'])"
   ]
  },
  {
   "cell_type": "markdown",
   "id": "a53aa869",
   "metadata": {},
   "source": [
    "Keep only those necesary columns and remane "
   ]
  },
  {
   "cell_type": "code",
   "execution_count": 20,
   "id": "591789a8",
   "metadata": {},
   "outputs": [],
   "source": [
    "#KEEP ONLY the required columns\n",
    "df_persons_NE = df_persons_NE[['PID_AreaMSOA','PID','Area_MSOA_x', 'Area_OA_x', 'Sex','Age','Ethnic','HID_x', 'HID_AreaOA_x', 'LC4408_C_AHTHUK11_x', 'LC4404_C_SIZHUK11_x', 'LC4605_C_NSSEC_x', 'LC4202_C_CARSNO_x', 'LC4202_C_ETHHUK11_x', 'HRPID_AreaMSOA', 'LC4605_C_NSSEC_y', 'QS420_CELL_x']]"
   ]
  },
  {
   "cell_type": "code",
   "execution_count": null,
   "id": "afcb5d9c",
   "metadata": {},
   "outputs": [],
   "source": [
    "#Rename the column names of 'df_persons_NE'\n",
    "df_persons_NE = df_persons_NE.rename({'LC4605_C_NSSEC_y': 'NSSEC'}, axis=1)"
   ]
  },
  {
   "cell_type": "markdown",
   "id": "369855c2",
   "metadata": {},
   "source": [
    "Remove people that do not belong to any househodls and those that are assigned to households that are not residential (QS420_CELL = -2) or education (QS420_CELL = 26)"
   ]
  },
  {
   "cell_type": "code",
   "execution_count": 21,
   "id": "5048aca6",
   "metadata": {},
   "outputs": [
    {
     "data": {
      "text/plain": [
       "2666722"
      ]
     },
     "execution_count": 21,
     "metadata": {},
     "output_type": "execute_result"
    }
   ],
   "source": [
    "# Remove rows from df_persons_NE which HIP = (-1), as they are not assigned to any household\n",
    "# They should be considered as leftovers in the process of matching persons with households\n",
    "\n",
    "df_persons_NE = df_persons_NE[df_persons_NE['HID'] != -1]"
   ]
  },
  {
   "cell_type": "code",
   "execution_count": 25,
   "id": "8d034a1b",
   "metadata": {},
   "outputs": [
    {
     "data": {
      "text/plain": [
       "2645517"
      ]
     },
     "execution_count": 25,
     "metadata": {},
     "output_type": "execute_result"
    }
   ],
   "source": [
    "## Remove those PEOPLE that do not belong to residential households (QS420_CELL = -2) or to student accommodations (QS420_CELL = 26)\n",
    "\n",
    "residential_type_list = [-2,26]\n",
    "df_persons_NE = df_persons_NE.loc[(df_persons_NE['QS420_CELL_x'].isin(residential_type_list))]\n",
    "\n",
    "len(df_persons_NE)"
   ]
  },
  {
   "cell_type": "markdown",
   "id": "2bd41154",
   "metadata": {},
   "source": [
    "Remove households that are assigned to households that are not residential (QS420_CELL = -2) or education (QS420_CELL = 26)"
   ]
  },
  {
   "cell_type": "code",
   "execution_count": 24,
   "id": "91fbef38",
   "metadata": {},
   "outputs": [
    {
     "data": {
      "text/plain": [
       "1217345"
      ]
     },
     "execution_count": 24,
     "metadata": {},
     "output_type": "execute_result"
    }
   ],
   "source": [
    "## Remove those HOUSEHOLDS that do not belong to residential households (QS420_CELL = -2) or to student accommodations (QS420_CELL = 26)\n",
    "\n",
    "residential_type_list = [-2,26]\n",
    "df_households_NE_extended = df_households_NE.loc[(df_households_NE['QS420_CELL'].isin(residential_type_list))]\n",
    "\n",
    "len(df_households_NE_extended)"
   ]
  },
  {
   "cell_type": "markdown",
   "id": "99fa3570",
   "metadata": {},
   "source": [
    "Now, both dataframes are cleaned and ready to be used"
   ]
  },
  {
   "cell_type": "markdown",
   "id": "8d756383",
   "metadata": {},
   "source": [
    "Export dataframes into csv files"
   ]
  },
  {
   "cell_type": "code",
   "execution_count": 26,
   "id": "3e6a74d1",
   "metadata": {},
   "outputs": [],
   "source": [
    "df_persons_NE_clean = df_persons_NE\n",
    "\n",
    "df_households_NE_clean = df_households_NE"
   ]
  },
  {
   "cell_type": "code",
   "execution_count": 27,
   "id": "814fde2b",
   "metadata": {},
   "outputs": [],
   "source": [
    "# Export 'df_persons_NE_clean' and 'df_households_NE_clean' into *.csv files\n",
    "\n",
    "df_persons_NE_clean.to_csv(r'C:\\Users\\b9055315\\Documents\\PhD_PROJECT\\Synthetic_population_developement\\SPENSER\\Data\\NE_only\\df_persons_NE_clean.csv', encoding='utf-8', header=True)\n",
    "df_households_NE_clean.to_csv(r'C:\\Users\\b9055315\\Documents\\PhD_PROJECT\\Synthetic_population_developement\\SPENSER\\Data\\NE_only\\df_households_NE_clean.csv', encoding='utf-8', header=True)\n"
   ]
  },
  {
   "cell_type": "code",
   "execution_count": null,
   "id": "a0c593bd",
   "metadata": {},
   "outputs": [],
   "source": []
  }
 ],
 "metadata": {
  "kernelspec": {
   "display_name": "Python 3 (ipykernel)",
   "language": "python",
   "name": "python3"
  },
  "language_info": {
   "codemirror_mode": {
    "name": "ipython",
    "version": 3
   },
   "file_extension": ".py",
   "mimetype": "text/x-python",
   "name": "python",
   "nbconvert_exporter": "python",
   "pygments_lexer": "ipython3",
   "version": "3.8.12"
  }
 },
 "nbformat": 4,
 "nbformat_minor": 5
}
