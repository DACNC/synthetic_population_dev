{
 "cells": [
  {
   "cell_type": "code",
   "execution_count": null,
   "id": "85755297",
   "metadata": {},
   "outputs": [],
   "source": [
    "import glob\n",
    "import pandas as pd\n",
    "import numpy as np\n",
    "import os\n",
    "import csv\n",
    "import sys"
   ]
  },
  {
   "cell_type": "markdown",
   "id": "7fa65d22",
   "metadata": {},
   "source": [
    "Import the csv files containing the persons and households of the area of study"
   ]
  },
  {
   "cell_type": "code",
   "execution_count": null,
   "id": "f0e783df",
   "metadata": {},
   "outputs": [],
   "source": [
    "#Read CSV file containing the MSOA and OA values only from the North East of England\n",
    "df_persons_NE__dir = r'C:\\Users\\b9055315\\Documents\\PhD_PROJECT\\Synthetic_population_developement\\SPENSER\\Data\\NE_only' # use your path\n",
    "df_persons_NE__file = os.path.join(df_persons_NE__dir, \"df_persons_NE_clean.csv\")\n",
    "df_persons_NE = pd.read_csv(df_persons_NE__file, index_col=None, header=0)"
   ]
  },
  {
   "cell_type": "code",
   "execution_count": null,
   "id": "22d0864b",
   "metadata": {},
   "outputs": [],
   "source": [
    "#Read CSV file containing the MSOA and OA values only from the North East of England\n",
    "df_households_NE__dir = r'C:\\Users\\b9055315\\Documents\\PhD_PROJECT\\Synthetic_population_developement\\SPENSER\\Data\\NE_only' # use your path\n",
    "df_households_NE_file = os.path.join(df_households_NE__dir, \"df_households_NE_clean.csv\")\n",
    "df_households_NE = pd.read_csv(df_households_NE_file, index_col=None, header=0)\n"
   ]
  },
  {
   "cell_type": "markdown",
   "id": "8fd2d0c4",
   "metadata": {},
   "source": [
    "Create new columns"
   ]
  },
  {
   "cell_type": "code",
   "execution_count": null,
   "id": "4d1a0981",
   "metadata": {},
   "outputs": [],
   "source": [
    "#Create new columns in the dataframe:\n",
    "\n",
    "#Column with the total amount of people in the household\n",
    "df_persons_NE[\"Total_People_in_household\"] = 0\n",
    "\n",
    "#Column with the total amoun of children in the household\n",
    "df_persons_NE[\"Total_Children_in_household\"] = 0\n",
    "\n",
    "#Column showing if in the household there is another adult with the same ethnic\n",
    "df_persons_NE[\"Same_ethnic\"] = np.nan\n",
    "df_persons_NE[\"Same_ethnic\"] = df_persons_NE[\"Same_ethnic\"].astype('bool')  #False by default\n",
    "df_persons_NE[\"Same_ethnic\"] = False\n",
    "\n",
    "#Column showing if in the household there is another adult with a similar age (+-10 years)\n",
    "df_persons_NE[\"Adult_Similar_age\"] = np.nan\n",
    "df_persons_NE[\"Adult_Similar_age\"] = df_persons_NE[\"Adult_Similar_age\"].astype('bool')    #False by default\n",
    "df_persons_NE[\"Adult_Similar_age\"] = False\n"
   ]
  },
  {
   "cell_type": "markdown",
   "id": "4a79f522",
   "metadata": {},
   "source": [
    "Function that calculates for each person:\n",
    "\n",
    "    the total number in the household\n",
    "    The total number of children in the household\n",
    "    If there are more people with the same ethnicity in the household\n",
    "    If there is at least one more adult with a similar age"
   ]
  },
  {
   "cell_type": "code",
   "execution_count": null,
   "id": "d340c468",
   "metadata": {},
   "outputs": [],
   "source": [
    "# Calculate for each person:\n",
    "#     the total number in the household\n",
    "#     The total number of children in the household\n",
    "#     If there are more people with the same ethnicity in the household\n",
    "#     If there is at least one more adult with a similar age\n",
    "\n",
    "\n",
    "# Create a list with all Households unique ID values\n",
    "HID_AreaOA_list = df_households_NE['HID_AreaOA'].tolist()\n",
    "\n",
    "#Create an empty list where the small blocks of dataframes will be stored\n",
    "df_persons_NE_OA_HID_temp = []\n",
    "\n",
    "#Create a variable that counts the number of households iterated\n",
    "household_counter = 0\n",
    "\n",
    "for HID_AreaOA in HID_AreaOA_list:\n",
    "    #Increase the value of the household_counter in 1\n",
    "    household_counter += 1\n",
    "    print(\"Number of HOUSEHOLD in iteration: \", (household_counter, len(HID_AreaOA_list)))\n",
    "    \n",
    "    \n",
    "    #Get only the PERSONS that belong to the same HID_AreaOA\n",
    "    df_persons_NE_OA_HID = df_persons_NE.loc[df_persons_NE['HID_AreaOA_x'] == HID_AreaOA]\n",
    "    #print(df_persons_NE_OA_HID)\n",
    "\n",
    "    ##Do the calculus just HOUSEHOLD BY HOUSEHOLD\n",
    "    for idx_person_1, person_1 in df_persons_NE_OA_HID.iterrows():\n",
    "        count_people = 1\n",
    "        if person_1['Age'] < 18:\n",
    "            count_children = 1\n",
    "        else:\n",
    "            count_children = 0\n",
    "        for idx_person_2, person_2 in df_persons_NE_OA_HID.iterrows():\n",
    "            #If person_1 is different to person_2:\n",
    "            if (person_1['PID'] != person_2['PID']):\n",
    "                count_people += 1\n",
    "                #If person_1 is older than 18\n",
    "                if person_2['Age'] < 18:\n",
    "                    count_children += 1\n",
    "                else: \n",
    "                    #If person_1 is older than 18 and the difference of age between him/her and person_2 is below 10 years:\n",
    "                    if (person_1['Age'] > 18 and ((-10 <= person_2['Age'] - person_1['Age'] and person_2['Age'] - person_1['Age'] <= 10) or (-10 <= person_1['Age'] - person_2['Age'] and person_1['Age'] - person_2['Age'] <= 10 ))):\n",
    "                        df_persons_NE_OA_HID.at[idx_person_1,'Adult_Similar_age'] = True\n",
    "                            \n",
    "                #If person_1 and person_2 have the same ethnic:\n",
    "                if person_1['Ethnic'] == person_2['Ethnic']:\n",
    "                    df_persons_NE_OA_HID.at[idx_person_1,'Same_ethnic'] = True\n",
    "                        \n",
    "        #Update values in the person's row            \n",
    "        df_persons_NE_OA_HID.at[idx_person_1,'Total_People_in_household'] = count_people\n",
    "        df_persons_NE_OA_HID.at[idx_person_1,'Total_Children_in_household'] = count_children\n",
    "                        \n",
    "\n",
    "\n",
    "    #Append the dataframe into the temporal list\n",
    "    df_persons_NE_OA_HID_temp.append(df_persons_NE_OA_HID)\n",
    "            \n",
    "  \n",
    "        \n",
    "#concatenate all persons (lists of the 'df_persons_NE_OA_HID_temp' list) in one dataframe\n",
    "df_persons_NE_Household_composition = pd.concat(df_persons_NE_OA_HID_temp, axis=0, ignore_index=True)\n"
   ]
  },
  {
   "cell_type": "markdown",
   "id": "0fadbfd0",
   "metadata": {},
   "source": [
    "Create a new set of columns to store the marital status and children dependency"
   ]
  },
  {
   "cell_type": "code",
   "execution_count": null,
   "id": "f1d2b31e",
   "metadata": {},
   "outputs": [],
   "source": [
    "#Column showing if an adult has his/her own car\n",
    "df_persons_NE_Household_composition[\"Marital_status\"] = \"\"\n",
    "\n",
    "#Column showing if an adult has children dependency\n",
    "df_persons_NE_Household_composition[\"Children_dependency\"] = np.nan\n",
    "df_persons_NE_Household_composition[\"Children_dependency\"] = df_persons_NE_Household_composition[\"Children_dependency\"].astype('bool')   \n",
    "df_persons_NE_Household_composition[\"Children_dependency\"] = False"
   ]
  },
  {
   "cell_type": "markdown",
   "id": "4c1aaffb",
   "metadata": {},
   "source": [
    "Lambda functions to calculate the marital status and children dependency"
   ]
  },
  {
   "cell_type": "code",
   "execution_count": null,
   "id": "cceddfab",
   "metadata": {},
   "outputs": [],
   "source": [
    "def marital_status(LC4408_C_AHTHUK11_x, Age, Adult_Similar_age):\n",
    "    if LC4408_C_AHTHUK11_x == 2 and Age >= 18 and Adult_Similar_age == True:\n",
    "        Marital_status = \"Married\"\n",
    "    elif LC4408_C_AHTHUK11_x == 3 and Age >= 18 and Adult_Similar_age == True:\n",
    "        Marital_status = \"Couple\"\n",
    "    else:\n",
    "        Marital_status = \"Single\"\n",
    "    return Marital_status"
   ]
  },
  {
   "cell_type": "code",
   "execution_count": null,
   "id": "09a453c8",
   "metadata": {},
   "outputs": [],
   "source": [
    "# Run the lambda function \"marital_status\" to classify each person in married, couple or single, depending on their own characteristics\n",
    "df_persons_NE_Household_composition['Marital_status'] = df_persons_NE_Household_composition.apply(lambda x: marital_status(x['LC4408_C_AHTHUK11_x'], x['Age'], x['Adult_Similar_age']), axis=1)"
   ]
  },
  {
   "cell_type": "code",
   "execution_count": null,
   "id": "8bbc1a04",
   "metadata": {},
   "outputs": [],
   "source": [
    "def children_dependency(LC4408_C_AHTHUK11_x, Age, Total_Children_in_household):\n",
    "    if (LC4408_C_AHTHUK11_x == 2 or LC4408_C_AHTHUK11_x == 3 or LC4408_C_AHTHUK11_x == 4) and Age >= 18 and Total_Children_in_household > 0:\n",
    "        Children_dependency = True\n",
    "    else:\n",
    "        Children_dependency = False\n",
    "    return Children_dependency"
   ]
  },
  {
   "cell_type": "code",
   "execution_count": null,
   "id": "d31780b5",
   "metadata": {},
   "outputs": [],
   "source": [
    "# Run the lambda function \"Children_dependency\" to identify which adults have children dependencies\n",
    "df_persons_NE_Household_composition['Children_dependency'] = df_persons_NE_Household_composition.apply(lambda x: children_dependency(x['LC4408_C_AHTHUK11_x'], x['Age'], x['Total_Children_in_household']), axis=1)"
   ]
  },
  {
   "cell_type": "markdown",
   "id": "03d118b5",
   "metadata": {},
   "source": [
    "Export the data into csv file"
   ]
  },
  {
   "cell_type": "code",
   "execution_count": null,
   "id": "5ba0cf6c",
   "metadata": {},
   "outputs": [],
   "source": [
    "#Export the df_persons_NE_household_composition_updated\n",
    "\n",
    "df_persons_NE_Household_compositions_export = df_persons_NE_Household_composition\n",
    "\n",
    "df_persons_NE_Household_compositions_export.to_csv(r'C:\\Users\\b9055315\\Documents\\PhD_PROJECT\\Synthetic_population_developement\\SPENSER\\Data\\2019\\df_persons_NE_Household_composition_updated.csv', encoding='utf-8', header=True)\n"
   ]
  }
 ],
 "metadata": {
  "kernelspec": {
   "display_name": "Python 3 (ipykernel)",
   "language": "python",
   "name": "python3"
  },
  "language_info": {
   "codemirror_mode": {
    "name": "ipython",
    "version": 3
   },
   "file_extension": ".py",
   "mimetype": "text/x-python",
   "name": "python",
   "nbconvert_exporter": "python",
   "pygments_lexer": "ipython3",
   "version": "3.8.12"
  }
 },
 "nbformat": 4,
 "nbformat_minor": 5
}
