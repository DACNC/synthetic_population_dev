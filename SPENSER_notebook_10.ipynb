{
 "cells": [
  {
   "cell_type": "code",
   "execution_count": 1,
   "metadata": {},
   "outputs": [],
   "source": [
    "import glob\n",
    "import pandas as pd\n",
    "import numpy as np\n",
    "import os\n",
    "import csv\n",
    "import sys\n"
   ]
  },
  {
   "cell_type": "code",
   "execution_count": 2,
   "metadata": {},
   "outputs": [],
   "source": [
    "#Read CSV file containing the people from the North East of England\n",
    "df_persons_NE_driving_licence_dir = r'C:\\Users\\b9055315\\Documents\\PhD_PROJECT\\Synthetic_population_developement\\SPENSER\\Data\\2019\\Driving_licence' # use your path\n",
    "df_persons_NE_driving_licence_file = os.path.join(df_persons_NE_driving_licence_dir, \"df_persons_NE_drivinglicence_20222306_correct.csv\")\n",
    "df_persons_NE_driving_licence = pd.read_csv(df_persons_NE_driving_licence_file, index_col=None, header=0)"
   ]
  },
  {
   "cell_type": "code",
   "execution_count": 3,
   "metadata": {},
   "outputs": [
    {
     "data": {
      "text/plain": [
       "2645517"
      ]
     },
     "execution_count": 3,
     "metadata": {},
     "output_type": "execute_result"
    }
   ],
   "source": [
    "len(df_persons_NE_driving_licence)"
   ]
  },
  {
   "cell_type": "code",
   "execution_count": 4,
   "metadata": {},
   "outputs": [
    {
     "data": {
      "text/plain": [
       "Unnamed: 0               int64\n",
       "Unnamed: 0.1             int64\n",
       "PID_AreaMSOA            object\n",
       "PID                      int64\n",
       "Area_MSOA_x             object\n",
       "Area_OA_x               object\n",
       "Sex                      int64\n",
       "Age                      int64\n",
       "Ethnic                   int64\n",
       "HID_x                    int64\n",
       "HID_AreaOA_x            object\n",
       "LC4408_C_AHTHUK11_x      int64\n",
       "LC4404_C_SIZHUK11_x      int64\n",
       "LC4605_C_NSSEC_x         int64\n",
       "LC4202_C_CARSNO_x        int64\n",
       "LC4202_C_ETHHUK11_x      int64\n",
       "HRPID_AreaMSOA          object\n",
       "LC4605_C_NSSEC_y       float64\n",
       "QS420_CELL_x             int64\n",
       "RUC11                   object\n",
       "Driving_license           bool\n",
       "dtype: object"
      ]
     },
     "execution_count": 4,
     "metadata": {},
     "output_type": "execute_result"
    }
   ],
   "source": [
    "df_persons_NE_driving_licence.dtypes"
   ]
  },
  {
   "cell_type": "code",
   "execution_count": 5,
   "metadata": {},
   "outputs": [],
   "source": [
    "# Generate a new column in the dataframe ('Car_access).\n",
    "# this new column shows if the person have access to a car in the household \n",
    "# when the person has a driving licence and there is at least one car in the household.\n",
    "\n",
    "df_persons_NE_driving_licence['Car_access'] = False\n",
    "\n",
    "\n",
    "for idx_person, person in df_persons_NE_driving_licence.iterrows():\n",
    "    \n",
    "    # if there is at least one car in the household and the person has a driving licence\n",
    "    ##### if LC4202_C_CARSNO_x = 1 --> no cars in household\n",
    "    ##### if LC4202_C_CARSNO_x = 2 --> 1 car in household\n",
    "    ##### if LC4202_C_CARSNO_x = 3 --> 2 or more cars in household\n",
    "    if ((person['LC4202_C_CARSNO_x'] > 1) and (person['Driving_license'] == True)):\n",
    "        \n",
    "        df_persons_NE_driving_licence.at[idx_person,'Car_access'] = True\n",
    "        \n",
    "    else:\n",
    "        \n",
    "        df_persons_NE_driving_licence.at[idx_person,'Car_access'] =  False\n",
    "        \n",
    "       \n"
   ]
  },
  {
   "cell_type": "code",
   "execution_count": null,
   "metadata": {},
   "outputs": [],
   "source": []
  },
  {
   "cell_type": "code",
   "execution_count": 7,
   "metadata": {},
   "outputs": [],
   "source": [
    "df_persons_NE_car_access = df_persons_NE_driving_licence"
   ]
  },
  {
   "cell_type": "code",
   "execution_count": 8,
   "metadata": {},
   "outputs": [],
   "source": [
    "#Export the df_persons_NE_household_composition_updated\n",
    "\n",
    "df_persons_NE_car_access_20222306_correct = df_persons_NE_car_access\n",
    "\n",
    "df_persons_NE_car_access_20222306_correct.to_csv(r'C:\\Users\\b9055315\\Documents\\PhD_PROJECT\\Synthetic_population_developement\\SPENSER\\Data\\2019\\Driving_licence\\df_persons_NE_car_access_20222306_correct.csv', encoding='utf-8', header=True)\n"
   ]
  },
  {
   "cell_type": "code",
   "execution_count": null,
   "metadata": {},
   "outputs": [],
   "source": []
  }
 ],
 "metadata": {
  "kernelspec": {
   "display_name": "Python 3 (ipykernel)",
   "language": "python",
   "name": "python3"
  },
  "language_info": {
   "codemirror_mode": {
    "name": "ipython",
    "version": 3
   },
   "file_extension": ".py",
   "mimetype": "text/x-python",
   "name": "python",
   "nbconvert_exporter": "python",
   "pygments_lexer": "ipython3",
   "version": "3.8.12"
  }
 },
 "nbformat": 4,
 "nbformat_minor": 2
}
