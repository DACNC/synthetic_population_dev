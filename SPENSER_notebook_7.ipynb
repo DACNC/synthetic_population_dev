{
 "cells": [
  {
   "cell_type": "code",
   "execution_count": 1,
   "id": "41e1fe99",
   "metadata": {},
   "outputs": [],
   "source": [
    "import glob\n",
    "import pandas as pd\n",
    "import numpy as np\n",
    "import os\n",
    "import csv\n",
    "import sys\n",
    "import random"
   ]
  },
  {
   "cell_type": "code",
   "execution_count": 2,
   "id": "a4d623ee",
   "metadata": {},
   "outputs": [],
   "source": [
    "#Read CSV file containing the MSOA and OA values only from the North East of England\n",
    "df_persons_NE_occupation_dir = r'C:\\Users\\b9055315\\Documents\\PhD_PROJECT\\Synthetic_population_developement\\SPENSER\\Data\\2019\\economic_activity\\occupation' # use your path\n",
    "df_persons_NE_occupation_file = os.path.join(df_persons_NE_occupation_dir, \"df_after_occupation_20211126_v7.csv\")\n",
    "df_persons_NE_occupation = pd.read_csv(df_persons_NE_occupation_file, index_col=None, header=0)"
   ]
  },
  {
   "cell_type": "code",
   "execution_count": 3,
   "id": "0c01ceb7",
   "metadata": {},
   "outputs": [],
   "source": [
    "# Create a new column for the Occupation\n",
    "df_persons_NE_occupation['Income'] = np.nan"
   ]
  },
  {
   "cell_type": "code",
   "execution_count": 256,
   "id": "57446555",
   "metadata": {},
   "outputs": [
    {
     "name": "stdout",
     "output_type": "stream",
     "text": [
      "Occupation running:\n",
      "2\n",
      "Merging dataframes:\n",
      "Job done. check the results\n"
     ]
    }
   ],
   "source": [
    "## Income data\n",
    "\n",
    "# Source: \n",
    "## Employee earnings in the UK: 2019 Figure 11: Median Annual full-time gross pay by occupation\n",
    "### link: https://www.ons.gov.uk/employmentandlabourmarket/peopleinwork/earningsandworkinghours/bulletins/annualsurveyofhoursandearnings/2019\n",
    "\n",
    "#### Min and Max values per occupation type in the UK (removing lower and upper values due to they can be considered as outliers)\n",
    "\n",
    "## Values assigned manually after several iterations and starting using the first commented occupation_x_income values in\n",
    "## this cell. this data was coming from Employee earnings in the UK: 2019\n",
    "## link: https://www.ons.gov.uk/employmentandlabourmarket/peopleinwork/earningsandworkinghours/bulletins/annualsurveyofhoursandearnings/2019\n",
    "\n",
    "#occupation_1_income = [23000, 53000]\n",
    "occupation_2_income = [14500,69000]\n",
    "#occupation_3_income = [20000,35000]\n",
    "#occupation_4_income = [13000,24000]\n",
    "#occupation_5_income = [23000,27000]\n",
    "#occupation_6_income = [13000,17500]\n",
    "#occupation_7_income = [12500,18000]\n",
    "#occupation_8_income = [14500,26000]\n",
    "#occupation_9_income = [9000,18000]\n",
    "\n",
    "#The values we are looking for in the validation process are the ones related to the NE in the following dataset:\n",
    "# link: https://www.ons.gov.uk/employmentandlabourmarket/peopleinwork/earningsandworkinghours/datasets/regionbyoccupation2digitsocashetable3\n",
    "# Work Region Occupation SOC10 (2) Table 3.7a   Annual pay - Gross 2019.xls\n",
    "## path: C:\\Users\\b9055315\\Documents\\PhD_PROJECT\\Synthetic_population_developement\\Data\\Census\\Datasets_downloaded\\Income\\table32019revised\n",
    "\n",
    "\n",
    "# Employee earnings in the UK: 2019. Figure 6: Weekly earnings in London are £152 higher than the UK average\n",
    "## Link: https://www.ons.gov.uk/employmentandlabourmarket/peopleinwork/earningsandworkinghours/bulletins/annualsurveyofhoursandearnings/2019\n",
    "# Median full-time gross weekly earnings and percentage change from previous year, by workplace regions and countries, UK, April 2019\n",
    "#median_fulltime_gross_weekly_earning_UK = 584.9\n",
    "median_fulltime_gross_weekly_earning_NE = 533.0\n",
    "\n",
    "# Transform UK median fulltime gross weekly earning values to NE\n",
    "#conversor_value_UK_to_NE = median_fulltime_gross_weekly_earning_NE / median_fulltime_gross_weekly_earning_UK\n",
    "\n",
    "\n",
    "##########################################################################################\n",
    "\n",
    "# Source: \n",
    "## Gender pay gap \n",
    "### 2019 updated revised edition of this dataset\n",
    "#### genderpaygap2019revised.zip\n",
    "#### Table 3.12 - Work Region Occupation SOC10 (2) Table 3.12  Gender pay gap 2019\n",
    "#### TAb: all --> Table 3.12 Gender pay gap (%)^  - For all employee jobs^^: United Kingdom, 2019    \n",
    "##### Link: https://www.ons.gov.uk/employmentandlabourmarket/peopleinwork/earningsandworkinghours/datasets/annualsurveyofhoursandearningsashegenderpaygaptables\n",
    "\n",
    "#### Gender pay gap per occupation type (median value) North East values\n",
    "#occupation_1_gap = 0.264\n",
    "#occupation_2_gap = 0.077\n",
    "#occupation_3_gap = 0.095\n",
    "#occupation_4_gap = 0.056 \n",
    "#occupation_5_gap = 0.281\n",
    "#occupation_6_gap = 0.074\n",
    "#occupation_7_gap = 0.047\n",
    "#occupation_8_gap = 0.230\n",
    "#occupation_9_gap = 0.096\n",
    "\n",
    "#### Gender pay gap per occupation type (MEAN value) North East values\n",
    "#occupation_1_gap = 0.125\n",
    "occupation_2_gap = 0.114\n",
    "#occupation_3_gap = 0.102\n",
    "#occupation_4_gap = 0.057 \n",
    "#occupation_5_gap = 0.227\n",
    "#occupation_6_gap = 0.132\n",
    "#occupation_7_gap = 0.071\n",
    "#occupation_8_gap = 0.219\n",
    "#occupation_9_gap = 0.133\n",
    "##########################################################################################\n",
    "##########################################################################################\n",
    "\n",
    "## code developed:\n",
    "\n",
    "# Name all occupation types to loop through them in the code:\n",
    "#occupations = [1,2,3,4,5,6,7,8,9]\n",
    "occupations = [2]\n",
    "\n",
    "\n",
    "for occupation in occupations:\n",
    "    print('Occupation running:')\n",
    "    print(occupation)\n",
    "    \n",
    "    #Select the row of the df_occupation that is related to the selected OA area:\n",
    "    (globals()[f\"df_occupation_{occupation}\"]) = df_persons_NE_occupation.loc[(df_persons_NE_occupation['Occupation'] == occupation)]\n",
    "    \n",
    "    # Select the Min and Max income values of each occupation category:\n",
    "    occupation_income = (globals()[f\"occupation_{occupation}_income\"])\n",
    "    \n",
    "    # Convert UK values to NE\n",
    "    #occupation_income[0] = occupation_income[0] * conversor_value_UK_to_NE\n",
    "    #occupation_income[1] = occupation_income[1] * conversor_value_UK_to_NE\n",
    "    \n",
    "    # Calculate the income age slot\n",
    "    ## this value will indicate the range in which agents will be assigned the income based on their age\n",
    "    income_age_width_slot = (occupation_income[1] - occupation_income[0])/ 10\n",
    "    \n",
    "    \n",
    "    ##Do the calculus just agent by agent\n",
    "    for idx_person, person in (globals()[f\"df_occupation_{occupation}\"]).iterrows():\n",
    "        \n",
    "        # Identify the slot of income based on the age\n",
    "        ## This values were identified using https://www.ons.gov.uk/employmentandlabourmarket/peopleinwork/earningsandworkinghours/bulletins/annualsurveyofhoursandearnings/2019 \n",
    "        ## Figure 12: Weekly earnings for women peak in age-group 40 to 49 years for the first time Median full-time gross weekly earnings by sex and age group, UK, April 2019\n",
    "        ### there were identified 5 groups of age. Min and max income per occupation type were divided in 5 groups and assigned to agents based on their age\n",
    "        #### Agents aged 40-49 will earn more than any other, then agents aged 30-39, then 60+, then 25-29 and finally agents aged < 25\n",
    "                    \n",
    "        \n",
    "        \n",
    "        if (person['Age'] <= 17):\n",
    "            income_min = occupation_income[0] - (occupation_income[0]/2)\n",
    "            income_max = occupation_income[0] - (occupation_income[0]/3)\n",
    "        elif (person['Age'] > 17 and person['Age'] <= 21):\n",
    "            income_min = occupation_income[0] - income_age_width_slot\n",
    "            income_max = occupation_income[0] + 0.2 * income_age_width_slot    \n",
    "        elif (person['Age'] > 21 and person['Age'] < 30):\n",
    "            income_min = occupation_income[0] - (income_age_width_slot/3)\n",
    "            income_max = occupation_income[0] + 4 * income_age_width_slot\n",
    "        elif (person['Age'] >= 30 and person['Age'] < 40):\n",
    "            income_min = occupation_income[0] + 1.5 * income_age_width_slot\n",
    "            income_max = occupation_income[0] + 5.5 * income_age_width_slot\n",
    "        elif (person['Age'] >= 40 and person['Age'] < 50):\n",
    "            income_min = occupation_income[0] + 5 * income_age_width_slot\n",
    "            income_max = occupation_income[0] + 11 * income_age_width_slot \n",
    "        elif (person['Age'] >= 50 and person['Age'] < 60):\n",
    "            income_min = occupation_income[0] + 2 * income_age_width_slot\n",
    "            income_max = occupation_income[0] + 6.5 * income_age_width_slot\n",
    "        elif (person['Age'] >= 60):\n",
    "            income_min = occupation_income[0]\n",
    "            income_max = occupation_income[0] + 3 * income_age_width_slot\n",
    "\n",
    "\n",
    "\n",
    "       \n",
    "        \n",
    "        \n",
    "        \n",
    "        \n",
    "        # Find the minimum income value each agent will get based on their age\n",
    "        #income_min = occupation_income[0] + income_age_slot_chosen\n",
    "        #income_max = occupation_income[0] + income_age_slot_chosen + income_age_width_slot\n",
    "        \n",
    "        \n",
    "        # Value identified as the income value of the agent based on the occupation type and age range\n",
    "        income_selected_by_occupation_age = random.randint(int(income_min), int(income_max))\n",
    "        \n",
    "     \n",
    "        # Incorporate the gender gap\n",
    "        ## If male, then increase the income half of the gender income gap\n",
    "        ## If female, decrease the income half of the gender income gap\n",
    "        if (person['Sex'] == 1):   # Male\n",
    "            income_selected_by_occupation_age_sex = income_selected_by_occupation_age + (income_selected_by_occupation_age * (globals()[f\"occupation_{occupation}_gap\"])/2)\n",
    "        else:\n",
    "            income_selected_by_occupation_age_sex = income_selected_by_occupation_age - (income_selected_by_occupation_age * (globals()[f\"occupation_{occupation}_gap\"])/2)\n",
    "        \n",
    "                       \n",
    "        # Transform the income value into an integer and round it to the 10 closest value\n",
    "        income_chosen = int(income_selected_by_occupation_age_sex)\n",
    "        income_round = round(income_chosen,-1)\n",
    "        \n",
    "        # Update the value in the column \"Income\"\n",
    "        (globals()[f\"df_occupation_{occupation}\"]).at[idx_person,'Income'] = income_round\n",
    "        \n",
    "\n",
    "\n",
    "print('Merging dataframes:')\n",
    "        \n",
    "#df_occupation_income = [df_occupation_1, df_occupation_2, df_occupation_3,df_occupation_4,df_occupation_5,df_occupation_6,df_occupation_7, df_occupation_8, df_occupation_9]\n",
    "\n",
    "#df_occupation_income = [df_occupation_2]\n",
    "\n",
    "#df_income = pd.concat(df_occupation_income)\n",
    "\n",
    "print('Job done. check the results')\n"
   ]
  },
  {
   "cell_type": "code",
   "execution_count": 257,
   "id": "1b87ff3a",
   "metadata": {},
   "outputs": [
    {
     "name": "stdout",
     "output_type": "stream",
     "text": [
      "6840.0\n",
      "78690.0\n",
      "36142.27884607007\n",
      "33470.0\n"
     ]
    }
   ],
   "source": [
    "column = df_occupation_2[\"Income\"]\n",
    "min_value = column.min()\n",
    "max_value = column.max()\n",
    "mean_value = column.mean()\n",
    "median_value = column.median()\n",
    "\n",
    "print(min_value)\n",
    "print(max_value)\n",
    "print(mean_value)\n",
    "print(median_value)"
   ]
  },
  {
   "cell_type": "code",
   "execution_count": null,
   "id": "7fc9a82e",
   "metadata": {},
   "outputs": [],
   "source": []
  },
  {
   "cell_type": "code",
   "execution_count": null,
   "id": "92a18edc",
   "metadata": {},
   "outputs": [],
   "source": []
  },
  {
   "cell_type": "code",
   "execution_count": 258,
   "id": "947b3db6",
   "metadata": {},
   "outputs": [
    {
     "data": {
      "text/plain": [
       "1013.7211539299315"
      ]
     },
     "execution_count": 258,
     "metadata": {},
     "output_type": "execute_result"
    }
   ],
   "source": [
    "37156 - mean_value"
   ]
  },
  {
   "cell_type": "code",
   "execution_count": 259,
   "id": "e5083cb2",
   "metadata": {},
   "outputs": [
    {
     "data": {
      "text/plain": [
       "1005.0"
      ]
     },
     "execution_count": 259,
     "metadata": {},
     "output_type": "execute_result"
    }
   ],
   "source": [
    "34475 - median_value"
   ]
  },
  {
   "cell_type": "code",
   "execution_count": 260,
   "id": "65316c6c",
   "metadata": {},
   "outputs": [
    {
     "data": {
      "image/png": "[encoded data removed]",
      "text/plain": [
       "<Figure size 432x288 with 1 Axes>"
      ]
     },
     "metadata": {
      "needs_background": "light"
     },
     "output_type": "display_data"
    }
   ],
   "source": [
    "df_income.hist(column='Income', bins=50);"
   ]
  },
  {
   "cell_type": "code",
   "execution_count": 261,
   "id": "a0c7c915",
   "metadata": {
    "scrolled": true
   },
   "outputs": [
    {
     "name": "stdout",
     "output_type": "stream",
     "text": [
      "253.0\n",
      "-51.0\n",
      "104.0\n",
      "850.0\n",
      "-480.0\n",
      "-252.0\n",
      "-652.0\n",
      "870.0\n"
     ]
    }
   ],
   "source": [
    "print(18173 - df_occupation_2.Income.quantile(0.1))\n",
    "print(23699 - df_occupation_2.Income.quantile(0.2))\n",
    "print(27144- df_occupation_2.Income.quantile(0.3))\n",
    "print(30920 - df_occupation_2.Income.quantile(0.4))\n",
    "print(37270 - df_occupation_2.Income.quantile(0.6))\n",
    "print(41868 - df_occupation_2.Income.quantile(0.7))\n",
    "print(47088 - df_occupation_2.Income.quantile(0.8))\n",
    "print(60380 - df_occupation_2.Income.quantile(0.9))"
   ]
  },
  {
   "cell_type": "markdown",
   "id": "5fb7212b",
   "metadata": {},
   "source": [
    "### Check the order of the median income per range of age"
   ]
  },
  {
   "cell_type": "code",
   "execution_count": 269,
   "id": "4ffc47a4",
   "metadata": {},
   "outputs": [
    {
     "data": {
      "text/plain": [
       "8270.0"
      ]
     },
     "execution_count": 269,
     "metadata": {},
     "output_type": "execute_result"
    }
   ],
   "source": [
    "df_income_16_17_occupation_2 = df_occupation_2.loc[(df_occupation_2['Age'] >=16) & (df_occupation_2['Age'] <=17)]\n",
    "\n",
    "df_income_16_17_occupation_2[\"Income\"].median()"
   ]
  },
  {
   "cell_type": "code",
   "execution_count": 270,
   "id": "b84e26fc",
   "metadata": {},
   "outputs": [
    {
     "data": {
      "text/plain": [
       "12170.0"
      ]
     },
     "execution_count": 270,
     "metadata": {},
     "output_type": "execute_result"
    }
   ],
   "source": [
    "df_income_18_21_occupation_2 = df_occupation_2.loc[(df_occupation_2['Age'] >=18) & (df_occupation_2['Age'] <=21)]\n",
    "\n",
    "df_income_18_21_occupation_2[\"Income\"].median()"
   ]
  },
  {
   "cell_type": "code",
   "execution_count": 271,
   "id": "e27cc2bc",
   "metadata": {},
   "outputs": [
    {
     "data": {
      "text/plain": [
       "24270.0"
      ]
     },
     "execution_count": 271,
     "metadata": {},
     "output_type": "execute_result"
    }
   ],
   "source": [
    "df_income_22_29_occupation_2 = df_occupation_2.loc[(df_occupation_2['Age'] >=22) & (df_occupation_2['Age'] <=29)]\n",
    "\n",
    "df_income_22_29_occupation_2[\"Income\"].median()"
   ]
  },
  {
   "cell_type": "code",
   "execution_count": 272,
   "id": "e2f257bf",
   "metadata": {},
   "outputs": [
    {
     "data": {
      "text/plain": [
       "33280.0"
      ]
     },
     "execution_count": 272,
     "metadata": {},
     "output_type": "execute_result"
    }
   ],
   "source": [
    "df_income_30_39_occupation_2 = df_occupation_2.loc[(df_occupation_2['Age'] >=30) & (df_occupation_2['Age'] <=39)]\n",
    "\n",
    "df_income_30_39_occupation_2[\"Income\"].median()"
   ]
  },
  {
   "cell_type": "code",
   "execution_count": 273,
   "id": "0cd6a9ee",
   "metadata": {},
   "outputs": [
    {
     "data": {
      "text/plain": [
       "57470.0"
      ]
     },
     "execution_count": 273,
     "metadata": {},
     "output_type": "execute_result"
    }
   ],
   "source": [
    "df_income_40_49_occupation_2 = df_occupation_2.loc[(df_occupation_2['Age'] >=40) & (df_occupation_2['Age'] <=49)]\n",
    "\n",
    "df_income_40_49_occupation_2[\"Income\"].median()"
   ]
  },
  {
   "cell_type": "code",
   "execution_count": 274,
   "id": "964a51cc",
   "metadata": {},
   "outputs": [
    {
     "data": {
      "text/plain": [
       "37240.0"
      ]
     },
     "execution_count": 274,
     "metadata": {},
     "output_type": "execute_result"
    }
   ],
   "source": [
    "df_income_50_59_occupation_2 = df_occupation_2.loc[(df_occupation_2['Age'] >=50) & (df_occupation_2['Age'] <=59)]\n",
    "\n",
    "df_income_50_59_occupation_2[\"Income\"].median()"
   ]
  },
  {
   "cell_type": "code",
   "execution_count": 275,
   "id": "df22901b",
   "metadata": {},
   "outputs": [
    {
     "data": {
      "text/plain": [
       "22440.0"
      ]
     },
     "execution_count": 275,
     "metadata": {},
     "output_type": "execute_result"
    }
   ],
   "source": [
    "df_income_60_120_occupation_2 = df_occupation_2.loc[(df_occupation_2['Age'] >=60)]\n",
    "\n",
    "df_income_60_120_occupation_2[\"Income\"].median()"
   ]
  },
  {
   "cell_type": "code",
   "execution_count": 276,
   "id": "22ae6e9a",
   "metadata": {},
   "outputs": [],
   "source": [
    "df_occupation_2_saved = df_occupation_2\n",
    "\n",
    "df_occupation_2.to_csv(r'C:\\Users\\b9055315\\Documents\\PhD_PROJECT\\Synthetic_population_developement\\SPENSER\\Data\\2019\\income\\df_occupation_2_20220201.csv', encoding='utf-8', header=True)\n"
   ]
  },
  {
   "cell_type": "code",
   "execution_count": null,
   "id": "54047437",
   "metadata": {},
   "outputs": [],
   "source": []
  },
  {
   "cell_type": "markdown",
   "id": "510ec7d5",
   "metadata": {},
   "source": [
    "### Occupation 3"
   ]
  },
  {
   "cell_type": "code",
   "execution_count": 385,
   "id": "d16b3b80",
   "metadata": {},
   "outputs": [
    {
     "name": "stdout",
     "output_type": "stream",
     "text": [
      "Occupation running:\n",
      "3\n",
      "Merging dataframes:\n",
      "Job done. check the results\n"
     ]
    }
   ],
   "source": [
    "## Income data\n",
    "\n",
    "# Source: \n",
    "## Employee earnings in the UK: 2019 Figure 11: Median Annual full-time gross pay by occupation\n",
    "### link: https://www.ons.gov.uk/employmentandlabourmarket/peopleinwork/earningsandworkinghours/bulletins/annualsurveyofhoursandearnings/2019\n",
    "\n",
    "#### Min and Max values per occupation type in the UK (removing lower and upper values due to they can be considered as outliers)\n",
    "\n",
    "## Values assigned manually after several iterations and starting using the first commented occupation_x_income values in\n",
    "## this cell. this data was coming from Employee earnings in the UK: 2019\n",
    "## link: https://www.ons.gov.uk/employmentandlabourmarket/peopleinwork/earningsandworkinghours/bulletins/annualsurveyofhoursandearnings/2019\n",
    "\n",
    "#occupation_1_income = [23000, 53000]\n",
    "#occupation_2_income = [14500,69000]\n",
    "occupation_3_income = [13300,50300]\n",
    "#occupation_4_income = [13000,24000]\n",
    "#occupation_5_income = [23000,27000]\n",
    "#occupation_6_income = [13000,17500]\n",
    "#occupation_7_income = [12500,18000]\n",
    "#occupation_8_income = [14500,26000]\n",
    "#occupation_9_income = [9000,18000]\n",
    "\n",
    "#The values we are looking for in the validation process are the ones related to the NE in the following dataset:\n",
    "# link: https://www.ons.gov.uk/employmentandlabourmarket/peopleinwork/earningsandworkinghours/datasets/regionbyoccupation2digitsocashetable3\n",
    "# Work Region Occupation SOC10 (2) Table 3.7a   Annual pay - Gross 2019.xls\n",
    "## path: C:\\Users\\b9055315\\Documents\\PhD_PROJECT\\Synthetic_population_developement\\Data\\Census\\Datasets_downloaded\\Income\\table32019revised\n",
    "\n",
    "\n",
    "# Employee earnings in the UK: 2019. Figure 6: Weekly earnings in London are £152 higher than the UK average\n",
    "## Link: https://www.ons.gov.uk/employmentandlabourmarket/peopleinwork/earningsandworkinghours/bulletins/annualsurveyofhoursandearnings/2019\n",
    "# Median full-time gross weekly earnings and percentage change from previous year, by workplace regions and countries, UK, April 2019\n",
    "#median_fulltime_gross_weekly_earning_UK = 584.9\n",
    "#median_fulltime_gross_weekly_earning_NE = 533.0\n",
    "\n",
    "# Transform UK median fulltime gross weekly earning values to NE\n",
    "#conversor_value_UK_to_NE = median_fulltime_gross_weekly_earning_NE / median_fulltime_gross_weekly_earning_UK\n",
    "\n",
    "\n",
    "##########################################################################################\n",
    "\n",
    "# Source: \n",
    "## Gender pay gap \n",
    "### 2019 updated revised edition of this dataset\n",
    "#### genderpaygap2019revised.zip\n",
    "#### Table 3.12 - Work Region Occupation SOC10 (2) Table 3.12  Gender pay gap 2019\n",
    "#### TAb: all --> Table 3.12 Gender pay gap (%)^  - For all employee jobs^^: United Kingdom, 2019    \n",
    "##### Link: https://www.ons.gov.uk/employmentandlabourmarket/peopleinwork/earningsandworkinghours/datasets/annualsurveyofhoursandearningsashegenderpaygaptables\n",
    "\n",
    "#### Gender pay gap per occupation type (median value) North East values\n",
    "#occupation_1_gap = 0.264\n",
    "#occupation_2_gap = 0.077\n",
    "#occupation_3_gap = 0.095\n",
    "#occupation_4_gap = 0.056 \n",
    "#occupation_5_gap = 0.281\n",
    "#occupation_6_gap = 0.074\n",
    "#occupation_7_gap = 0.047\n",
    "#occupation_8_gap = 0.230\n",
    "#occupation_9_gap = 0.096\n",
    "\n",
    "#### Gender pay gap per occupation type (MEAN value) North East values\n",
    "#occupation_1_gap = 0.125\n",
    "#occupation_2_gap = 0.114\n",
    "occupation_3_gap = 0.102\n",
    "#occupation_4_gap = 0.057 \n",
    "#occupation_5_gap = 0.227\n",
    "#occupation_6_gap = 0.132\n",
    "#occupation_7_gap = 0.071\n",
    "#occupation_8_gap = 0.219\n",
    "#occupation_9_gap = 0.133\n",
    "##########################################################################################\n",
    "##########################################################################################\n",
    "\n",
    "## code developed:\n",
    "\n",
    "# Name all occupation types to loop through them in the code:\n",
    "#occupations = [1,2,3,4,5,6,7,8,9]\n",
    "occupations = [3]\n",
    "\n",
    "\n",
    "for occupation in occupations:\n",
    "    print('Occupation running:')\n",
    "    print(occupation)\n",
    "    \n",
    "    #Select the row of the df_occupation that is related to the selected OA area:\n",
    "    (globals()[f\"df_occupation_{occupation}\"]) = df_persons_NE_occupation.loc[(df_persons_NE_occupation['Occupation'] == occupation)]\n",
    "    \n",
    "    # Select the Min and Max income values of each occupation category:\n",
    "    occupation_income = (globals()[f\"occupation_{occupation}_income\"])\n",
    "    \n",
    "    # Convert UK values to NE\n",
    "    #occupation_income[0] = occupation_income[0] * conversor_value_UK_to_NE\n",
    "    #occupation_income[1] = occupation_income[1] * conversor_value_UK_to_NE\n",
    "    \n",
    "    # Calculate the income age slot\n",
    "    ## this value will indicate the range in which agents will be assigned the income based on their age\n",
    "    income_age_width_slot = (occupation_income[1] - occupation_income[0])/ 10\n",
    "    \n",
    "    \n",
    "    ##Do the calculus just agent by agent\n",
    "    for idx_person, person in (globals()[f\"df_occupation_{occupation}\"]).iterrows():\n",
    "        \n",
    "        # Identify the slot of income based on the age\n",
    "        ## This values were identified using https://www.ons.gov.uk/employmentandlabourmarket/peopleinwork/earningsandworkinghours/bulletins/annualsurveyofhoursandearnings/2019 \n",
    "        ## Figure 12: Weekly earnings for women peak in age-group 40 to 49 years for the first time Median full-time gross weekly earnings by sex and age group, UK, April 2019\n",
    "        ### there were identified 5 groups of age. Min and max income per occupation type were divided in 5 groups and assigned to agents based on their age\n",
    "        #### Agents aged 40-49 will earn more than any other, then agents aged 30-39, then 60+, then 25-29 and finally agents aged < 25\n",
    "                    \n",
    "        \n",
    "        \n",
    "        if (person['Age'] <= 17):\n",
    "            income_min = occupation_income[0] - (occupation_income[0]/2)\n",
    "            income_max = occupation_income[0] - (occupation_income[0]/3)\n",
    "        elif (person['Age'] > 17 and person['Age'] <= 21):\n",
    "            income_min = occupation_income[0] - income_age_width_slot\n",
    "            income_max = occupation_income[0] + 0.2 * income_age_width_slot    \n",
    "        elif (person['Age'] > 21 and person['Age'] < 30):\n",
    "            income_min = occupation_income[0] - (income_age_width_slot/3)\n",
    "            income_max = occupation_income[0] + 4.5 * income_age_width_slot\n",
    "        elif (person['Age'] >= 30 and person['Age'] < 40):\n",
    "            income_min = occupation_income[0] + 1.5 * income_age_width_slot\n",
    "            income_max = occupation_income[0] + 6.75 * income_age_width_slot\n",
    "        elif (person['Age'] >= 40 and person['Age'] < 50):\n",
    "            income_min = occupation_income[0] + 6 * income_age_width_slot\n",
    "            income_max = occupation_income[0] + 11 * income_age_width_slot \n",
    "        elif (person['Age'] >= 50 and person['Age'] < 60):\n",
    "            income_min = occupation_income[0] + 2 * income_age_width_slot\n",
    "            income_max = occupation_income[0] + 7.25 * income_age_width_slot\n",
    "        elif (person['Age'] >= 60):\n",
    "            income_min = occupation_income[0]\n",
    "            income_max = occupation_income[0] + 3 * income_age_width_slot\n",
    "\n",
    "\n",
    "\n",
    "       \n",
    "        \n",
    "        \n",
    "        \n",
    "        \n",
    "        # Find the minimum income value each agent will get based on their age\n",
    "        #income_min = occupation_income[0] + income_age_slot_chosen\n",
    "        #income_max = occupation_income[0] + income_age_slot_chosen + income_age_width_slot\n",
    "        \n",
    "        \n",
    "        # Value identified as the income value of the agent based on the occupation type and age range\n",
    "        income_selected_by_occupation_age = random.randint(int(income_min), int(income_max))\n",
    "        \n",
    "     \n",
    "        # Incorporate the gender gap\n",
    "        ## If male, then increase the income half of the gender income gap\n",
    "        ## If female, decrease the income half of the gender income gap\n",
    "        if (person['Sex'] == 1):   # Male\n",
    "            income_selected_by_occupation_age_sex = income_selected_by_occupation_age + (income_selected_by_occupation_age * (globals()[f\"occupation_{occupation}_gap\"])/2)\n",
    "        else:\n",
    "            income_selected_by_occupation_age_sex = income_selected_by_occupation_age - (income_selected_by_occupation_age * (globals()[f\"occupation_{occupation}_gap\"])/2)\n",
    "        \n",
    "                       \n",
    "        # Transform the income value into an integer and round it to the 10 closest value\n",
    "        income_chosen = int(income_selected_by_occupation_age_sex)\n",
    "        income_round = round(income_chosen,-1)\n",
    "        \n",
    "        # Update the value in the column \"Income\"\n",
    "        (globals()[f\"df_occupation_{occupation}\"]).at[idx_person,'Income'] = income_round\n",
    "        \n",
    "\n",
    "\n",
    "print('Merging dataframes:')\n",
    "        \n",
    "#df_occupation_income = [df_occupation_1, df_occupation_2, df_occupation_3,df_occupation_4,df_occupation_5,df_occupation_6,df_occupation_7, df_occupation_8, df_occupation_9]\n",
    "\n",
    "#df_occupation_income = [df_occupation_2]\n",
    "\n",
    "#df_income = pd.concat(df_occupation_income)\n",
    "\n",
    "print('Job done. check the results')"
   ]
  },
  {
   "cell_type": "code",
   "execution_count": 386,
   "id": "7c672dbf",
   "metadata": {},
   "outputs": [
    {
     "name": "stdout",
     "output_type": "stream",
     "text": [
      "6310.0\n",
      "56750.0\n",
      "29151.85517986915\n",
      "27720.0\n"
     ]
    }
   ],
   "source": [
    "column = df_occupation_3[\"Income\"]\n",
    "min_value = column.min()\n",
    "max_value = column.max()\n",
    "mean_value = column.mean()\n",
    "median_value = column.median()\n",
    "\n",
    "print(min_value)\n",
    "print(max_value)\n",
    "print(mean_value)\n",
    "print(median_value)"
   ]
  },
  {
   "cell_type": "code",
   "execution_count": 387,
   "id": "12dc7eb0",
   "metadata": {},
   "outputs": [
    {
     "data": {
      "text/plain": [
       "610.1448201308485"
      ]
     },
     "execution_count": 387,
     "metadata": {},
     "output_type": "execute_result"
    }
   ],
   "source": [
    "29762 -  mean_value"
   ]
  },
  {
   "cell_type": "code",
   "execution_count": 388,
   "id": "ab7de7b4",
   "metadata": {},
   "outputs": [
    {
     "data": {
      "text/plain": [
       "-229.0"
      ]
     },
     "execution_count": 388,
     "metadata": {},
     "output_type": "execute_result"
    }
   ],
   "source": [
    "27491 - median_value"
   ]
  },
  {
   "cell_type": "code",
   "execution_count": 389,
   "id": "8ef476ac",
   "metadata": {},
   "outputs": [
    {
     "data": {
      "image/png": "[encoded data removed]",
      "text/plain": [
       "<Figure size 432x288 with 1 Axes>"
      ]
     },
     "metadata": {
      "needs_background": "light"
     },
     "output_type": "display_data"
    }
   ],
   "source": [
    "df_occupation_3.hist(column='Income', bins=50);"
   ]
  },
  {
   "cell_type": "code",
   "execution_count": 390,
   "id": "42974572",
   "metadata": {},
   "outputs": [
    {
     "name": "stdout",
     "output_type": "stream",
     "text": [
      "-222.0\n",
      "-340.0\n",
      "-594.0\n",
      "-24.0\n",
      "-757.0\n",
      "-411.0\n",
      "38.0\n"
     ]
    }
   ],
   "source": [
    "print(14338 - df_occupation_3.Income.quantile(0.1))\n",
    "print(18920 - df_occupation_3.Income.quantile(0.2))\n",
    "print(21546- df_occupation_3.Income.quantile(0.3))\n",
    "print(24716 - df_occupation_3.Income.quantile(0.4))\n",
    "#print(27491 - df_occupation_3.Income.quantile(0.5))\n",
    "print(30423 - df_occupation_3.Income.quantile(0.6))\n",
    "print(34889 - df_occupation_3.Income.quantile(0.7))\n",
    "print(39348 - df_occupation_3.Income.quantile(0.8))\n"
   ]
  },
  {
   "cell_type": "code",
   "execution_count": 391,
   "id": "dc834f9f",
   "metadata": {},
   "outputs": [
    {
     "data": {
      "text/plain": [
       "7810.0"
      ]
     },
     "execution_count": 391,
     "metadata": {},
     "output_type": "execute_result"
    }
   ],
   "source": [
    "df_income_16_17_occupation_3 = df_occupation_3.loc[(df_occupation_3['Age'] >=16) & (df_occupation_3['Age'] <=17)]\n",
    "\n",
    "df_income_16_17_occupation_3[\"Income\"].median()"
   ]
  },
  {
   "cell_type": "code",
   "execution_count": 393,
   "id": "850d89d6",
   "metadata": {},
   "outputs": [
    {
     "data": {
      "text/plain": [
       "11860.0"
      ]
     },
     "execution_count": 393,
     "metadata": {},
     "output_type": "execute_result"
    }
   ],
   "source": [
    "df_income_18_21_occupation_3 = df_occupation_3.loc[(df_occupation_3['Age'] >=18) & (df_occupation_3['Age'] <=21)]\n",
    "\n",
    "df_income_18_21_occupation_3[\"Income\"].median()"
   ]
  },
  {
   "cell_type": "code",
   "execution_count": 394,
   "id": "2cc662c2",
   "metadata": {},
   "outputs": [
    {
     "data": {
      "text/plain": [
       "21180.0"
      ]
     },
     "execution_count": 394,
     "metadata": {},
     "output_type": "execute_result"
    }
   ],
   "source": [
    "df_income_22_29_occupation_3 = df_occupation_3.loc[(df_occupation_3['Age'] >=22) & (df_occupation_3['Age'] <=29)]\n",
    "\n",
    "df_income_22_29_occupation_3[\"Income\"].median()"
   ]
  },
  {
   "cell_type": "code",
   "execution_count": 395,
   "id": "8abe27f6",
   "metadata": {},
   "outputs": [
    {
     "data": {
      "text/plain": [
       "28680.0"
      ]
     },
     "execution_count": 395,
     "metadata": {},
     "output_type": "execute_result"
    }
   ],
   "source": [
    "df_income_30_39_occupation_3 = df_occupation_3.loc[(df_occupation_3['Age'] >=30) & (df_occupation_3['Age'] <=39)]\n",
    "\n",
    "df_income_30_39_occupation_3[\"Income\"].median()"
   ]
  },
  {
   "cell_type": "code",
   "execution_count": 397,
   "id": "7fa2dc7a",
   "metadata": {},
   "outputs": [
    {
     "data": {
      "text/plain": [
       "44830.0"
      ]
     },
     "execution_count": 397,
     "metadata": {},
     "output_type": "execute_result"
    }
   ],
   "source": [
    "df_income_40_49_occupation_3 = df_occupation_3.loc[(df_occupation_3['Age'] >=40) & (df_occupation_3['Age'] <=49)]\n",
    "\n",
    "df_income_40_49_occupation_3[\"Income\"].median()"
   ]
  },
  {
   "cell_type": "code",
   "execution_count": 398,
   "id": "1b615011",
   "metadata": {},
   "outputs": [
    {
     "data": {
      "text/plain": [
       "30440.0"
      ]
     },
     "execution_count": 398,
     "metadata": {},
     "output_type": "execute_result"
    }
   ],
   "source": [
    "df_income_50_59_occupation_3 = df_occupation_3.loc[(df_occupation_3['Age'] >=50) & (df_occupation_3['Age'] <=59)]\n",
    "\n",
    "df_income_50_59_occupation_3[\"Income\"].median()"
   ]
  },
  {
   "cell_type": "code",
   "execution_count": 399,
   "id": "095f18d9",
   "metadata": {},
   "outputs": [
    {
     "data": {
      "text/plain": [
       "18920.0"
      ]
     },
     "execution_count": 399,
     "metadata": {},
     "output_type": "execute_result"
    }
   ],
   "source": [
    "df_income_60_120_occupation_3 = df_occupation_3.loc[(df_occupation_3['Age'] >=60)]\n",
    "\n",
    "df_income_60_120_occupation_3[\"Income\"].median()"
   ]
  },
  {
   "cell_type": "code",
   "execution_count": 400,
   "id": "95c6f33c",
   "metadata": {},
   "outputs": [],
   "source": [
    "df_occupation_3_saved = df_occupation_3\n",
    "\n",
    "df_occupation_3_saved.to_csv(r'C:\\Users\\b9055315\\Documents\\PhD_PROJECT\\Synthetic_population_developement\\SPENSER\\Data\\2019\\income\\df_occupation_3_20220201.csv', encoding='utf-8', header=True)\n"
   ]
  },
  {
   "cell_type": "code",
   "execution_count": null,
   "id": "8b41805e",
   "metadata": {},
   "outputs": [],
   "source": []
  },
  {
   "cell_type": "markdown",
   "id": "7ab05e39",
   "metadata": {},
   "source": [
    "## Occupation 5"
   ]
  },
  {
   "cell_type": "code",
   "execution_count": 676,
   "id": "cdfe9e97",
   "metadata": {},
   "outputs": [
    {
     "name": "stdout",
     "output_type": "stream",
     "text": [
      "Occupation running:\n",
      "5\n",
      "Merging dataframes:\n",
      "Job done. check the results\n"
     ]
    }
   ],
   "source": [
    "## Income data\n",
    "\n",
    "# Source: \n",
    "## Employee earnings in the UK: 2019 Figure 11: Median Annual full-time gross pay by occupation\n",
    "### link: https://www.ons.gov.uk/employmentandlabourmarket/peopleinwork/earningsandworkinghours/bulletins/annualsurveyofhoursandearnings/2019\n",
    "\n",
    "#### Min and Max values per occupation type in the UK (removing lower and upper values due to they can be considered as outliers)\n",
    "\n",
    "## Values assigned manually after several iterations and starting using the first commented occupation_x_income values in\n",
    "## this cell. this data was coming from Employee earnings in the UK: 2019\n",
    "## link: https://www.ons.gov.uk/employmentandlabourmarket/peopleinwork/earningsandworkinghours/bulletins/annualsurveyofhoursandearnings/2019\n",
    "\n",
    "#occupation_1_income = [23000, 53000]\n",
    "#occupation_2_income = [14500,69000]\n",
    "#occupation_3_income = [13300,50300]\n",
    "#occupation_4_income = [13000,24000]\n",
    "occupation_5_income = [11500,44000]\n",
    "#occupation_6_income = [13000,17500]\n",
    "#occupation_7_income = [12500,18000]\n",
    "#occupation_8_income = [14500,26000]\n",
    "#occupation_9_income = [9000,18000]\n",
    "\n",
    "#The values we are looking for in the validation process are the ones related to the NE in the following dataset:\n",
    "# link: https://www.ons.gov.uk/employmentandlabourmarket/peopleinwork/earningsandworkinghours/datasets/regionbyoccupation2digitsocashetable3\n",
    "# Work Region Occupation SOC10 (2) Table 3.7a   Annual pay - Gross 2019.xls\n",
    "## path: C:\\Users\\b9055315\\Documents\\PhD_PROJECT\\Synthetic_population_developement\\Data\\Census\\Datasets_downloaded\\Income\\table32019revised\n",
    "\n",
    "\n",
    "# Employee earnings in the UK: 2019. Figure 6: Weekly earnings in London are £152 higher than the UK average\n",
    "## Link: https://www.ons.gov.uk/employmentandlabourmarket/peopleinwork/earningsandworkinghours/bulletins/annualsurveyofhoursandearnings/2019\n",
    "# Median full-time gross weekly earnings and percentage change from previous year, by workplace regions and countries, UK, April 2019\n",
    "#median_fulltime_gross_weekly_earning_UK = 584.9\n",
    "#median_fulltime_gross_weekly_earning_NE = 533.0\n",
    "\n",
    "# Transform UK median fulltime gross weekly earning values to NE\n",
    "#conversor_value_UK_to_NE = median_fulltime_gross_weekly_earning_NE / median_fulltime_gross_weekly_earning_UK\n",
    "\n",
    "\n",
    "##########################################################################################\n",
    "\n",
    "# Source: \n",
    "## Gender pay gap \n",
    "### 2019 updated revised edition of this dataset\n",
    "#### genderpaygap2019revised.zip\n",
    "#### Table 3.12 - Work Region Occupation SOC10 (2) Table 3.12  Gender pay gap 2019\n",
    "#### TAb: all --> Table 3.12 Gender pay gap (%)^  - For all employee jobs^^: United Kingdom, 2019    \n",
    "##### Link: https://www.ons.gov.uk/employmentandlabourmarket/peopleinwork/earningsandworkinghours/datasets/annualsurveyofhoursandearningsashegenderpaygaptables\n",
    "\n",
    "#### Gender pay gap per occupation type (median value) North East values\n",
    "#occupation_1_gap = 0.264\n",
    "#occupation_2_gap = 0.077\n",
    "#occupation_3_gap = 0.095\n",
    "#occupation_4_gap = 0.056 \n",
    "#occupation_5_gap = 0.281\n",
    "#occupation_6_gap = 0.074\n",
    "#occupation_7_gap = 0.047\n",
    "#occupation_8_gap = 0.230\n",
    "#occupation_9_gap = 0.096\n",
    "\n",
    "#### Gender pay gap per occupation type (MEAN value) North East values\n",
    "#occupation_1_gap = 0.125\n",
    "#occupation_2_gap = 0.114\n",
    "#occupation_3_gap = 0.102\n",
    "#occupation_4_gap = 0.057 \n",
    "occupation_5_gap = 0.227\n",
    "#occupation_6_gap = 0.132\n",
    "#occupation_7_gap = 0.071\n",
    "#occupation_8_gap = 0.219\n",
    "#occupation_9_gap = 0.133\n",
    "##########################################################################################\n",
    "##########################################################################################\n",
    "\n",
    "## code developed:\n",
    "\n",
    "# Name all occupation types to loop through them in the code:\n",
    "#occupations = [1,2,3,4,5,6,7,8,9]\n",
    "occupations = [5]\n",
    "\n",
    "\n",
    "for occupation in occupations:\n",
    "    print('Occupation running:')\n",
    "    print(occupation)\n",
    "    \n",
    "    #Select the row of the df_occupation that is related to the selected OA area:\n",
    "    (globals()[f\"df_occupation_{occupation}\"]) = df_persons_NE_occupation.loc[(df_persons_NE_occupation['Occupation'] == occupation)]\n",
    "    \n",
    "    # Select the Min and Max income values of each occupation category:\n",
    "    occupation_income = (globals()[f\"occupation_{occupation}_income\"])\n",
    "    \n",
    "    # Convert UK values to NE\n",
    "    #occupation_income[0] = occupation_income[0] * conversor_value_UK_to_NE\n",
    "    #occupation_income[1] = occupation_income[1] * conversor_value_UK_to_NE\n",
    "    \n",
    "    # Calculate the income age slot\n",
    "    ## this value will indicate the range in which agents will be assigned the income based on their age\n",
    "    income_age_width_slot = (occupation_income[1] - occupation_income[0])/ 10\n",
    "    \n",
    "    \n",
    "    ##Do the calculus just agent by agent\n",
    "    for idx_person, person in (globals()[f\"df_occupation_{occupation}\"]).iterrows():\n",
    "        \n",
    "        # Identify the slot of income based on the age\n",
    "        ## This values were identified using https://www.ons.gov.uk/employmentandlabourmarket/peopleinwork/earningsandworkinghours/bulletins/annualsurveyofhoursandearnings/2019 \n",
    "        ## Figure 12: Weekly earnings for women peak in age-group 40 to 49 years for the first time Median full-time gross weekly earnings by sex and age group, UK, April 2019\n",
    "        ### there were identified 5 groups of age. Min and max income per occupation type were divided in 5 groups and assigned to agents based on their age\n",
    "        #### Agents aged 40-49 will earn more than any other, then agents aged 30-39, then 60+, then 25-29 and finally agents aged < 25\n",
    "                    \n",
    "        \n",
    "        \n",
    "        if (person['Age'] <= 17):\n",
    "            income_min = occupation_income[0] - (occupation_income[0]/2)\n",
    "            income_max = occupation_income[0] - (occupation_income[0]/3)\n",
    "        elif (person['Age'] > 17 and person['Age'] <= 21):\n",
    "            income_min = occupation_income[0] - income_age_width_slot\n",
    "            income_max = occupation_income[0] + 0.2 * income_age_width_slot  \n",
    "        elif (person['Age'] > 21 and person['Age'] < 30):\n",
    "            income_min = occupation_income[0] + 0.5 * income_age_width_slot\n",
    "            income_max = occupation_income[0] + 5.5 * income_age_width_slot\n",
    "        elif (person['Age'] >= 30 and person['Age'] < 40):\n",
    "            income_min = occupation_income[0] + 2 * income_age_width_slot\n",
    "            income_max = occupation_income[0] + 6.5 * income_age_width_slot\n",
    "        elif (person['Age'] >= 40 and person['Age'] < 50):\n",
    "            income_min = occupation_income[0] + 6 * income_age_width_slot\n",
    "            income_max = occupation_income[0] + 11 * income_age_width_slot \n",
    "        elif (person['Age'] >= 50 and person['Age'] < 60):\n",
    "            income_min = occupation_income[0] + 2.5 * income_age_width_slot\n",
    "            income_max = occupation_income[0] + 7 * income_age_width_slot\n",
    "        elif (person['Age'] >= 60):\n",
    "            income_min = occupation_income[0]\n",
    "            income_max = occupation_income[0] + 3.2 * income_age_width_slot\n",
    "\n",
    "\n",
    "\n",
    "       \n",
    "        \n",
    "        \n",
    "        \n",
    "        \n",
    "        # Find the minimum income value each agent will get based on their age\n",
    "        #income_min = occupation_income[0] + income_age_slot_chosen\n",
    "        #income_max = occupation_income[0] + income_age_slot_chosen + income_age_width_slot\n",
    "        \n",
    "        \n",
    "        # Value identified as the income value of the agent based on the occupation type and age range\n",
    "        income_selected_by_occupation_age = random.randint(int(income_min), int(income_max))\n",
    "        \n",
    "     \n",
    "        # Incorporate the gender gap\n",
    "        ## If male, then increase the income half of the gender income gap\n",
    "        ## If female, decrease the income half of the gender income gap\n",
    "        if (person['Sex'] == 1):   # Male\n",
    "            income_selected_by_occupation_age_sex = income_selected_by_occupation_age + (income_selected_by_occupation_age * (globals()[f\"occupation_{occupation}_gap\"])/2)\n",
    "        else:\n",
    "            income_selected_by_occupation_age_sex = income_selected_by_occupation_age - (income_selected_by_occupation_age * (globals()[f\"occupation_{occupation}_gap\"])/2)\n",
    "        \n",
    "                       \n",
    "        # Transform the income value into an integer and round it to the 10 closest value\n",
    "        income_chosen = int(income_selected_by_occupation_age_sex)\n",
    "        income_round = round(income_chosen,-1)\n",
    "        \n",
    "        # Update the value in the column \"Income\"\n",
    "        (globals()[f\"df_occupation_{occupation}\"]).at[idx_person,'Income'] = income_round\n",
    "        \n",
    "\n",
    "\n",
    "print('Merging dataframes:')\n",
    "        \n",
    "#df_occupation_income = [df_occupation_1, df_occupation_2, df_occupation_3,df_occupation_4,df_occupation_5,df_occupation_6,df_occupation_7, df_occupation_8, df_occupation_9]\n",
    "\n",
    "#df_occupation_income = [df_occupation_2]\n",
    "\n",
    "#df_income = pd.concat(df_occupation_income)\n",
    "\n",
    "print('Job done. check the results')"
   ]
  },
  {
   "cell_type": "code",
   "execution_count": 677,
   "id": "9d6fbec6",
   "metadata": {},
   "outputs": [
    {
     "name": "stdout",
     "output_type": "stream",
     "text": [
      "5100.0\n",
      "52610.0\n",
      "28027.58728290835\n",
      "27340.0\n"
     ]
    }
   ],
   "source": [
    "column = df_occupation_5[\"Income\"]\n",
    "min_value = column.min()\n",
    "max_value = column.max()\n",
    "mean_value = column.mean()\n",
    "median_value = column.median()\n",
    "\n",
    "print(min_value)\n",
    "print(max_value)\n",
    "print(mean_value)\n",
    "print(median_value)"
   ]
  },
  {
   "cell_type": "code",
   "execution_count": 678,
   "id": "0f480313",
   "metadata": {},
   "outputs": [
    {
     "data": {
      "text/plain": [
       "410.41271709165085"
      ]
     },
     "execution_count": 678,
     "metadata": {},
     "output_type": "execute_result"
    }
   ],
   "source": [
    "28438 -  mean_value"
   ]
  },
  {
   "cell_type": "code",
   "execution_count": 679,
   "id": "e54602a4",
   "metadata": {
    "scrolled": true
   },
   "outputs": [
    {
     "data": {
      "text/plain": [
       "-129.0"
      ]
     },
     "execution_count": 679,
     "metadata": {},
     "output_type": "execute_result"
    }
   ],
   "source": [
    "27211 - median_value"
   ]
  },
  {
   "cell_type": "code",
   "execution_count": 680,
   "id": "dbc5bcdb",
   "metadata": {},
   "outputs": [
    {
     "data": {
      "image/png": "[encoded data removed]",
      "text/plain": [
       "<Figure size 432x288 with 1 Axes>"
      ]
     },
     "metadata": {
      "needs_background": "light"
     },
     "output_type": "display_data"
    }
   ],
   "source": [
    "df_occupation_5.hist(column='Income', bins=50);"
   ]
  },
  {
   "cell_type": "code",
   "execution_count": 681,
   "id": "db657c7a",
   "metadata": {},
   "outputs": [
    {
     "name": "stdout",
     "output_type": "stream",
     "text": [
      "-328.0\n",
      "421.0\n",
      "-129.0\n",
      "418.0\n",
      "-671.0\n",
      "-286.0\n",
      "7.0\n"
     ]
    }
   ],
   "source": [
    "print(13832 - df_occupation_5.Income.quantile(0.1))\n",
    "print(19431 - df_occupation_5.Income.quantile(0.2))\n",
    "print(22111- df_occupation_5.Income.quantile(0.3))\n",
    "print(24878 - df_occupation_5.Income.quantile(0.4))\n",
    "#print( - df_occupation_5.Income.quantile(0.5))\n",
    "print(29589 - df_occupation_5.Income.quantile(0.6))\n",
    "print(33084 - df_occupation_5.Income.quantile(0.7))\n",
    "print(36517 - df_occupation_5.Income.quantile(0.8))\n"
   ]
  },
  {
   "cell_type": "code",
   "execution_count": 682,
   "id": "0ec094d9",
   "metadata": {},
   "outputs": [
    {
     "data": {
      "text/plain": [
       "7380.0"
      ]
     },
     "execution_count": 682,
     "metadata": {},
     "output_type": "execute_result"
    }
   ],
   "source": [
    "df_income_16_17_occupation_5 = df_occupation_5.loc[(df_occupation_5['Age'] >=16) & (df_occupation_5['Age'] <=17)]\n",
    "\n",
    "df_income_16_17_occupation_5[\"Income\"].median()"
   ]
  },
  {
   "cell_type": "code",
   "execution_count": 683,
   "id": "35e027e9",
   "metadata": {},
   "outputs": [
    {
     "data": {
      "text/plain": [
       "11250.0"
      ]
     },
     "execution_count": 683,
     "metadata": {},
     "output_type": "execute_result"
    }
   ],
   "source": [
    "df_income_18_21_occupation_5 = df_occupation_5.loc[(df_occupation_5['Age'] >=18) & (df_occupation_5['Age'] <=21)]\n",
    "\n",
    "df_income_18_21_occupation_5[\"Income\"].median()"
   ]
  },
  {
   "cell_type": "code",
   "execution_count": 684,
   "id": "591e28ef",
   "metadata": {},
   "outputs": [
    {
     "data": {
      "text/plain": [
       "23180.0"
      ]
     },
     "execution_count": 684,
     "metadata": {},
     "output_type": "execute_result"
    }
   ],
   "source": [
    "df_income_22_29_occupation_5 = df_occupation_5.loc[(df_occupation_5['Age'] >=22) & (df_occupation_5['Age'] <=29)]\n",
    "\n",
    "df_income_22_29_occupation_5[\"Income\"].median()"
   ]
  },
  {
   "cell_type": "code",
   "execution_count": 685,
   "id": "0db0ff38",
   "metadata": {},
   "outputs": [
    {
     "data": {
      "text/plain": [
       "27850.0"
      ]
     },
     "execution_count": 685,
     "metadata": {},
     "output_type": "execute_result"
    }
   ],
   "source": [
    "df_income_30_39_occupation_5 = df_occupation_5.loc[(df_occupation_5['Age'] >=30) & (df_occupation_5['Age'] <=39)]\n",
    "\n",
    "df_income_30_39_occupation_5[\"Income\"].median()"
   ]
  },
  {
   "cell_type": "code",
   "execution_count": 686,
   "id": "591a5d49",
   "metadata": {},
   "outputs": [
    {
     "data": {
      "text/plain": [
       "43180.0"
      ]
     },
     "execution_count": 686,
     "metadata": {},
     "output_type": "execute_result"
    }
   ],
   "source": [
    "df_income_40_49_occupation_5 = df_occupation_5.loc[(df_occupation_5['Age'] >=40) & (df_occupation_5['Age'] <=49)]\n",
    "\n",
    "df_income_40_49_occupation_5[\"Income\"].median()"
   ]
  },
  {
   "cell_type": "code",
   "execution_count": 687,
   "id": "247131c3",
   "metadata": {},
   "outputs": [
    {
     "data": {
      "text/plain": [
       "29740.0"
      ]
     },
     "execution_count": 687,
     "metadata": {},
     "output_type": "execute_result"
    }
   ],
   "source": [
    "df_income_50_59_occupation_5 = df_occupation_5.loc[(df_occupation_5['Age'] >=50) & (df_occupation_5['Age'] <=59)]\n",
    "\n",
    "df_income_50_59_occupation_5[\"Income\"].median()"
   ]
  },
  {
   "cell_type": "code",
   "execution_count": 688,
   "id": "a9e5244d",
   "metadata": {},
   "outputs": [
    {
     "data": {
      "text/plain": [
       "18250.0"
      ]
     },
     "execution_count": 688,
     "metadata": {},
     "output_type": "execute_result"
    }
   ],
   "source": [
    "df_income_60_120_occupation_5 = df_occupation_5.loc[(df_occupation_5['Age'] >=60)]\n",
    "\n",
    "df_income_60_120_occupation_5[\"Income\"].median()"
   ]
  },
  {
   "cell_type": "code",
   "execution_count": 689,
   "id": "059bc79e",
   "metadata": {},
   "outputs": [],
   "source": [
    "df_occupation_5_saved = df_occupation_5\n",
    "\n",
    "df_occupation_5_saved.to_csv(r'C:\\Users\\b9055315\\Documents\\PhD_PROJECT\\Synthetic_population_developement\\SPENSER\\Data\\2019\\income\\df_occupation_5_20220201.csv', encoding='utf-8', header=True)\n"
   ]
  },
  {
   "cell_type": "code",
   "execution_count": null,
   "id": "f0a1e8a1",
   "metadata": {},
   "outputs": [],
   "source": []
  },
  {
   "cell_type": "markdown",
   "id": "0ed277b3",
   "metadata": {},
   "source": [
    "## Occupation 7"
   ]
  },
  {
   "cell_type": "code",
   "execution_count": 1006,
   "id": "d13d22d4",
   "metadata": {},
   "outputs": [
    {
     "name": "stdout",
     "output_type": "stream",
     "text": [
      "Occupation running:\n",
      "7\n",
      "Merging dataframes:\n",
      "Job done. check the results\n"
     ]
    }
   ],
   "source": [
    "## Income data\n",
    "\n",
    "# Source: \n",
    "## Employee earnings in the UK: 2019 Figure 11: Median Annual full-time gross pay by occupation\n",
    "### link: https://www.ons.gov.uk/employmentandlabourmarket/peopleinwork/earningsandworkinghours/bulletins/annualsurveyofhoursandearnings/2019\n",
    "\n",
    "#### Min and Max values per occupation type in the UK (removing lower and upper values due to they can be considered as outliers)\n",
    "\n",
    "## Values assigned manually after several iterations and starting using the first commented occupation_x_income values in\n",
    "## this cell. this data was coming from Employee earnings in the UK: 2019\n",
    "## link: https://www.ons.gov.uk/employmentandlabourmarket/peopleinwork/earningsandworkinghours/bulletins/annualsurveyofhoursandearnings/2019\n",
    "\n",
    "#occupation_1_income = [23000, 53000]\n",
    "#occupation_2_income = [14500,69000]\n",
    "#occupation_3_income = [13300,50300]\n",
    "#occupation_4_income = [13000,24000]\n",
    "#occupation_5_income = [11500,44000]\n",
    "#occupation_6_income = [13000,17500]\n",
    "occupation_7_income = [9200,32000]\n",
    "#occupation_8_income = [14500,26000]\n",
    "#occupation_9_income = [9000,18000]\n",
    "\n",
    "#The values we are looking for in the validation process are the ones related to the NE in the following dataset:\n",
    "# link: https://www.ons.gov.uk/employmentandlabourmarket/peopleinwork/earningsandworkinghours/datasets/regionbyoccupation2digitsocashetable3\n",
    "# Work Region Occupation SOC10 (2) Table 3.7a   Annual pay - Gross 2019.xls\n",
    "## path: C:\\Users\\b9055315\\Documents\\PhD_PROJECT\\Synthetic_population_developement\\Data\\Census\\Datasets_downloaded\\Income\\table32019revised\n",
    "\n",
    "\n",
    "# Employee earnings in the UK: 2019. Figure 6: Weekly earnings in London are £152 higher than the UK average\n",
    "## Link: https://www.ons.gov.uk/employmentandlabourmarket/peopleinwork/earningsandworkinghours/bulletins/annualsurveyofhoursandearnings/2019\n",
    "# Median full-time gross weekly earnings and percentage change from previous year, by workplace regions and countries, UK, April 2019\n",
    "#median_fulltime_gross_weekly_earning_UK = 584.9\n",
    "#median_fulltime_gross_weekly_earning_NE = 533.0\n",
    "\n",
    "# Transform UK median fulltime gross weekly earning values to NE\n",
    "#conversor_value_UK_to_NE = median_fulltime_gross_weekly_earning_NE / median_fulltime_gross_weekly_earning_UK\n",
    "\n",
    "\n",
    "##########################################################################################\n",
    "\n",
    "# Source: \n",
    "## Gender pay gap \n",
    "### 2019 updated revised edition of this dataset\n",
    "#### genderpaygap2019revised.zip\n",
    "#### Table 3.12 - Work Region Occupation SOC10 (2) Table 3.12  Gender pay gap 2019\n",
    "#### TAb: all --> Table 3.12 Gender pay gap (%)^  - For all employee jobs^^: United Kingdom, 2019    \n",
    "##### Link: https://www.ons.gov.uk/employmentandlabourmarket/peopleinwork/earningsandworkinghours/datasets/annualsurveyofhoursandearningsashegenderpaygaptables\n",
    "\n",
    "#### Gender pay gap per occupation type (median value) North East values\n",
    "#occupation_1_gap = 0.264\n",
    "#occupation_2_gap = 0.077\n",
    "#occupation_3_gap = 0.095\n",
    "#occupation_4_gap = 0.056 \n",
    "#occupation_5_gap = 0.281\n",
    "#occupation_6_gap = 0.074\n",
    "#occupation_7_gap = 0.047\n",
    "#occupation_8_gap = 0.230\n",
    "#occupation_9_gap = 0.096\n",
    "\n",
    "#### Gender pay gap per occupation type (MEAN value) North East values\n",
    "#occupation_1_gap = 0.125\n",
    "#occupation_2_gap = 0.114\n",
    "#occupation_3_gap = 0.102\n",
    "#occupation_4_gap = 0.057 \n",
    "#occupation_5_gap = 0.227\n",
    "#occupation_6_gap = 0.132\n",
    "occupation_7_gap = 0.071\n",
    "#occupation_8_gap = 0.219\n",
    "#occupation_9_gap = 0.133\n",
    "##########################################################################################\n",
    "##########################################################################################\n",
    "\n",
    "## code developed:\n",
    "\n",
    "# Name all occupation types to loop through them in the code:\n",
    "#occupations = [1,2,3,4,5,6,7,8,9]\n",
    "occupations = [7]\n",
    "\n",
    "\n",
    "for occupation in occupations:\n",
    "    print('Occupation running:')\n",
    "    print(occupation)\n",
    "    \n",
    "    #Select the row of the df_occupation that is related to the selected OA area:\n",
    "    (globals()[f\"df_occupation_{occupation}\"]) = df_persons_NE_occupation.loc[(df_persons_NE_occupation['Occupation'] == occupation)]\n",
    "    \n",
    "    # Select the Min and Max income values of each occupation category:\n",
    "    occupation_income = (globals()[f\"occupation_{occupation}_income\"])\n",
    "    \n",
    "    # Convert UK values to NE\n",
    "    #occupation_income[0] = occupation_income[0] * conversor_value_UK_to_NE\n",
    "    #occupation_income[1] = occupation_income[1] * conversor_value_UK_to_NE\n",
    "    \n",
    "    # Calculate the income age slot\n",
    "    ## this value will indicate the range in which agents will be assigned the income based on their age\n",
    "    income_age_width_slot = (occupation_income[1] - occupation_income[0])/ 10\n",
    "    \n",
    "    \n",
    "    ##Do the calculus just agent by agent\n",
    "    for idx_person, person in (globals()[f\"df_occupation_{occupation}\"]).iterrows():\n",
    "        \n",
    "        # Identify the slot of income based on the age\n",
    "        ## This values were identified using https://www.ons.gov.uk/employmentandlabourmarket/peopleinwork/earningsandworkinghours/bulletins/annualsurveyofhoursandearnings/2019 \n",
    "        ## Figure 12: Weekly earnings for women peak in age-group 40 to 49 years for the first time Median full-time gross weekly earnings by sex and age group, UK, April 2019\n",
    "        ### there were identified 5 groups of age. Min and max income per occupation type were divided in 5 groups and assigned to agents based on their age\n",
    "        #### Agents aged 40-49 will earn more than any other, then agents aged 30-39, then 60+, then 25-29 and finally agents aged < 25\n",
    "                    \n",
    "        \n",
    "        \n",
    "        if (person['Age'] <= 17):\n",
    "            income_min = occupation_income[0] - (occupation_income[0]/2)\n",
    "            income_max = occupation_income[0] - (occupation_income[0]/3)\n",
    "        elif (person['Age'] > 17 and person['Age'] <= 21):\n",
    "            income_min = occupation_income[0] - (occupation_income[0]/2)\n",
    "            income_max = occupation_income[0] + 0.5 * income_age_width_slot  \n",
    "        elif (person['Age'] > 21 and person['Age'] < 30):\n",
    "            income_min = occupation_income[0] - 1 * income_age_width_slot\n",
    "            income_max = occupation_income[0] + 3.2 * income_age_width_slot\n",
    "        elif (person['Age'] >= 30 and person['Age'] < 40):\n",
    "            income_min = occupation_income[0] + 0.4 * income_age_width_slot\n",
    "            income_max = occupation_income[0] + 6.3 * income_age_width_slot\n",
    "        elif (person['Age'] >= 40 and person['Age'] < 50):\n",
    "            income_min = occupation_income[0] + 5 * income_age_width_slot\n",
    "            income_max = occupation_income[0] + 9.5 * income_age_width_slot \n",
    "        elif (person['Age'] >= 50 and person['Age'] < 60):\n",
    "            income_min = occupation_income[0] + 1.75 * income_age_width_slot\n",
    "            income_max = occupation_income[0] + 7 * income_age_width_slot\n",
    "        elif (person['Age'] >= 60):\n",
    "            income_min = occupation_income[0] - 1 * income_age_width_slot\n",
    "            income_max = occupation_income[0] + 2.5 * income_age_width_slot\n",
    "\n",
    "\n",
    "\n",
    "\n",
    "       \n",
    "        \n",
    "        \n",
    "        \n",
    "        \n",
    "        # Find the minimum income value each agent will get based on their age\n",
    "        #income_min = occupation_income[0] + income_age_slot_chosen\n",
    "        #income_max = occupation_income[0] + income_age_slot_chosen + income_age_width_slot\n",
    "        \n",
    "        \n",
    "        # Value identified as the income value of the agent based on the occupation type and age range\n",
    "        income_selected_by_occupation_age = random.randint(int(income_min), int(income_max))\n",
    "        \n",
    "     \n",
    "        # Incorporate the gender gap\n",
    "        ## If male, then increase the income half of the gender income gap\n",
    "        ## If female, decrease the income half of the gender income gap\n",
    "        if (person['Sex'] == 1):   # Male\n",
    "            income_selected_by_occupation_age_sex = income_selected_by_occupation_age + (income_selected_by_occupation_age * (globals()[f\"occupation_{occupation}_gap\"])/2)\n",
    "        else:\n",
    "            income_selected_by_occupation_age_sex = income_selected_by_occupation_age - (income_selected_by_occupation_age * (globals()[f\"occupation_{occupation}_gap\"])/2)\n",
    "        \n",
    "                       \n",
    "        # Transform the income value into an integer and round it to the 10 closest value\n",
    "        income_chosen = int(income_selected_by_occupation_age_sex)\n",
    "        income_round = round(income_chosen,-1)\n",
    "        \n",
    "        # Update the value in the column \"Income\"\n",
    "        (globals()[f\"df_occupation_{occupation}\"]).at[idx_person,'Income'] = income_round\n",
    "        \n",
    "\n",
    "\n",
    "print('Merging dataframes:')\n",
    "        \n",
    "#df_occupation_income = [df_occupation_1, df_occupation_2, df_occupation_3,df_occupation_4,df_occupation_5,df_occupation_6,df_occupation_7, df_occupation_8, df_occupation_9]\n",
    "\n",
    "#df_occupation_income = [df_occupation_2]\n",
    "\n",
    "#df_income = pd.concat(df_occupation_income)\n",
    "\n",
    "print('Job done. check the results')"
   ]
  },
  {
   "cell_type": "code",
   "execution_count": 1007,
   "id": "56d2fae2",
   "metadata": {},
   "outputs": [
    {
     "name": "stdout",
     "output_type": "stream",
     "text": [
      "4440.0\n",
      "31950.0\n",
      "14751.257876751695\n",
      "13780.0\n"
     ]
    }
   ],
   "source": [
    "column = df_occupation_7[\"Income\"]\n",
    "min_value = column.min()\n",
    "max_value = column.max()\n",
    "mean_value = column.mean()\n",
    "median_value = column.median()\n",
    "\n",
    "print(min_value)\n",
    "print(max_value)\n",
    "print(mean_value)\n",
    "print(median_value)"
   ]
  },
  {
   "cell_type": "code",
   "execution_count": 1008,
   "id": "75c37d98",
   "metadata": {},
   "outputs": [
    {
     "data": {
      "text/plain": [
       "425.7421232483048"
      ]
     },
     "execution_count": 1008,
     "metadata": {},
     "output_type": "execute_result"
    }
   ],
   "source": [
    "15177 -  mean_value"
   ]
  },
  {
   "cell_type": "code",
   "execution_count": 1009,
   "id": "d985a1ce",
   "metadata": {},
   "outputs": [
    {
     "data": {
      "text/plain": [
       "-23.0"
      ]
     },
     "execution_count": 1009,
     "metadata": {},
     "output_type": "execute_result"
    }
   ],
   "source": [
    "13757 - median_value"
   ]
  },
  {
   "cell_type": "code",
   "execution_count": 1012,
   "id": "8fa90e61",
   "metadata": {},
   "outputs": [
    {
     "data": {
      "image/png": "[encoded data removed]",
      "text/plain": [
       "<Figure size 432x288 with 1 Axes>"
      ]
     },
     "metadata": {
      "needs_background": "light"
     },
     "output_type": "display_data"
    }
   ],
   "source": [
    "df_occupation_7.hist(column='Income', bins=50);"
   ]
  },
  {
   "cell_type": "code",
   "execution_count": 1013,
   "id": "de759a4d",
   "metadata": {},
   "outputs": [
    {
     "name": "stdout",
     "output_type": "stream",
     "text": [
      "-50.0\n",
      "-106.0\n",
      "-146.0\n",
      "-293.0\n",
      "374.0\n",
      "-31.0\n",
      "-386.0\n"
     ]
    }
   ],
   "source": [
    "print(6430 - df_occupation_7.Income.quantile(0.1))\n",
    "print(8274 - df_occupation_7.Income.quantile(0.2))\n",
    "print(9914 - df_occupation_7.Income.quantile(0.3))\n",
    "print(11697 - df_occupation_7.Income.quantile(0.4))\n",
    "#print( - df_occupation_5.Income.quantile(0.5))\n",
    "print(15964 - df_occupation_7.Income.quantile(0.6))\n",
    "print(18569 - df_occupation_7.Income.quantile(0.7))\n",
    "print(21034 - df_occupation_7.Income.quantile(0.8))\n"
   ]
  },
  {
   "cell_type": "code",
   "execution_count": 1014,
   "id": "693ac68d",
   "metadata": {},
   "outputs": [
    {
     "data": {
      "text/plain": [
       "5360.0"
      ]
     },
     "execution_count": 1014,
     "metadata": {},
     "output_type": "execute_result"
    }
   ],
   "source": [
    "df_income_16_17_occupation_7 = df_occupation_7.loc[(df_occupation_7['Age'] >=16) & (df_occupation_7['Age'] <=17)]\n",
    "\n",
    "df_income_16_17_occupation_7[\"Income\"].median()"
   ]
  },
  {
   "cell_type": "code",
   "execution_count": 1015,
   "id": "67a80990",
   "metadata": {},
   "outputs": [
    {
     "data": {
      "text/plain": [
       "7480.0"
      ]
     },
     "execution_count": 1015,
     "metadata": {},
     "output_type": "execute_result"
    }
   ],
   "source": [
    "df_income_18_21_occupation_7 = df_occupation_7.loc[(df_occupation_7['Age'] >=18) & (df_occupation_7['Age'] <=21)]\n",
    "\n",
    "df_income_18_21_occupation_7[\"Income\"].median()"
   ]
  },
  {
   "cell_type": "code",
   "execution_count": 1016,
   "id": "6156ea68",
   "metadata": {},
   "outputs": [
    {
     "data": {
      "text/plain": [
       "11650.0"
      ]
     },
     "execution_count": 1016,
     "metadata": {},
     "output_type": "execute_result"
    }
   ],
   "source": [
    "df_income_22_29_occupation_7 = df_occupation_7.loc[(df_occupation_7['Age'] >=22) & (df_occupation_7['Age'] <=29)]\n",
    "\n",
    "df_income_22_29_occupation_7[\"Income\"].median()"
   ]
  },
  {
   "cell_type": "code",
   "execution_count": 1017,
   "id": "c3a38b3e",
   "metadata": {},
   "outputs": [
    {
     "data": {
      "text/plain": [
       "16470.0"
      ]
     },
     "execution_count": 1017,
     "metadata": {},
     "output_type": "execute_result"
    }
   ],
   "source": [
    "df_income_30_39_occupation_7 = df_occupation_7.loc[(df_occupation_7['Age'] >=30) & (df_occupation_7['Age'] <=39)]\n",
    "\n",
    "df_income_30_39_occupation_7[\"Income\"].median()"
   ]
  },
  {
   "cell_type": "code",
   "execution_count": 1018,
   "id": "4f7c8671",
   "metadata": {},
   "outputs": [
    {
     "data": {
      "text/plain": [
       "25030.0"
      ]
     },
     "execution_count": 1018,
     "metadata": {},
     "output_type": "execute_result"
    }
   ],
   "source": [
    "df_income_40_49_occupation_7 = df_occupation_7.loc[(df_occupation_7['Age'] >=40) & (df_occupation_7['Age'] <=49)]\n",
    "\n",
    "df_income_40_49_occupation_7[\"Income\"].median()"
   ]
  },
  {
   "cell_type": "code",
   "execution_count": 1019,
   "id": "783f393e",
   "metadata": {},
   "outputs": [
    {
     "data": {
      "text/plain": [
       "18590.0"
      ]
     },
     "execution_count": 1019,
     "metadata": {},
     "output_type": "execute_result"
    }
   ],
   "source": [
    "df_income_50_59_occupation_7 = df_occupation_7.loc[(df_occupation_7['Age'] >=50) & (df_occupation_7['Age'] <=59)]\n",
    "\n",
    "df_income_50_59_occupation_7[\"Income\"].median()"
   ]
  },
  {
   "cell_type": "code",
   "execution_count": 1020,
   "id": "c871f413",
   "metadata": {},
   "outputs": [
    {
     "data": {
      "text/plain": [
       "10550.0"
      ]
     },
     "execution_count": 1020,
     "metadata": {},
     "output_type": "execute_result"
    }
   ],
   "source": [
    "df_income_60_120_occupation_7 = df_occupation_7.loc[(df_occupation_7['Age'] >=60)]\n",
    "\n",
    "df_income_60_120_occupation_7[\"Income\"].median()"
   ]
  },
  {
   "cell_type": "code",
   "execution_count": 1021,
   "id": "27aeccba",
   "metadata": {},
   "outputs": [],
   "source": [
    "df_occupation_7_saved = df_occupation_7\n",
    "\n",
    "df_occupation_7_saved.to_csv(r'C:\\Users\\b9055315\\Documents\\PhD_PROJECT\\Synthetic_population_developement\\SPENSER\\Data\\2019\\income\\df_occupation_7_20220202.csv', encoding='utf-8', header=True)\n"
   ]
  },
  {
   "cell_type": "code",
   "execution_count": null,
   "id": "8f780151",
   "metadata": {},
   "outputs": [],
   "source": []
  },
  {
   "cell_type": "code",
   "execution_count": null,
   "id": "4806ea05",
   "metadata": {},
   "outputs": [],
   "source": []
  },
  {
   "cell_type": "markdown",
   "id": "7a18d657",
   "metadata": {},
   "source": [
    "### Occupation 8"
   ]
  },
  {
   "cell_type": "code",
   "execution_count": 1471,
   "id": "a39f1657",
   "metadata": {},
   "outputs": [
    {
     "name": "stdout",
     "output_type": "stream",
     "text": [
      "Occupation running:\n",
      "8\n",
      "Merging dataframes:\n",
      "Job done. check the results\n"
     ]
    }
   ],
   "source": [
    "## Income data\n",
    "\n",
    "# Source: \n",
    "## Employee earnings in the UK: 2019 Figure 11: Median Annual full-time gross pay by occupation\n",
    "### link: https://www.ons.gov.uk/employmentandlabourmarket/peopleinwork/earningsandworkinghours/bulletins/annualsurveyofhoursandearnings/2019\n",
    "\n",
    "#### Min and Max values per occupation type in the UK (removing lower and upper values due to they can be considered as outliers)\n",
    "\n",
    "## Values assigned manually after several iterations and starting using the first commented occupation_x_income values in\n",
    "## this cell. this data was coming from Employee earnings in the UK: 2019\n",
    "## link: https://www.ons.gov.uk/employmentandlabourmarket/peopleinwork/earningsandworkinghours/bulletins/annualsurveyofhoursandearnings/2019\n",
    "\n",
    "#occupation_1_income = [23000, 53000]\n",
    "#occupation_2_income = [14500,69000]\n",
    "#occupation_3_income = [13300,50300]\n",
    "#occupation_4_income = [13000,24000]\n",
    "#occupation_5_income = [11500,44000]\n",
    "#occupation_6_income = [13000,17500]\n",
    "#occupation_7_income = [9200,32000]\n",
    "occupation_8_income = [10000,38000]\n",
    "#occupation_9_income = [9000,18000]\n",
    "\n",
    "#The values we are looking for in the validation process are the ones related to the NE in the following dataset:\n",
    "# link: https://www.ons.gov.uk/employmentandlabourmarket/peopleinwork/earningsandworkinghours/datasets/regionbyoccupation2digitsocashetable3\n",
    "# Work Region Occupation SOC10 (2) Table 3.7a   Annual pay - Gross 2019.xls\n",
    "## path: C:\\Users\\b9055315\\Documents\\PhD_PROJECT\\Synthetic_population_developement\\Data\\Census\\Datasets_downloaded\\Income\\table32019revised\n",
    "\n",
    "\n",
    "# Employee earnings in the UK: 2019. Figure 6: Weekly earnings in London are £152 higher than the UK average\n",
    "## Link: https://www.ons.gov.uk/employmentandlabourmarket/peopleinwork/earningsandworkinghours/bulletins/annualsurveyofhoursandearnings/2019\n",
    "# Median full-time gross weekly earnings and percentage change from previous year, by workplace regions and countries, UK, April 2019\n",
    "#median_fulltime_gross_weekly_earning_UK = 584.9\n",
    "#median_fulltime_gross_weekly_earning_NE = 533.0\n",
    "\n",
    "# Transform UK median fulltime gross weekly earning values to NE\n",
    "#conversor_value_UK_to_NE = median_fulltime_gross_weekly_earning_NE / median_fulltime_gross_weekly_earning_UK\n",
    "\n",
    "\n",
    "##########################################################################################\n",
    "\n",
    "# Source: \n",
    "## Gender pay gap \n",
    "### 2019 updated revised edition of this dataset\n",
    "#### genderpaygap2019revised.zip\n",
    "#### Table 3.12 - Work Region Occupation SOC10 (2) Table 3.12  Gender pay gap 2019\n",
    "#### TAb: all --> Table 3.12 Gender pay gap (%)^  - For all employee jobs^^: United Kingdom, 2019    \n",
    "##### Link: https://www.ons.gov.uk/employmentandlabourmarket/peopleinwork/earningsandworkinghours/datasets/annualsurveyofhoursandearningsashegenderpaygaptables\n",
    "\n",
    "#### Gender pay gap per occupation type (median value) North East values\n",
    "#occupation_1_gap = 0.264\n",
    "#occupation_2_gap = 0.077\n",
    "#occupation_3_gap = 0.095\n",
    "#occupation_4_gap = 0.056 \n",
    "#occupation_5_gap = 0.281\n",
    "#occupation_6_gap = 0.074\n",
    "#occupation_7_gap = 0.047\n",
    "#occupation_8_gap = 0.230\n",
    "#occupation_9_gap = 0.096\n",
    "\n",
    "#### Gender pay gap per occupation type (MEAN value) North East values\n",
    "#occupation_1_gap = 0.125\n",
    "#occupation_2_gap = 0.114\n",
    "#occupation_3_gap = 0.102\n",
    "#occupation_4_gap = 0.057 \n",
    "#occupation_5_gap = 0.227\n",
    "#occupation_6_gap = 0.132\n",
    "#occupation_7_gap = 0.071\n",
    "occupation_8_gap = 0.219\n",
    "#occupation_9_gap = 0.133\n",
    "##########################################################################################\n",
    "##########################################################################################\n",
    "\n",
    "## code developed:\n",
    "\n",
    "# Name all occupation types to loop through them in the code:\n",
    "#occupations = [1,2,3,4,5,6,7,8,9]\n",
    "occupations = [8]\n",
    "\n",
    "\n",
    "for occupation in occupations:\n",
    "    print('Occupation running:')\n",
    "    print(occupation)\n",
    "    \n",
    "    #Select the row of the df_occupation that is related to the selected OA area:\n",
    "    (globals()[f\"df_occupation_{occupation}\"]) = df_persons_NE_occupation.loc[(df_persons_NE_occupation['Occupation'] == occupation)]\n",
    "    \n",
    "    # Select the Min and Max income values of each occupation category:\n",
    "    occupation_income = (globals()[f\"occupation_{occupation}_income\"])\n",
    "    \n",
    "    # Convert UK values to NE\n",
    "    #occupation_income[0] = occupation_income[0] * conversor_value_UK_to_NE\n",
    "    #occupation_income[1] = occupation_income[1] * conversor_value_UK_to_NE\n",
    "    \n",
    "    # Calculate the income age slot\n",
    "    ## this value will indicate the range in which agents will be assigned the income based on their age\n",
    "    income_age_width_slot = (occupation_income[1] - occupation_income[0])/ 10\n",
    "    \n",
    "    \n",
    "    ##Do the calculus just agent by agent\n",
    "    for idx_person, person in (globals()[f\"df_occupation_{occupation}\"]).iterrows():\n",
    "        \n",
    "        # Identify the slot of income based on the age\n",
    "        ## This values were identified using https://www.ons.gov.uk/employmentandlabourmarket/peopleinwork/earningsandworkinghours/bulletins/annualsurveyofhoursandearnings/2019 \n",
    "        ## Figure 12: Weekly earnings for women peak in age-group 40 to 49 years for the first time Median full-time gross weekly earnings by sex and age group, UK, April 2019\n",
    "        ### there were identified 5 groups of age. Min and max income per occupation type were divided in 5 groups and assigned to agents based on their age\n",
    "        #### Agents aged 40-49 will earn more than any other, then agents aged 30-39, then 60+, then 25-29 and finally agents aged < 25\n",
    "                    \n",
    "        \n",
    "        \n",
    "        if (person['Age'] <= 17):\n",
    "            income_min = occupation_income[0] - (2*occupation_income[0]/3)\n",
    "            income_max = occupation_income[0] - (occupation_income[0]/3)\n",
    "        elif (person['Age'] > 17 and person['Age'] <= 21):\n",
    "            income_min = occupation_income[0] - 1.5 * income_age_width_slot\n",
    "            income_max = occupation_income[0] - 0 * income_age_width_slot  \n",
    "        elif (person['Age'] > 21 and person['Age'] < 30):\n",
    "            income_min = occupation_income[0] + 0.2 * income_age_width_slot\n",
    "            income_max = occupation_income[0] + 5.5 * income_age_width_slot\n",
    "        elif (person['Age'] >= 30 and person['Age'] < 40):\n",
    "            income_min = occupation_income[0] + 2.2 * income_age_width_slot\n",
    "            income_max = occupation_income[0] + 6 * income_age_width_slot\n",
    "        elif (person['Age'] >= 40 and person['Age'] < 50):\n",
    "            income_min = occupation_income[0] + 6 * income_age_width_slot\n",
    "            income_max = occupation_income[0] + 11 * income_age_width_slot \n",
    "        elif (person['Age'] >= 50 and person['Age'] < 60):\n",
    "            income_min = occupation_income[0] + 2.5 * income_age_width_slot\n",
    "            income_max = occupation_income[0] + 7 * income_age_width_slot\n",
    "        elif (person['Age'] >= 60):\n",
    "            income_min = occupation_income[0] - 0.2 * income_age_width_slot\n",
    "            income_max = occupation_income[0] + 3.3 * income_age_width_slot\n",
    "\n",
    "\n",
    "\n",
    "\n",
    "\n",
    "        \n",
    "        \n",
    "        # Find the minimum income value each agent will get based on their age\n",
    "        #income_min = occupation_income[0] + income_age_slot_chosen\n",
    "        #income_max = occupation_income[0] + income_age_slot_chosen + income_age_width_slot\n",
    "        \n",
    "        \n",
    "        # Value identified as the income value of the agent based on the occupation type and age range\n",
    "        income_selected_by_occupation_age = random.randint(int(income_min), int(income_max))\n",
    "        \n",
    "     \n",
    "        # Incorporate the gender gap\n",
    "        ## If male, then increase the income half of the gender income gap\n",
    "        ## If female, decrease the income half of the gender income gap\n",
    "        if (person['Sex'] == 1):   # Male\n",
    "            income_selected_by_occupation_age_sex = income_selected_by_occupation_age + (income_selected_by_occupation_age * (globals()[f\"occupation_{occupation}_gap\"])/2)\n",
    "        else:\n",
    "            income_selected_by_occupation_age_sex = income_selected_by_occupation_age - (income_selected_by_occupation_age * (globals()[f\"occupation_{occupation}_gap\"])/2)\n",
    "        \n",
    "                       \n",
    "        # Transform the income value into an integer and round it to the 10 closest value\n",
    "        income_chosen = int(income_selected_by_occupation_age_sex)\n",
    "        income_round = round(income_chosen,-1)\n",
    "        \n",
    "        # Update the value in the column \"Income\"\n",
    "        (globals()[f\"df_occupation_{occupation}\"]).at[idx_person,'Income'] = income_round\n",
    "        \n",
    "\n",
    "\n",
    "print('Merging dataframes:')\n",
    "        \n",
    "#df_occupation_income = [df_occupation_1, df_occupation_2, df_occupation_3,df_occupation_4,df_occupation_5,df_occupation_6,df_occupation_7, df_occupation_8, df_occupation_9]\n",
    "\n",
    "#df_occupation_income = [df_occupation_2]\n",
    "\n",
    "#df_income = pd.concat(df_occupation_income)\n",
    "\n",
    "print('Job done. check the results')"
   ]
  },
  {
   "cell_type": "code",
   "execution_count": 1472,
   "id": "54bf0204",
   "metadata": {},
   "outputs": [
    {
     "name": "stdout",
     "output_type": "stream",
     "text": [
      "2970.0\n",
      "45270.0\n",
      "24660.416830283517\n",
      "23920.0\n"
     ]
    }
   ],
   "source": [
    "column = df_occupation_8[\"Income\"]\n",
    "min_value = column.min()\n",
    "max_value = column.max()\n",
    "mean_value = column.mean()\n",
    "median_value = column.median()\n",
    "\n",
    "print(min_value)\n",
    "print(max_value)\n",
    "print(mean_value)\n",
    "print(median_value)"
   ]
  },
  {
   "cell_type": "code",
   "execution_count": 1473,
   "id": "a5e6c231",
   "metadata": {},
   "outputs": [
    {
     "data": {
      "text/plain": [
       "-278.4168302835169"
      ]
     },
     "execution_count": 1473,
     "metadata": {},
     "output_type": "execute_result"
    }
   ],
   "source": [
    "24382 -  mean_value"
   ]
  },
  {
   "cell_type": "code",
   "execution_count": 1474,
   "id": "5ae78e25",
   "metadata": {},
   "outputs": [
    {
     "data": {
      "text/plain": [
       "-443.0"
      ]
     },
     "execution_count": 1474,
     "metadata": {},
     "output_type": "execute_result"
    }
   ],
   "source": [
    "23477 - median_value"
   ]
  },
  {
   "cell_type": "code",
   "execution_count": 1475,
   "id": "138b312d",
   "metadata": {},
   "outputs": [
    {
     "data": {
      "image/png": "[encoded data removed]",
      "text/plain": [
       "<Figure size 432x288 with 1 Axes>"
      ]
     },
     "metadata": {
      "needs_background": "light"
     },
     "output_type": "display_data"
    }
   ],
   "source": [
    "df_occupation_8.hist(column='Income', bins=50);"
   ]
  },
  {
   "cell_type": "code",
   "execution_count": 1476,
   "id": "1ff52ecd",
   "metadata": {},
   "outputs": [
    {
     "name": "stdout",
     "output_type": "stream",
     "text": [
      "-242.0\n",
      "305.0\n",
      "-417.0\n",
      "-123.0\n",
      "-572.0\n",
      "-137.0\n",
      "-60.0\n"
     ]
    }
   ],
   "source": [
    "print(12858 - df_occupation_8.Income.quantile(0.1))\n",
    "print(17575 - df_occupation_8.Income.quantile(0.2))\n",
    "print(19323 - df_occupation_8.Income.quantile(0.3))\n",
    "print(21477 - df_occupation_8.Income.quantile(0.4))\n",
    "#print( - df_occupation_8.Income.quantile(0.5))\n",
    "print(25768 - df_occupation_8.Income.quantile(0.6))\n",
    "print(28843 - df_occupation_8.Income.quantile(0.7))\n",
    "print(32000 - df_occupation_8.Income.quantile(0.8))\n"
   ]
  },
  {
   "cell_type": "code",
   "execution_count": 1479,
   "id": "7a1fadf2",
   "metadata": {},
   "outputs": [
    {
     "data": {
      "text/plain": [
       "5385.0"
      ]
     },
     "execution_count": 1479,
     "metadata": {},
     "output_type": "execute_result"
    }
   ],
   "source": [
    "df_income_16_17_occupation_8 = df_occupation_8.loc[(df_occupation_8['Age'] >=16) & (df_occupation_8['Age'] <=17)]\n",
    "\n",
    "df_income_16_17_occupation_8[\"Income\"].median()"
   ]
  },
  {
   "cell_type": "code",
   "execution_count": 1480,
   "id": "f80ff2af",
   "metadata": {},
   "outputs": [
    {
     "data": {
      "text/plain": [
       "8640.0"
      ]
     },
     "execution_count": 1480,
     "metadata": {},
     "output_type": "execute_result"
    }
   ],
   "source": [
    "df_income_18_21_occupation_8 = df_occupation_8.loc[(df_occupation_8['Age'] >=18) & (df_occupation_8['Age'] <=21)]\n",
    "\n",
    "df_income_18_21_occupation_8[\"Income\"].median()"
   ]
  },
  {
   "cell_type": "code",
   "execution_count": 1481,
   "id": "3e85730b",
   "metadata": {},
   "outputs": [
    {
     "data": {
      "text/plain": [
       "19690.0"
      ]
     },
     "execution_count": 1481,
     "metadata": {},
     "output_type": "execute_result"
    }
   ],
   "source": [
    "df_income_22_29_occupation_8 = df_occupation_8.loc[(df_occupation_8['Age'] >=22) & (df_occupation_8['Age'] <=29)]\n",
    "\n",
    "df_income_22_29_occupation_8[\"Income\"].median()"
   ]
  },
  {
   "cell_type": "code",
   "execution_count": 1482,
   "id": "99ba5c43",
   "metadata": {},
   "outputs": [
    {
     "data": {
      "text/plain": [
       "23390.0"
      ]
     },
     "execution_count": 1482,
     "metadata": {},
     "output_type": "execute_result"
    }
   ],
   "source": [
    "df_income_30_39_occupation_8 = df_occupation_8.loc[(df_occupation_8['Age'] >=30) & (df_occupation_8['Age'] <=39)]\n",
    "\n",
    "df_income_30_39_occupation_8[\"Income\"].median()"
   ]
  },
  {
   "cell_type": "code",
   "execution_count": 1483,
   "id": "a3d2f46d",
   "metadata": {},
   "outputs": [
    {
     "data": {
      "text/plain": [
       "36740.0"
      ]
     },
     "execution_count": 1483,
     "metadata": {},
     "output_type": "execute_result"
    }
   ],
   "source": [
    "df_income_40_49_occupation_8 = df_occupation_8.loc[(df_occupation_8['Age'] >=40) & (df_occupation_8['Age'] <=49)]\n",
    "\n",
    "df_income_40_49_occupation_8[\"Income\"].median()"
   ]
  },
  {
   "cell_type": "code",
   "execution_count": 1484,
   "id": "0962378b",
   "metadata": {},
   "outputs": [
    {
     "data": {
      "text/plain": [
       "25110.0"
      ]
     },
     "execution_count": 1484,
     "metadata": {},
     "output_type": "execute_result"
    }
   ],
   "source": [
    "df_income_50_59_occupation_8 = df_occupation_8.loc[(df_occupation_8['Age'] >=50) & (df_occupation_8['Age'] <=59)]\n",
    "\n",
    "df_income_50_59_occupation_8[\"Income\"].median()"
   ]
  },
  {
   "cell_type": "code",
   "execution_count": 1485,
   "id": "071f3e56",
   "metadata": {},
   "outputs": [
    {
     "data": {
      "text/plain": [
       "15410.0"
      ]
     },
     "execution_count": 1485,
     "metadata": {},
     "output_type": "execute_result"
    }
   ],
   "source": [
    "df_income_60_120_occupation_8 = df_occupation_8.loc[(df_occupation_8['Age'] >=60)]\n",
    "\n",
    "df_income_60_120_occupation_8[\"Income\"].median()"
   ]
  },
  {
   "cell_type": "code",
   "execution_count": 1486,
   "id": "4ad0e9c2",
   "metadata": {},
   "outputs": [],
   "source": [
    "df_occupation_8_saved = df_occupation_8\n",
    "\n",
    "df_occupation_8_saved.to_csv(r'C:\\Users\\b9055315\\Documents\\PhD_PROJECT\\Synthetic_population_developement\\SPENSER\\Data\\2019\\income\\df_occupation_8_20220202.csv', encoding='utf-8', header=True)\n"
   ]
  },
  {
   "cell_type": "code",
   "execution_count": null,
   "id": "fa0d7be1",
   "metadata": {},
   "outputs": [],
   "source": []
  },
  {
   "cell_type": "code",
   "execution_count": null,
   "id": "68e440d5",
   "metadata": {},
   "outputs": [],
   "source": []
  },
  {
   "cell_type": "code",
   "execution_count": null,
   "id": "2693232c",
   "metadata": {},
   "outputs": [],
   "source": []
  },
  {
   "cell_type": "markdown",
   "id": "4e99daac",
   "metadata": {},
   "source": [
    "### Occupation 9"
   ]
  },
  {
   "cell_type": "code",
   "execution_count": 2071,
   "id": "d3df0f0e",
   "metadata": {},
   "outputs": [
    {
     "name": "stdout",
     "output_type": "stream",
     "text": [
      "Occupation running:\n",
      "9\n",
      "Merging dataframes:\n",
      "Job done. check the results\n"
     ]
    }
   ],
   "source": [
    "## Income data\n",
    "\n",
    "# Source: \n",
    "## Employee earnings in the UK: 2019 Figure 11: Median Annual full-time gross pay by occupation\n",
    "### link: https://www.ons.gov.uk/employmentandlabourmarket/peopleinwork/earningsandworkinghours/bulletins/annualsurveyofhoursandearnings/2019\n",
    "\n",
    "#### Min and Max values per occupation type in the UK (removing lower and upper values due to they can be considered as outliers)\n",
    "\n",
    "## Values assigned manually after several iterations and starting using the first commented occupation_x_income values in\n",
    "## this cell. this data was coming from Employee earnings in the UK: 2019\n",
    "## link: https://www.ons.gov.uk/employmentandlabourmarket/peopleinwork/earningsandworkinghours/bulletins/annualsurveyofhoursandearnings/2019\n",
    "\n",
    "#occupation_1_income = [23000, 53000]\n",
    "#occupation_2_income = [14500,69000]\n",
    "#occupation_3_income = [20000,35000]\n",
    "#occupation_4_income = [13000,24000]\n",
    "#occupation_5_income = [23000,27000]\n",
    "#occupation_6_income = [13000,17500]\n",
    "#occupation_7_income = [12500,18000]\n",
    "#occupation_8_income = [14500,26000]\n",
    "occupation_9_income = [4000,28000]\n",
    "\n",
    "#The values we are looking for in the validation process are the ones related to the NE in the following dataset:\n",
    "# link: https://www.ons.gov.uk/employmentandlabourmarket/peopleinwork/earningsandworkinghours/datasets/regionbyoccupation2digitsocashetable3\n",
    "# Work Region Occupation SOC10 (2) Table 3.7a   Annual pay - Gross 2019.xls\n",
    "## path: C:\\Users\\b9055315\\Documents\\PhD_PROJECT\\Synthetic_population_developement\\Data\\Census\\Datasets_downloaded\\Income\\table32019revised\n",
    "\n",
    "\n",
    "# Employee earnings in the UK: 2019. Figure 6: Weekly earnings in London are £152 higher than the UK average\n",
    "## Link: https://www.ons.gov.uk/employmentandlabourmarket/peopleinwork/earningsandworkinghours/bulletins/annualsurveyofhoursandearnings/2019\n",
    "# Median full-time gross weekly earnings and percentage change from previous year, by workplace regions and countries, UK, April 2019\n",
    "#median_fulltime_gross_weekly_earning_UK = 584.9\n",
    "#median_fulltime_gross_weekly_earning_NE = 533.0\n",
    "\n",
    "# Transform UK median fulltime gross weekly earning values to NE\n",
    "#conversor_value_UK_to_NE = median_fulltime_gross_weekly_earning_NE / median_fulltime_gross_weekly_earning_UK\n",
    "\n",
    "\n",
    "##########################################################################################\n",
    "\n",
    "# Source: \n",
    "## Gender pay gap \n",
    "### 2019 updated revised edition of this dataset\n",
    "#### genderpaygap2019revised.zip\n",
    "#### Table 3.12 - Work Region Occupation SOC10 (2) Table 3.12  Gender pay gap 2019\n",
    "#### TAb: all --> Table 3.12 Gender pay gap (%)^  - For all employee jobs^^: United Kingdom, 2019    \n",
    "##### Link: https://www.ons.gov.uk/employmentandlabourmarket/peopleinwork/earningsandworkinghours/datasets/annualsurveyofhoursandearningsashegenderpaygaptables\n",
    "\n",
    "#### Gender pay gap per occupation type (median value) North East values\n",
    "#occupation_1_gap = 0.264\n",
    "#occupation_2_gap = 0.077\n",
    "#occupation_3_gap = 0.095\n",
    "#occupation_4_gap = 0.056 \n",
    "#occupation_5_gap = 0.281\n",
    "#occupation_6_gap = 0.074\n",
    "#occupation_7_gap = 0.047\n",
    "#occupation_8_gap = 0.230\n",
    "#occupation_9_gap = 0.096\n",
    "\n",
    "#### Gender pay gap per occupation type (MEAN value) North East values\n",
    "#occupation_1_gap = 0.125\n",
    "#occupation_2_gap = 0.114\n",
    "#occupation_3_gap = 0.102\n",
    "#occupation_4_gap = 0.057 \n",
    "#occupation_5_gap = 0.227\n",
    "#occupation_6_gap = 0.132\n",
    "#occupation_7_gap = 0.071\n",
    "#occupation_8_gap = 0.219\n",
    "occupation_9_gap = 0.133\n",
    "##########################################################################################\n",
    "##########################################################################################\n",
    "\n",
    "## code developed:\n",
    "\n",
    "# Name all occupation types to loop through them in the code:\n",
    "#occupations = [1,2,3,4,5,6,7,8,9]\n",
    "occupations = [9]\n",
    "\n",
    "\n",
    "for occupation in occupations:\n",
    "    print('Occupation running:')\n",
    "    print(occupation)\n",
    "    \n",
    "    #Select the row of the df_occupation that is related to the selected OA area:\n",
    "    (globals()[f\"df_occupation_{occupation}\"]) = df_persons_NE_occupation.loc[(df_persons_NE_occupation['Occupation'] == occupation)]\n",
    "    \n",
    "    # Select the Min and Max income values of each occupation category:\n",
    "    occupation_income = (globals()[f\"occupation_{occupation}_income\"])\n",
    "    \n",
    "    # Convert UK values to NE\n",
    "    #occupation_income[0] = occupation_income[0] * conversor_value_UK_to_NE\n",
    "    #occupation_income[1] = occupation_income[1] * conversor_value_UK_to_NE\n",
    "    \n",
    "    # Calculate the income age slot\n",
    "    ## this value will indicate the range in which agents will be assigned the income based on their age\n",
    "    income_age_width_slot = (occupation_income[1] - occupation_income[0])/ 10\n",
    "    \n",
    "    \n",
    "    ##Do the calculus just agent by agent\n",
    "    for idx_person, person in (globals()[f\"df_occupation_{occupation}\"]).iterrows():\n",
    "        \n",
    "        # Identify the slot of income based on the age\n",
    "        ## This values were identified using https://www.ons.gov.uk/employmentandlabourmarket/peopleinwork/earningsandworkinghours/bulletins/annualsurveyofhoursandearnings/2019 \n",
    "        ## Figure 12: Weekly earnings for women peak in age-group 40 to 49 years for the first time Median full-time gross weekly earnings by sex and age group, UK, April 2019\n",
    "        ### there were identified 5 groups of age. Min and max income per occupation type were divided in 5 groups and assigned to agents based on their age\n",
    "        #### Agents aged 40-49 will earn more than any other, then agents aged 30-39, then 60+, then 25-29 and finally agents aged < 25\n",
    "                    \n",
    "        \n",
    "        \n",
    "        if (person['Age'] <= 17):\n",
    "            income_min = occupation_income[0] - (occupation_income[0]/2)\n",
    "            income_max = occupation_income[0] - (occupation_income[0]/3)\n",
    "        elif (person['Age'] > 17 and person['Age'] <= 21):\n",
    "            income_min = occupation_income[0] - income_age_width_slot\n",
    "            income_max = occupation_income[0] + 0.3 * income_age_width_slot    \n",
    "        elif (person['Age'] > 21 and person['Age'] < 30):\n",
    "            income_min = occupation_income[0] - 0.3 * income_age_width_slot \n",
    "            income_max = occupation_income[0] + 9 * income_age_width_slot\n",
    "        elif (person['Age'] >= 30 and person['Age'] < 40):\n",
    "            income_min = occupation_income[0] - 0.2 * income_age_width_slot\n",
    "            income_max = occupation_income[0] + 9.5 * income_age_width_slot\n",
    "        elif (person['Age'] >= 40 and person['Age'] < 50):\n",
    "            income_min = occupation_income[0] + 3 * income_age_width_slot\n",
    "            income_max = occupation_income[0] + 12 * income_age_width_slot \n",
    "        elif (person['Age'] >= 50 and person['Age'] < 60):\n",
    "            income_min = occupation_income[0] - 0.1 * income_age_width_slot\n",
    "            income_max = occupation_income[0] + 11 * income_age_width_slot\n",
    "        elif (person['Age'] >= 60):\n",
    "            income_min = occupation_income[0] - 0 * income_age_width_slot\n",
    "            income_max = occupation_income[0] + 2 * income_age_width_slot\n",
    "\n",
    "\n",
    "\n",
    "\n",
    "        \n",
    "        \n",
    "        # Find the minimum income value each agent will get based on their age\n",
    "        #income_min = occupation_income[0] + income_age_slot_chosen\n",
    "        #income_max = occupation_income[0] + income_age_slot_chosen + income_age_width_slot\n",
    "        \n",
    "        \n",
    "        # Value identified as the income value of the agent based on the occupation type and age range\n",
    "        income_selected_by_occupation_age = random.randint(int(income_min), int(income_max))\n",
    "        \n",
    "     \n",
    "        # Incorporate the gender gap\n",
    "        ## If male, then increase the income half of the gender income gap\n",
    "        ## If female, decrease the income half of the gender income gap\n",
    "        if (person['Sex'] == 1):   # Male\n",
    "            income_selected_by_occupation_age_sex = income_selected_by_occupation_age + (income_selected_by_occupation_age * (globals()[f\"occupation_{occupation}_gap\"])/2)\n",
    "        else:\n",
    "            income_selected_by_occupation_age_sex = income_selected_by_occupation_age - (income_selected_by_occupation_age * (globals()[f\"occupation_{occupation}_gap\"])/2)\n",
    "        \n",
    "                       \n",
    "        # Transform the income value into an integer and round it to the 10 closest value\n",
    "        income_chosen = int(income_selected_by_occupation_age_sex)\n",
    "        income_round = round(income_chosen,-1)\n",
    "        \n",
    "        # Update the value in the column \"Income\"\n",
    "        (globals()[f\"df_occupation_{occupation}\"]).at[idx_person,'Income'] = income_round\n",
    "        \n",
    "\n",
    "\n",
    "print('Merging dataframes:')\n",
    "        \n",
    "#df_occupation_income = [df_occupation_1, df_occupation_2, df_occupation_3,df_occupation_4,df_occupation_5,df_occupation_6,df_occupation_7, df_occupation_8, df_occupation_9]\n",
    "\n",
    "#df_occupation_income = [df_occupation_2]\n",
    "\n",
    "#df_income = pd.concat(df_occupation_income)\n",
    "\n",
    "print('Job done. check the results')"
   ]
  },
  {
   "cell_type": "code",
   "execution_count": 2072,
   "id": "231cd42a",
   "metadata": {},
   "outputs": [
    {
     "name": "stdout",
     "output_type": "stream",
     "text": [
      "1490.0\n",
      "34970.0\n",
      "13914.946368831439\n",
      "13130.0\n"
     ]
    }
   ],
   "source": [
    "column = df_occupation_9[\"Income\"]\n",
    "min_value = column.min()\n",
    "max_value = column.max()\n",
    "mean_value = column.mean()\n",
    "median_value = column.median()\n",
    "\n",
    "print(min_value)\n",
    "print(max_value)\n",
    "print(mean_value)\n",
    "print(median_value)"
   ]
  },
  {
   "cell_type": "code",
   "execution_count": 2073,
   "id": "a422c4e3",
   "metadata": {},
   "outputs": [
    {
     "data": {
      "text/plain": [
       "296.05363116856097"
      ]
     },
     "execution_count": 2073,
     "metadata": {},
     "output_type": "execute_result"
    }
   ],
   "source": [
    "14211 -  mean_value"
   ]
  },
  {
   "cell_type": "code",
   "execution_count": 2074,
   "id": "d1c44735",
   "metadata": {},
   "outputs": [
    {
     "data": {
      "text/plain": [
       "-188.0"
      ]
     },
     "execution_count": 2074,
     "metadata": {},
     "output_type": "execute_result"
    }
   ],
   "source": [
    "12942 - median_value"
   ]
  },
  {
   "cell_type": "code",
   "execution_count": 2075,
   "id": "91601347",
   "metadata": {},
   "outputs": [
    {
     "data": {
      "image/png": "[encoded data removed]",
      "text/plain": [
       "<Figure size 432x288 with 1 Axes>"
      ]
     },
     "metadata": {
      "needs_background": "light"
     },
     "output_type": "display_data"
    }
   ],
   "source": [
    "df_occupation_9.hist(column='Income', bins=50);"
   ]
  },
  {
   "cell_type": "code",
   "execution_count": 2076,
   "id": "6ef58100",
   "metadata": {},
   "outputs": [
    {
     "name": "stdout",
     "output_type": "stream",
     "text": [
      "-70.0\n",
      "107.0\n",
      "-203.0\n",
      "325.0\n",
      "-183.0\n",
      "-484.0\n",
      "-563.0\n"
     ]
    }
   ],
   "source": [
    "print(3480 - df_occupation_9.Income.quantile(0.1))\n",
    "print(5247 - df_occupation_9.Income.quantile(0.2))\n",
    "print(6937 - df_occupation_9.Income.quantile(0.3))\n",
    "print(9905 - df_occupation_9.Income.quantile(0.4))\n",
    "#print( - df_occupation_9.Income.quantile(0.5))\n",
    "print(16037 - df_occupation_9.Income.quantile(0.6))\n",
    "print(18876 - df_occupation_9.Income.quantile(0.7))\n",
    "print(21907 - df_occupation_9.Income.quantile(0.8))\n"
   ]
  },
  {
   "cell_type": "code",
   "execution_count": null,
   "id": "374f8068",
   "metadata": {},
   "outputs": [],
   "source": []
  },
  {
   "cell_type": "code",
   "execution_count": 2077,
   "id": "25f6ed81",
   "metadata": {},
   "outputs": [
    {
     "data": {
      "text/plain": [
       "2300.0"
      ]
     },
     "execution_count": 2077,
     "metadata": {},
     "output_type": "execute_result"
    }
   ],
   "source": [
    "df_income_16_17_occupation_9 = df_occupation_9.loc[(df_occupation_9['Age'] >=16) & (df_occupation_9['Age'] <=17)]\n",
    "\n",
    "df_income_16_17_occupation_9[\"Income\"].median()"
   ]
  },
  {
   "cell_type": "code",
   "execution_count": 2078,
   "id": "3ea517e4",
   "metadata": {},
   "outputs": [
    {
     "data": {
      "text/plain": [
       "3120.0"
      ]
     },
     "execution_count": 2078,
     "metadata": {},
     "output_type": "execute_result"
    }
   ],
   "source": [
    "df_income_18_21_occupation_9 = df_occupation_9.loc[(df_occupation_9['Age'] >=18) & (df_occupation_9['Age'] <=21)]\n",
    "\n",
    "df_income_18_21_occupation_9[\"Income\"].median()"
   ]
  },
  {
   "cell_type": "code",
   "execution_count": 2079,
   "id": "2f621681",
   "metadata": {},
   "outputs": [
    {
     "data": {
      "text/plain": [
       "14310.0"
      ]
     },
     "execution_count": 2079,
     "metadata": {},
     "output_type": "execute_result"
    }
   ],
   "source": [
    "df_income_22_29_occupation_9 = df_occupation_9.loc[(df_occupation_9['Age'] >=22) & (df_occupation_9['Age'] <=29)]\n",
    "\n",
    "df_income_22_29_occupation_9[\"Income\"].median()"
   ]
  },
  {
   "cell_type": "code",
   "execution_count": 2080,
   "id": "bde3eaa7",
   "metadata": {},
   "outputs": [
    {
     "data": {
      "text/plain": [
       "15100.0"
      ]
     },
     "execution_count": 2080,
     "metadata": {},
     "output_type": "execute_result"
    }
   ],
   "source": [
    "df_income_30_39_occupation_9 = df_occupation_9.loc[(df_occupation_9['Age'] >=30) & (df_occupation_9['Age'] <=39)]\n",
    "\n",
    "df_income_30_39_occupation_9[\"Income\"].median()"
   ]
  },
  {
   "cell_type": "code",
   "execution_count": 2082,
   "id": "26b770f8",
   "metadata": {},
   "outputs": [
    {
     "data": {
      "text/plain": [
       "21700.0"
      ]
     },
     "execution_count": 2082,
     "metadata": {},
     "output_type": "execute_result"
    }
   ],
   "source": [
    "df_income_40_49_occupation_9 = df_occupation_9.loc[(df_occupation_9['Age'] >=40) & (df_occupation_9['Age'] <=49)]\n",
    "\n",
    "df_income_40_49_occupation_9[\"Income\"].median()"
   ]
  },
  {
   "cell_type": "code",
   "execution_count": 2083,
   "id": "9dc00d72",
   "metadata": {},
   "outputs": [
    {
     "data": {
      "text/plain": [
       "16870.0"
      ]
     },
     "execution_count": 2083,
     "metadata": {},
     "output_type": "execute_result"
    }
   ],
   "source": [
    "df_income_50_59_occupation_9 = df_occupation_9.loc[(df_occupation_9['Age'] >=50) & (df_occupation_9['Age'] <=59)]\n",
    "\n",
    "df_income_50_59_occupation_9[\"Income\"].median()"
   ]
  },
  {
   "cell_type": "code",
   "execution_count": 2084,
   "id": "e9fdda8f",
   "metadata": {},
   "outputs": [
    {
     "data": {
      "text/plain": [
       "6320.0"
      ]
     },
     "execution_count": 2084,
     "metadata": {},
     "output_type": "execute_result"
    }
   ],
   "source": [
    "df_income_60_120_occupation_9 = df_occupation_9.loc[(df_occupation_9['Age'] >=60)]\n",
    "\n",
    "df_income_60_120_occupation_9[\"Income\"].median()"
   ]
  },
  {
   "cell_type": "code",
   "execution_count": 2085,
   "id": "7c6dedf9",
   "metadata": {},
   "outputs": [],
   "source": [
    "df_occupation_9_saved = df_occupation_9\n",
    "\n",
    "df_occupation_9_saved.to_csv(r'C:\\Users\\b9055315\\Documents\\PhD_PROJECT\\Synthetic_population_developement\\SPENSER\\Data\\2019\\income\\df_occupation_9_20220202.csv', encoding='utf-8', header=True)\n"
   ]
  },
  {
   "cell_type": "code",
   "execution_count": null,
   "id": "ea1fafbb",
   "metadata": {},
   "outputs": [],
   "source": []
  },
  {
   "cell_type": "code",
   "execution_count": null,
   "id": "39b29d1d",
   "metadata": {},
   "outputs": [],
   "source": []
  },
  {
   "cell_type": "code",
   "execution_count": null,
   "id": "54b70454",
   "metadata": {},
   "outputs": [],
   "source": []
  },
  {
   "cell_type": "markdown",
   "id": "6030f632",
   "metadata": {},
   "source": [
    "### Occupation 4"
   ]
  },
  {
   "cell_type": "code",
   "execution_count": 2199,
   "id": "bd5ef4e0",
   "metadata": {},
   "outputs": [
    {
     "name": "stdout",
     "output_type": "stream",
     "text": [
      "Occupation running:\n",
      "4\n",
      "Merging dataframes:\n",
      "Job done. check the results\n"
     ]
    }
   ],
   "source": [
    "## Income data\n",
    "\n",
    "# Source: \n",
    "## Employee earnings in the UK: 2019 Figure 11: Median Annual full-time gross pay by occupation\n",
    "### link: https://www.ons.gov.uk/employmentandlabourmarket/peopleinwork/earningsandworkinghours/bulletins/annualsurveyofhoursandearnings/2019\n",
    "\n",
    "#### Min and Max values per occupation type in the UK (removing lower and upper values due to they can be considered as outliers)\n",
    "\n",
    "## Values assigned manually after several iterations and starting using the first commented occupation_x_income values in\n",
    "## this cell. this data was coming from Employee earnings in the UK: 2019\n",
    "## link: https://www.ons.gov.uk/employmentandlabourmarket/peopleinwork/earningsandworkinghours/bulletins/annualsurveyofhoursandearnings/2019\n",
    "\n",
    "#occupation_1_income = [23000, 53000]\n",
    "#occupation_2_income = [14500,69000]\n",
    "#occupation_3_income = [20000,35000]\n",
    "occupation_4_income = [9000,38000]\n",
    "#occupation_5_income = [23000,27000]\n",
    "#occupation_6_income = [13000,17500]\n",
    "#occupation_7_income = [12500,18000]\n",
    "#occupation_8_income = [14500,26000]\n",
    "#occupation_9_income = [4000,28000]\n",
    "\n",
    "#The values we are looking for in the validation process are the ones related to the NE in the following dataset:\n",
    "# link: https://www.ons.gov.uk/employmentandlabourmarket/peopleinwork/earningsandworkinghours/datasets/regionbyoccupation2digitsocashetable3\n",
    "# Work Region Occupation SOC10 (2) Table 3.7a   Annual pay - Gross 2019.xls\n",
    "## path: C:\\Users\\b9055315\\Documents\\PhD_PROJECT\\Synthetic_population_developement\\Data\\Census\\Datasets_downloaded\\Income\\table32019revised\n",
    "\n",
    "\n",
    "# Employee earnings in the UK: 2019. Figure 6: Weekly earnings in London are £152 higher than the UK average\n",
    "## Link: https://www.ons.gov.uk/employmentandlabourmarket/peopleinwork/earningsandworkinghours/bulletins/annualsurveyofhoursandearnings/2019\n",
    "# Median full-time gross weekly earnings and percentage change from previous year, by workplace regions and countries, UK, April 2019\n",
    "#median_fulltime_gross_weekly_earning_UK = 584.9\n",
    "#median_fulltime_gross_weekly_earning_NE = 533.0\n",
    "\n",
    "# Transform UK median fulltime gross weekly earning values to NE\n",
    "#conversor_value_UK_to_NE = median_fulltime_gross_weekly_earning_NE / median_fulltime_gross_weekly_earning_UK\n",
    "\n",
    "\n",
    "##########################################################################################\n",
    "\n",
    "# Source: \n",
    "## Gender pay gap \n",
    "### 2019 updated revised edition of this dataset\n",
    "#### genderpaygap2019revised.zip\n",
    "#### Table 3.12 - Work Region Occupation SOC10 (2) Table 3.12  Gender pay gap 2019\n",
    "#### TAb: all --> Table 3.12 Gender pay gap (%)^  - For all employee jobs^^: United Kingdom, 2019    \n",
    "##### Link: https://www.ons.gov.uk/employmentandlabourmarket/peopleinwork/earningsandworkinghours/datasets/annualsurveyofhoursandearningsashegenderpaygaptables\n",
    "\n",
    "#### Gender pay gap per occupation type (median value) North East values\n",
    "#occupation_1_gap = 0.264\n",
    "#occupation_2_gap = 0.077\n",
    "#occupation_3_gap = 0.095\n",
    "#occupation_4_gap = 0.056 \n",
    "#occupation_5_gap = 0.281\n",
    "#occupation_6_gap = 0.074\n",
    "#occupation_7_gap = 0.047\n",
    "#occupation_8_gap = 0.230\n",
    "#occupation_9_gap = 0.096\n",
    "\n",
    "#### Gender pay gap per occupation type (MEAN value) North East values\n",
    "#occupation_1_gap = 0.125\n",
    "#occupation_2_gap = 0.114\n",
    "#occupation_3_gap = 0.102\n",
    "occupation_4_gap = 0.057 \n",
    "#occupation_5_gap = 0.227\n",
    "#occupation_6_gap = 0.132\n",
    "#occupation_7_gap = 0.071\n",
    "#occupation_8_gap = 0.219\n",
    "#occupation_9_gap = 0.133\n",
    "##########################################################################################\n",
    "##########################################################################################\n",
    "\n",
    "## code developed:\n",
    "\n",
    "# Name all occupation types to loop through them in the code:\n",
    "#occupations = [1,2,3,4,5,6,7,8,9]\n",
    "occupations = [4]\n",
    "\n",
    "\n",
    "for occupation in occupations:\n",
    "    print('Occupation running:')\n",
    "    print(occupation)\n",
    "    \n",
    "    #Select the row of the df_occupation that is related to the selected OA area:\n",
    "    (globals()[f\"df_occupation_{occupation}\"]) = df_persons_NE_occupation.loc[(df_persons_NE_occupation['Occupation'] == occupation)]\n",
    "    \n",
    "    # Select the Min and Max income values of each occupation category:\n",
    "    occupation_income = (globals()[f\"occupation_{occupation}_income\"])\n",
    "    \n",
    "    # Convert UK values to NE\n",
    "    #occupation_income[0] = occupation_income[0] * conversor_value_UK_to_NE\n",
    "    #occupation_income[1] = occupation_income[1] * conversor_value_UK_to_NE\n",
    "    \n",
    "    # Calculate the income age slot\n",
    "    ## this value will indicate the range in which agents will be assigned the income based on their age\n",
    "    income_age_width_slot = (occupation_income[1] - occupation_income[0])/ 10\n",
    "    \n",
    "    \n",
    "    ##Do the calculus just agent by agent\n",
    "    for idx_person, person in (globals()[f\"df_occupation_{occupation}\"]).iterrows():\n",
    "        \n",
    "        # Identify the slot of income based on the age\n",
    "        ## This values were identified using https://www.ons.gov.uk/employmentandlabourmarket/peopleinwork/earningsandworkinghours/bulletins/annualsurveyofhoursandearnings/2019 \n",
    "        ## Figure 12: Weekly earnings for women peak in age-group 40 to 49 years for the first time Median full-time gross weekly earnings by sex and age group, UK, April 2019\n",
    "        ### there were identified 5 groups of age. Min and max income per occupation type were divided in 5 groups and assigned to agents based on their age\n",
    "        #### Agents aged 40-49 will earn more than any other, then agents aged 30-39, then 60+, then 25-29 and finally agents aged < 25\n",
    "                    \n",
    "        \n",
    "        \n",
    "        if (person['Age'] <= 17):\n",
    "            income_min = occupation_income[0] - (occupation_income[0]/2)\n",
    "            income_max = occupation_income[0] - (occupation_income[0]/3)\n",
    "        elif (person['Age'] > 17 and person['Age'] <= 21):\n",
    "            income_min = occupation_income[0] - income_age_width_slot\n",
    "            income_max = occupation_income[0] + 0.2 * income_age_width_slot    \n",
    "        elif (person['Age'] > 21 and person['Age'] < 30):\n",
    "            income_min = occupation_income[0] - income_age_width_slot\n",
    "            income_max = occupation_income[0] + 4 * income_age_width_slot\n",
    "        elif (person['Age'] >= 30 and person['Age'] < 40):\n",
    "            income_min = occupation_income[0] + 1.5 * income_age_width_slot\n",
    "            income_max = occupation_income[0] + 6 * income_age_width_slot\n",
    "        elif (person['Age'] >= 40 and person['Age'] < 50):\n",
    "            income_min = occupation_income[0] + 4.5 * income_age_width_slot\n",
    "            income_max = occupation_income[0] + 11 * income_age_width_slot \n",
    "        elif (person['Age'] >= 50 and person['Age'] < 60):\n",
    "            income_min = occupation_income[0] + 2.5 * income_age_width_slot\n",
    "            income_max = occupation_income[0] + 6.5 * income_age_width_slot\n",
    "        elif (person['Age'] >= 60):\n",
    "            income_min = occupation_income[0]\n",
    "            income_max = occupation_income[0] + 3 * income_age_width_slot\n",
    "\n",
    "\n",
    "\n",
    "\n",
    "\n",
    "\n",
    "\n",
    "\n",
    "\n",
    "        \n",
    "        \n",
    "        # Find the minimum income value each agent will get based on their age\n",
    "        #income_min = occupation_income[0] + income_age_slot_chosen\n",
    "        #income_max = occupation_income[0] + income_age_slot_chosen + income_age_width_slot\n",
    "        \n",
    "        \n",
    "        # Value identified as the income value of the agent based on the occupation type and age range\n",
    "        income_selected_by_occupation_age = random.randint(int(income_min), int(income_max))\n",
    "        \n",
    "     \n",
    "        # Incorporate the gender gap\n",
    "        ## If male, then increase the income half of the gender income gap\n",
    "        ## If female, decrease the income half of the gender income gap\n",
    "        if (person['Sex'] == 1):   # Male\n",
    "            income_selected_by_occupation_age_sex = income_selected_by_occupation_age + (income_selected_by_occupation_age * (globals()[f\"occupation_{occupation}_gap\"])/2)\n",
    "        else:\n",
    "            income_selected_by_occupation_age_sex = income_selected_by_occupation_age - (income_selected_by_occupation_age * (globals()[f\"occupation_{occupation}_gap\"])/2)\n",
    "        \n",
    "                       \n",
    "        # Transform the income value into an integer and round it to the 10 closest value\n",
    "        income_chosen = int(income_selected_by_occupation_age_sex)\n",
    "        income_round = round(income_chosen,-1)\n",
    "        \n",
    "        # Update the value in the column \"Income\"\n",
    "        (globals()[f\"df_occupation_{occupation}\"]).at[idx_person,'Income'] = income_round\n",
    "        \n",
    "\n",
    "\n",
    "print('Merging dataframes:')\n",
    "        \n",
    "#df_occupation_income = [df_occupation_1, df_occupation_2, df_occupation_3,df_occupation_4,df_occupation_5,df_occupation_6,df_occupation_7, df_occupation_8, df_occupation_9]\n",
    "\n",
    "#df_occupation_income = [df_occupation_2]\n",
    "\n",
    "#df_income = pd.concat(df_occupation_income)\n",
    "\n",
    "print('Job done. check the results')"
   ]
  },
  {
   "cell_type": "code",
   "execution_count": 2200,
   "id": "9f173888",
   "metadata": {},
   "outputs": [
    {
     "name": "stdout",
     "output_type": "stream",
     "text": [
      "4370.0\n",
      "42060.0\n",
      "19208.751527660846\n",
      "18590.0\n"
     ]
    }
   ],
   "source": [
    "column = df_occupation_4[\"Income\"]\n",
    "min_value = column.min()\n",
    "max_value = column.max()\n",
    "mean_value = column.mean()\n",
    "median_value = column.median()\n",
    "\n",
    "print(min_value)\n",
    "print(max_value)\n",
    "print(mean_value)\n",
    "print(median_value)"
   ]
  },
  {
   "cell_type": "code",
   "execution_count": 2201,
   "id": "dfb38fca",
   "metadata": {},
   "outputs": [
    {
     "data": {
      "text/plain": [
       "283.2484723391535"
      ]
     },
     "execution_count": 2201,
     "metadata": {},
     "output_type": "execute_result"
    }
   ],
   "source": [
    "19492 -  mean_value"
   ]
  },
  {
   "cell_type": "code",
   "execution_count": 2202,
   "id": "f8a18f82",
   "metadata": {},
   "outputs": [
    {
     "data": {
      "text/plain": [
       "38.0"
      ]
     },
     "execution_count": 2202,
     "metadata": {},
     "output_type": "execute_result"
    }
   ],
   "source": [
    "18628 - median_value"
   ]
  },
  {
   "cell_type": "code",
   "execution_count": 2203,
   "id": "dd92509f",
   "metadata": {},
   "outputs": [
    {
     "data": {
      "image/png": "[encoded data removed]",
      "text/plain": [
       "<Figure size 432x288 with 1 Axes>"
      ]
     },
     "metadata": {
      "needs_background": "light"
     },
     "output_type": "display_data"
    }
   ],
   "source": [
    "df_occupation_4.hist(column='Income', bins=50);"
   ]
  },
  {
   "cell_type": "code",
   "execution_count": 2204,
   "id": "cf6c4d99",
   "metadata": {},
   "outputs": [
    {
     "name": "stdout",
     "output_type": "stream",
     "text": [
      "-209.0\n",
      "298.0\n",
      "302.0\n",
      "-452.0\n",
      "-613.0\n",
      "361.0\n"
     ]
    }
   ],
   "source": [
    "print(11511 - df_occupation_4.Income.quantile(0.2))\n",
    "print(14918 - df_occupation_4.Income.quantile(0.3))\n",
    "print(16982 - df_occupation_4.Income.quantile(0.4))\n",
    "#print( - df_occupation_9.Income.quantile(0.5))\n",
    "print(20358 - df_occupation_4.Income.quantile(0.6))\n",
    "\n",
    "print(22567 - df_occupation_4.Income.quantile(0.7))\n",
    "print(25791 - df_occupation_4.Income.quantile(0.8))\n",
    "\n"
   ]
  },
  {
   "cell_type": "code",
   "execution_count": null,
   "id": "18f63563",
   "metadata": {},
   "outputs": [],
   "source": []
  },
  {
   "cell_type": "code",
   "execution_count": 2206,
   "id": "fb52085a",
   "metadata": {},
   "outputs": [
    {
     "data": {
      "text/plain": [
       "5310.0"
      ]
     },
     "execution_count": 2206,
     "metadata": {},
     "output_type": "execute_result"
    }
   ],
   "source": [
    "df_income_16_17_occupation_4 = df_occupation_4.loc[(df_occupation_4['Age'] >=16) & (df_occupation_4['Age'] <=17)]\n",
    "\n",
    "df_income_16_17_occupation_4[\"Income\"].median()"
   ]
  },
  {
   "cell_type": "code",
   "execution_count": 2207,
   "id": "be78a3aa",
   "metadata": {},
   "outputs": [
    {
     "data": {
      "text/plain": [
       "7930.0"
      ]
     },
     "execution_count": 2207,
     "metadata": {},
     "output_type": "execute_result"
    }
   ],
   "source": [
    "df_income_18_21_occupation_4 = df_occupation_4.loc[(df_occupation_4['Age'] >=18) & (df_occupation_4['Age'] <=21)]\n",
    "\n",
    "df_income_18_21_occupation_4[\"Income\"].median()"
   ]
  },
  {
   "cell_type": "code",
   "execution_count": 2208,
   "id": "5b49d3b4",
   "metadata": {},
   "outputs": [
    {
     "data": {
      "text/plain": [
       "13430.0"
      ]
     },
     "execution_count": 2208,
     "metadata": {},
     "output_type": "execute_result"
    }
   ],
   "source": [
    "df_income_22_29_occupation_4 = df_occupation_4.loc[(df_occupation_4['Age'] >=22) & (df_occupation_4['Age'] <=29)]\n",
    "\n",
    "df_income_22_29_occupation_4[\"Income\"].median()"
   ]
  },
  {
   "cell_type": "code",
   "execution_count": 2209,
   "id": "ec5b242d",
   "metadata": {},
   "outputs": [
    {
     "data": {
      "text/plain": [
       "19800.0"
      ]
     },
     "execution_count": 2209,
     "metadata": {},
     "output_type": "execute_result"
    }
   ],
   "source": [
    "df_income_30_39_occupation_4 = df_occupation_4.loc[(df_occupation_4['Age'] >=30) & (df_occupation_4['Age'] <=39)]\n",
    "\n",
    "df_income_30_39_occupation_4[\"Income\"].median()"
   ]
  },
  {
   "cell_type": "code",
   "execution_count": 2210,
   "id": "dc834e5b",
   "metadata": {},
   "outputs": [
    {
     "data": {
      "text/plain": [
       "31030.0"
      ]
     },
     "execution_count": 2210,
     "metadata": {},
     "output_type": "execute_result"
    }
   ],
   "source": [
    "df_income_40_49_occupation_4 = df_occupation_4.loc[(df_occupation_4['Age'] >=40) & (df_occupation_4['Age'] <=49)]\n",
    "\n",
    "df_income_40_49_occupation_4[\"Income\"].median()"
   ]
  },
  {
   "cell_type": "code",
   "execution_count": 2211,
   "id": "4b47c87c",
   "metadata": {},
   "outputs": [
    {
     "data": {
      "text/plain": [
       "21710.0"
      ]
     },
     "execution_count": 2211,
     "metadata": {},
     "output_type": "execute_result"
    }
   ],
   "source": [
    "df_income_50_59_occupation_4 = df_occupation_4.loc[(df_occupation_4['Age'] >=50) & (df_occupation_4['Age'] <=59)]\n",
    "\n",
    "df_income_50_59_occupation_4[\"Income\"].median()"
   ]
  },
  {
   "cell_type": "code",
   "execution_count": 2212,
   "id": "543660ca",
   "metadata": {},
   "outputs": [
    {
     "data": {
      "text/plain": [
       "13130.0"
      ]
     },
     "execution_count": 2212,
     "metadata": {},
     "output_type": "execute_result"
    }
   ],
   "source": [
    "df_income_60_120_occupation_4 = df_occupation_4.loc[(df_occupation_4['Age'] >=60)]\n",
    "\n",
    "df_income_60_120_occupation_4[\"Income\"].median()"
   ]
  },
  {
   "cell_type": "code",
   "execution_count": 2213,
   "id": "009ebbfb",
   "metadata": {},
   "outputs": [],
   "source": [
    "df_occupation_4_saved = df_occupation_4\n",
    "\n",
    "df_occupation_4_saved.to_csv(r'C:\\Users\\b9055315\\Documents\\PhD_PROJECT\\Synthetic_population_developement\\SPENSER\\Data\\2019\\income\\df_occupation_4_20220215.csv', encoding='utf-8', header=True)\n"
   ]
  },
  {
   "cell_type": "code",
   "execution_count": null,
   "id": "8154b87c",
   "metadata": {},
   "outputs": [],
   "source": []
  },
  {
   "cell_type": "markdown",
   "id": "8ead6901",
   "metadata": {},
   "source": [
    "### Occupation 1"
   ]
  },
  {
   "cell_type": "code",
   "execution_count": 2376,
   "id": "2455ce94",
   "metadata": {},
   "outputs": [
    {
     "name": "stdout",
     "output_type": "stream",
     "text": [
      "Occupation running:\n",
      "1\n",
      "Merging dataframes:\n",
      "Job done. check the results\n"
     ]
    }
   ],
   "source": [
    "## Income data\n",
    "\n",
    "# Source: \n",
    "## Employee earnings in the UK: 2019 Figure 11: Median Annual full-time gross pay by occupation\n",
    "### link: https://www.ons.gov.uk/employmentandlabourmarket/peopleinwork/earningsandworkinghours/bulletins/annualsurveyofhoursandearnings/2019\n",
    "\n",
    "#### Min and Max values per occupation type in the UK (removing lower and upper values due to they can be considered as outliers)\n",
    "\n",
    "## Values assigned manually after several iterations and starting using the first commented occupation_x_income values in\n",
    "## this cell. this data was coming from Employee earnings in the UK: 2019\n",
    "## link: https://www.ons.gov.uk/employmentandlabourmarket/peopleinwork/earningsandworkinghours/bulletins/annualsurveyofhoursandearnings/2019\n",
    "\n",
    "occupation_1_income = [10000, 80000]\n",
    "#occupation_2_income = [14500,69000]\n",
    "#occupation_3_income = [20000,35000]\n",
    "#occupation_4_income = [9000,38000]\n",
    "#occupation_5_income = [23000,27000]\n",
    "#occupation_6_income = [13000,17500]\n",
    "#occupation_7_income = [12500,18000]\n",
    "#occupation_8_income = [14500,26000]\n",
    "#occupation_9_income = [4000,28000]\n",
    "\n",
    "#The values we are looking for in the validation process are the ones related to the NE in the following dataset:\n",
    "# link: https://www.ons.gov.uk/employmentandlabourmarket/peopleinwork/earningsandworkinghours/datasets/regionbyoccupation2digitsocashetable3\n",
    "# Work Region Occupation SOC10 (2) Table 3.7a   Annual pay - Gross 2019.xls\n",
    "## path: C:\\Users\\b9055315\\Documents\\PhD_PROJECT\\Synthetic_population_developement\\Data\\Census\\Datasets_downloaded\\Income\\table32019revised\n",
    "\n",
    "\n",
    "# Employee earnings in the UK: 2019. Figure 6: Weekly earnings in London are £152 higher than the UK average\n",
    "## Link: https://www.ons.gov.uk/employmentandlabourmarket/peopleinwork/earningsandworkinghours/bulletins/annualsurveyofhoursandearnings/2019\n",
    "# Median full-time gross weekly earnings and percentage change from previous year, by workplace regions and countries, UK, April 2019\n",
    "#median_fulltime_gross_weekly_earning_UK = 584.9\n",
    "#median_fulltime_gross_weekly_earning_NE = 533.0\n",
    "\n",
    "# Transform UK median fulltime gross weekly earning values to NE\n",
    "#conversor_value_UK_to_NE = median_fulltime_gross_weekly_earning_NE / median_fulltime_gross_weekly_earning_UK\n",
    "\n",
    "\n",
    "##########################################################################################\n",
    "\n",
    "# Source: \n",
    "## Gender pay gap \n",
    "### 2019 updated revised edition of this dataset\n",
    "#### genderpaygap2019revised.zip\n",
    "#### Table 3.12 - Work Region Occupation SOC10 (2) Table 3.12  Gender pay gap 2019\n",
    "#### TAb: all --> Table 3.12 Gender pay gap (%)^  - For all employee jobs^^: United Kingdom, 2019    \n",
    "##### Link: https://www.ons.gov.uk/employmentandlabourmarket/peopleinwork/earningsandworkinghours/datasets/annualsurveyofhoursandearningsashegenderpaygaptables\n",
    "\n",
    "#### Gender pay gap per occupation type (median value) North East values\n",
    "#occupation_1_gap = 0.264\n",
    "#occupation_2_gap = 0.077\n",
    "#occupation_3_gap = 0.095\n",
    "#occupation_4_gap = 0.056 \n",
    "#occupation_5_gap = 0.281\n",
    "#occupation_6_gap = 0.074\n",
    "#occupation_7_gap = 0.047\n",
    "#occupation_8_gap = 0.230\n",
    "#occupation_9_gap = 0.096\n",
    "\n",
    "#### Gender pay gap per occupation type (MEAN value) North East values\n",
    "occupation_1_gap = 0.125\n",
    "#occupation_2_gap = 0.114\n",
    "#occupation_3_gap = 0.102\n",
    "#occupation_4_gap = 0.057 \n",
    "#occupation_5_gap = 0.227\n",
    "#occupation_6_gap = 0.132\n",
    "#occupation_7_gap = 0.071\n",
    "#occupation_8_gap = 0.219\n",
    "#occupation_9_gap = 0.133\n",
    "##########################################################################################\n",
    "##########################################################################################\n",
    "\n",
    "## code developed:\n",
    "\n",
    "# Name all occupation types to loop through them in the code:\n",
    "#occupations = [1,2,3,4,5,6,7,8,9]\n",
    "occupations = [1]\n",
    "\n",
    "\n",
    "for occupation in occupations:\n",
    "    print('Occupation running:')\n",
    "    print(occupation)\n",
    "    \n",
    "    #Select the row of the df_occupation that is related to the selected OA area:\n",
    "    (globals()[f\"df_occupation_{occupation}\"]) = df_persons_NE_occupation.loc[(df_persons_NE_occupation['Occupation'] == occupation)]\n",
    "    \n",
    "    # Select the Min and Max income values of each occupation category:\n",
    "    occupation_income = (globals()[f\"occupation_{occupation}_income\"])\n",
    "    \n",
    "    # Convert UK values to NE\n",
    "    #occupation_income[0] = occupation_income[0] * conversor_value_UK_to_NE\n",
    "    #occupation_income[1] = occupation_income[1] * conversor_value_UK_to_NE\n",
    "    \n",
    "    # Calculate the income age slot\n",
    "    ## this value will indicate the range in which agents will be assigned the income based on their age\n",
    "    income_age_width_slot = (occupation_income[1] - occupation_income[0])/ 10\n",
    "    \n",
    "    \n",
    "    ##Do the calculus just agent by agent\n",
    "    for idx_person, person in (globals()[f\"df_occupation_{occupation}\"]).iterrows():\n",
    "        \n",
    "        # Identify the slot of income based on the age\n",
    "        ## This values were identified using https://www.ons.gov.uk/employmentandlabourmarket/peopleinwork/earningsandworkinghours/bulletins/annualsurveyofhoursandearnings/2019 \n",
    "        ## Figure 12: Weekly earnings for women peak in age-group 40 to 49 years for the first time Median full-time gross weekly earnings by sex and age group, UK, April 2019\n",
    "        ### there were identified 5 groups of age. Min and max income per occupation type were divided in 5 groups and assigned to agents based on their age\n",
    "        #### Agents aged 40-49 will earn more than any other, then agents aged 30-39, then 60+, then 25-29 and finally agents aged < 25\n",
    "                    \n",
    "        \n",
    "        \n",
    "        if (person['Age'] <= 17):\n",
    "            income_min = occupation_income[0] - (occupation_income[0]/2)\n",
    "            income_max = occupation_income[0] - (occupation_income[0]/3)\n",
    "        elif (person['Age'] > 17 and person['Age'] <= 21):\n",
    "            income_min = occupation_income[0] - (occupation_income[0]/2)\n",
    "            income_max = occupation_income[0] + 0.2 * (occupation_income[0])   \n",
    "        elif (person['Age'] > 21 and person['Age'] < 30):\n",
    "            income_min = occupation_income[0] - (occupation_income[0]/2)\n",
    "            income_max = occupation_income[0] + 2.5 * income_age_width_slot\n",
    "        elif (person['Age'] >= 30 and person['Age'] < 40):\n",
    "            income_min = occupation_income[0] + 1.25 * income_age_width_slot\n",
    "            income_max = occupation_income[0] + 6 * income_age_width_slot\n",
    "        elif (person['Age'] >= 40 and person['Age'] < 50):\n",
    "            income_min = occupation_income[0] + 1.75 * income_age_width_slot\n",
    "            income_max = occupation_income[0] + 12 * income_age_width_slot \n",
    "        elif (person['Age'] >= 50 and person['Age'] < 60):\n",
    "            income_min = occupation_income[0] + 1.5 * income_age_width_slot\n",
    "            income_max = occupation_income[0] + 8 * income_age_width_slot\n",
    "        elif (person['Age'] >= 60):\n",
    "            income_min = occupation_income[0]\n",
    "            income_max = occupation_income[0] + 2 * income_age_width_slot\n",
    "\n",
    "\n",
    "\n",
    "\n",
    "\n",
    "\n",
    "\n",
    "\n",
    "\n",
    "        \n",
    "        \n",
    "        # Find the minimum income value each agent will get based on their age\n",
    "        #income_min = occupation_income[0] + income_age_slot_chosen\n",
    "        #income_max = occupation_income[0] + income_age_slot_chosen + income_age_width_slot\n",
    "        \n",
    "        \n",
    "        # Value identified as the income value of the agent based on the occupation type and age range\n",
    "        income_selected_by_occupation_age = random.randint(int(income_min), int(income_max))\n",
    "        \n",
    "     \n",
    "        # Incorporate the gender gap\n",
    "        ## If male, then increase the income half of the gender income gap\n",
    "        ## If female, decrease the income half of the gender income gap\n",
    "        if (person['Sex'] == 1):   # Male\n",
    "            income_selected_by_occupation_age_sex = income_selected_by_occupation_age + (income_selected_by_occupation_age * (globals()[f\"occupation_{occupation}_gap\"])/2)\n",
    "        else:\n",
    "            income_selected_by_occupation_age_sex = income_selected_by_occupation_age - (income_selected_by_occupation_age * (globals()[f\"occupation_{occupation}_gap\"])/2)\n",
    "        \n",
    "                       \n",
    "        # Transform the income value into an integer and round it to the 10 closest value\n",
    "        income_chosen = int(income_selected_by_occupation_age_sex)\n",
    "        income_round = round(income_chosen,-1)\n",
    "        \n",
    "        # Update the value in the column \"Income\"\n",
    "        (globals()[f\"df_occupation_{occupation}\"]).at[idx_person,'Income'] = income_round\n",
    "        \n",
    "\n",
    "\n",
    "print('Merging dataframes:')\n",
    "        \n",
    "#df_occupation_income = [df_occupation_1, df_occupation_2, df_occupation_3,df_occupation_4,df_occupation_5,df_occupation_6,df_occupation_7, df_occupation_8, df_occupation_9]\n",
    "\n",
    "#df_occupation_income = [df_occupation_2]\n",
    "\n",
    "#df_income = pd.concat(df_occupation_income)\n",
    "\n",
    "print('Job done. check the results')"
   ]
  },
  {
   "cell_type": "code",
   "execution_count": 2377,
   "id": "ee2229dc",
   "metadata": {},
   "outputs": [
    {
     "name": "stdout",
     "output_type": "stream",
     "text": [
      "4690.0\n",
      "99870.0\n",
      "38127.08237121925\n",
      "34500.0\n"
     ]
    }
   ],
   "source": [
    "column = df_occupation_1[\"Income\"]\n",
    "min_value = column.min()\n",
    "max_value = column.max()\n",
    "mean_value = column.mean()\n",
    "median_value = column.median()\n",
    "\n",
    "print(min_value)\n",
    "print(max_value)\n",
    "print(mean_value)\n",
    "print(median_value)"
   ]
  },
  {
   "cell_type": "code",
   "execution_count": 2378,
   "id": "482bdae0",
   "metadata": {},
   "outputs": [
    {
     "data": {
      "text/plain": [
       "6577.9176287807495"
      ]
     },
     "execution_count": 2378,
     "metadata": {},
     "output_type": "execute_result"
    }
   ],
   "source": [
    "44705 -  mean_value"
   ]
  },
  {
   "cell_type": "code",
   "execution_count": 2379,
   "id": "29a36cef",
   "metadata": {},
   "outputs": [
    {
     "data": {
      "text/plain": [
       "-830.0"
      ]
     },
     "execution_count": 2379,
     "metadata": {},
     "output_type": "execute_result"
    }
   ],
   "source": [
    "33670 - median_value"
   ]
  },
  {
   "cell_type": "code",
   "execution_count": 2380,
   "id": "f104ebf8",
   "metadata": {},
   "outputs": [
    {
     "data": {
      "image/png": "[encoded data removed]",
      "text/plain": [
       "<Figure size 432x288 with 1 Axes>"
      ]
     },
     "metadata": {
      "needs_background": "light"
     },
     "output_type": "display_data"
    }
   ],
   "source": [
    "df_occupation_1.hist(column='Income', bins=50);"
   ]
  },
  {
   "cell_type": "code",
   "execution_count": 2381,
   "id": "24251ed8",
   "metadata": {},
   "outputs": [
    {
     "name": "stdout",
     "output_type": "stream",
     "text": [
      "-223.0\n",
      "420.0\n",
      "-237.0\n",
      "-269.0\n",
      "928.0\n",
      "799.0\n"
     ]
    }
   ],
   "source": [
    "print(19267 - df_occupation_1.Income.quantile(0.2))\n",
    "print(23950 - df_occupation_1.Income.quantile(0.3))\n",
    "print(27933 - df_occupation_1.Income.quantile(0.4))\n",
    "#print( - df_occupation_9.Income.quantile(0.5))\n",
    "print(40801 - df_occupation_1.Income.quantile(0.6))\n",
    "\n",
    "print(48528 - df_occupation_1.Income.quantile(0.7))\n",
    "print(52169 - df_occupation_1.Income.quantile(0.75))\n",
    "\n"
   ]
  },
  {
   "cell_type": "code",
   "execution_count": 2382,
   "id": "7bc215e7",
   "metadata": {},
   "outputs": [
    {
     "data": {
      "text/plain": [
       "5910.0"
      ]
     },
     "execution_count": 2382,
     "metadata": {},
     "output_type": "execute_result"
    }
   ],
   "source": [
    "df_income_16_17_occupation_1 = df_occupation_1.loc[(df_occupation_1['Age'] >=16) & (df_occupation_1['Age'] <=17)]\n",
    "\n",
    "df_income_16_17_occupation_1[\"Income\"].median()"
   ]
  },
  {
   "cell_type": "code",
   "execution_count": 2383,
   "id": "f91c6f8b",
   "metadata": {},
   "outputs": [
    {
     "data": {
      "text/plain": [
       "8610.0"
      ]
     },
     "execution_count": 2383,
     "metadata": {},
     "output_type": "execute_result"
    }
   ],
   "source": [
    "df_income_18_21_occupation_1 = df_occupation_1.loc[(df_occupation_1['Age'] >=18) & (df_occupation_1['Age'] <=21)]\n",
    "\n",
    "df_income_18_21_occupation_1[\"Income\"].median()"
   ]
  },
  {
   "cell_type": "code",
   "execution_count": 2384,
   "id": "52a58c68",
   "metadata": {},
   "outputs": [
    {
     "data": {
      "text/plain": [
       "16430.0"
      ]
     },
     "execution_count": 2384,
     "metadata": {},
     "output_type": "execute_result"
    }
   ],
   "source": [
    "df_income_22_29_occupation_1 = df_occupation_1.loc[(df_occupation_1['Age'] >=22) & (df_occupation_1['Age'] <=29)]\n",
    "\n",
    "df_income_22_29_occupation_1[\"Income\"].median()"
   ]
  },
  {
   "cell_type": "code",
   "execution_count": 2385,
   "id": "37077e8b",
   "metadata": {},
   "outputs": [
    {
     "data": {
      "text/plain": [
       "35770.0"
      ]
     },
     "execution_count": 2385,
     "metadata": {},
     "output_type": "execute_result"
    }
   ],
   "source": [
    "df_income_30_39_occupation_1 = df_occupation_1.loc[(df_occupation_1['Age'] >=30) & (df_occupation_1['Age'] <=39)]\n",
    "\n",
    "df_income_30_39_occupation_1[\"Income\"].median()"
   ]
  },
  {
   "cell_type": "code",
   "execution_count": 2386,
   "id": "66e3d457",
   "metadata": {},
   "outputs": [
    {
     "data": {
      "text/plain": [
       "58790.0"
      ]
     },
     "execution_count": 2386,
     "metadata": {},
     "output_type": "execute_result"
    }
   ],
   "source": [
    "df_income_40_49_occupation_1 = df_occupation_1.loc[(df_occupation_1['Age'] >=40) & (df_occupation_1['Age'] <=49)]\n",
    "\n",
    "df_income_40_49_occupation_1[\"Income\"].median()"
   ]
  },
  {
   "cell_type": "code",
   "execution_count": 2387,
   "id": "f04ab413",
   "metadata": {},
   "outputs": [
    {
     "data": {
      "text/plain": [
       "43790.0"
      ]
     },
     "execution_count": 2387,
     "metadata": {},
     "output_type": "execute_result"
    }
   ],
   "source": [
    "df_income_50_59_occupation_1 = df_occupation_1.loc[(df_occupation_1['Age'] >=50) & (df_occupation_1['Age'] <=59)]\n",
    "\n",
    "df_income_50_59_occupation_1[\"Income\"].median()"
   ]
  },
  {
   "cell_type": "code",
   "execution_count": 2388,
   "id": "e2b0388c",
   "metadata": {},
   "outputs": [
    {
     "data": {
      "text/plain": [
       "17270.0"
      ]
     },
     "execution_count": 2388,
     "metadata": {},
     "output_type": "execute_result"
    }
   ],
   "source": [
    "df_income_60_120_occupation_1 = df_occupation_1.loc[(df_occupation_1['Age'] >=60)]\n",
    "\n",
    "df_income_60_120_occupation_1[\"Income\"].median()"
   ]
  },
  {
   "cell_type": "code",
   "execution_count": 2389,
   "id": "609f03b8",
   "metadata": {},
   "outputs": [],
   "source": [
    "df_occupation_1_saved = df_occupation_1\n",
    "\n",
    "df_occupation_1_saved.to_csv(r'C:\\Users\\b9055315\\Documents\\PhD_PROJECT\\Synthetic_population_developement\\SPENSER\\Data\\2019\\income\\df_occupation_1_20220215.csv', encoding='utf-8', header=True)\n"
   ]
  },
  {
   "cell_type": "code",
   "execution_count": null,
   "id": "e82977d4",
   "metadata": {},
   "outputs": [],
   "source": []
  },
  {
   "cell_type": "markdown",
   "id": "4c3e83b3",
   "metadata": {},
   "source": [
    "### Occupation 6"
   ]
  },
  {
   "cell_type": "code",
   "execution_count": 2542,
   "id": "5c2f3079",
   "metadata": {},
   "outputs": [
    {
     "name": "stdout",
     "output_type": "stream",
     "text": [
      "Occupation running:\n",
      "6\n",
      "Merging dataframes:\n",
      "Job done. check the results\n"
     ]
    }
   ],
   "source": [
    "## Income data\n",
    "\n",
    "# Source: \n",
    "## Employee earnings in the UK: 2019 Figure 11: Median Annual full-time gross pay by occupation\n",
    "### link: https://www.ons.gov.uk/employmentandlabourmarket/peopleinwork/earningsandworkinghours/bulletins/annualsurveyofhoursandearnings/2019\n",
    "\n",
    "#### Min and Max values per occupation type in the UK (removing lower and upper values due to they can be considered as outliers)\n",
    "\n",
    "## Values assigned manually after several iterations and starting using the first commented occupation_x_income values in\n",
    "## this cell. this data was coming from Employee earnings in the UK: 2019\n",
    "## link: https://www.ons.gov.uk/employmentandlabourmarket/peopleinwork/earningsandworkinghours/bulletins/annualsurveyofhoursandearnings/2019\n",
    "\n",
    "#occupation_1_income = [10000, 80000]\n",
    "#occupation_2_income = [14500,69000]\n",
    "#occupation_3_income = [20000,35000]\n",
    "#occupation_4_income = [9000,38000]\n",
    "#occupation_5_income = [23000,27000]\n",
    "occupation_6_income = [9000,31000]\n",
    "#occupation_7_income = [12500,18000]\n",
    "#occupation_8_income = [14500,26000]\n",
    "#occupation_9_income = [4000,28000]\n",
    "\n",
    "#The values we are looking for in the validation process are the ones related to the NE in the following dataset:\n",
    "# link: https://www.ons.gov.uk/employmentandlabourmarket/peopleinwork/earningsandworkinghours/datasets/regionbyoccupation2digitsocashetable3\n",
    "# Work Region Occupation SOC10 (2) Table 3.7a   Annual pay - Gross 2019.xls\n",
    "## path: C:\\Users\\b9055315\\Documents\\PhD_PROJECT\\Synthetic_population_developement\\Data\\Census\\Datasets_downloaded\\Income\\table32019revised\n",
    "\n",
    "\n",
    "# Employee earnings in the UK: 2019. Figure 6: Weekly earnings in London are £152 higher than the UK average\n",
    "## Link: https://www.ons.gov.uk/employmentandlabourmarket/peopleinwork/earningsandworkinghours/bulletins/annualsurveyofhoursandearnings/2019\n",
    "# Median full-time gross weekly earnings and percentage change from previous year, by workplace regions and countries, UK, April 2019\n",
    "#median_fulltime_gross_weekly_earning_UK = 584.9\n",
    "#median_fulltime_gross_weekly_earning_NE = 533.0\n",
    "\n",
    "# Transform UK median fulltime gross weekly earning values to NE\n",
    "#conversor_value_UK_to_NE = median_fulltime_gross_weekly_earning_NE / median_fulltime_gross_weekly_earning_UK\n",
    "\n",
    "\n",
    "##########################################################################################\n",
    "\n",
    "# Source: \n",
    "## Gender pay gap \n",
    "### 2019 updated revised edition of this dataset\n",
    "#### genderpaygap2019revised.zip\n",
    "#### Table 3.12 - Work Region Occupation SOC10 (2) Table 3.12  Gender pay gap 2019\n",
    "#### TAb: all --> Table 3.12 Gender pay gap (%)^  - For all employee jobs^^: United Kingdom, 2019    \n",
    "##### Link: https://www.ons.gov.uk/employmentandlabourmarket/peopleinwork/earningsandworkinghours/datasets/annualsurveyofhoursandearningsashegenderpaygaptables\n",
    "\n",
    "#### Gender pay gap per occupation type (median value) North East values\n",
    "#occupation_1_gap = 0.264\n",
    "#occupation_2_gap = 0.077\n",
    "#occupation_3_gap = 0.095\n",
    "#occupation_4_gap = 0.056 \n",
    "#occupation_5_gap = 0.281\n",
    "#occupation_6_gap = 0.074\n",
    "#occupation_7_gap = 0.047\n",
    "#occupation_8_gap = 0.230\n",
    "#occupation_9_gap = 0.096\n",
    "\n",
    "#### Gender pay gap per occupation type (MEAN value) North East values\n",
    "#occupation_1_gap = 0.125\n",
    "#occupation_2_gap = 0.114\n",
    "#occupation_3_gap = 0.102\n",
    "#occupation_4_gap = 0.057 \n",
    "#occupation_5_gap = 0.227\n",
    "occupation_6_gap = 0.132\n",
    "#occupation_7_gap = 0.071\n",
    "#occupation_8_gap = 0.219\n",
    "#occupation_9_gap = 0.133\n",
    "##########################################################################################\n",
    "##########################################################################################\n",
    "\n",
    "## code developed:\n",
    "\n",
    "# Name all occupation types to loop through them in the code:\n",
    "#occupations = [1,2,3,4,5,6,7,8,9]\n",
    "occupations = [6]\n",
    "\n",
    "\n",
    "for occupation in occupations:\n",
    "    print('Occupation running:')\n",
    "    print(occupation)\n",
    "    \n",
    "    #Select the row of the df_occupation that is related to the selected OA area:\n",
    "    (globals()[f\"df_occupation_{occupation}\"]) = df_persons_NE_occupation.loc[(df_persons_NE_occupation['Occupation'] == occupation)]\n",
    "    \n",
    "    # Select the Min and Max income values of each occupation category:\n",
    "    occupation_income = (globals()[f\"occupation_{occupation}_income\"])\n",
    "    \n",
    "    # Convert UK values to NE\n",
    "    #occupation_income[0] = occupation_income[0] * conversor_value_UK_to_NE\n",
    "    #occupation_income[1] = occupation_income[1] * conversor_value_UK_to_NE\n",
    "    \n",
    "    # Calculate the income age slot\n",
    "    ## this value will indicate the range in which agents will be assigned the income based on their age\n",
    "    income_age_width_slot = (occupation_income[1] - occupation_income[0])/ 10\n",
    "    \n",
    "    \n",
    "    ##Do the calculus just agent by agent\n",
    "    for idx_person, person in (globals()[f\"df_occupation_{occupation}\"]).iterrows():\n",
    "        \n",
    "        # Identify the slot of income based on the age\n",
    "        ## This values were identified using https://www.ons.gov.uk/employmentandlabourmarket/peopleinwork/earningsandworkinghours/bulletins/annualsurveyofhoursandearnings/2019 \n",
    "        ## Figure 12: Weekly earnings for women peak in age-group 40 to 49 years for the first time Median full-time gross weekly earnings by sex and age group, UK, April 2019\n",
    "        ### there were identified 5 groups of age. Min and max income per occupation type were divided in 5 groups and assigned to agents based on their age\n",
    "        #### Agents aged 40-49 will earn more than any other, then agents aged 30-39, then 60+, then 25-29 and finally agents aged < 25\n",
    "                    \n",
    "        \n",
    "        \n",
    "        if (person['Age'] <= 17):\n",
    "            income_min = occupation_income[0] - (occupation_income[0]/2)\n",
    "            income_max = occupation_income[0] - (occupation_income[0]/3)\n",
    "        elif (person['Age'] > 17 and person['Age'] <= 21):\n",
    "            income_min = occupation_income[0] - (occupation_income[0]/2)\n",
    "            income_max = occupation_income[0] + 0.2 * (occupation_income[0])   \n",
    "        elif (person['Age'] > 21 and person['Age'] < 30):\n",
    "            income_min = occupation_income[0] - (occupation_income[0]/2)\n",
    "            income_max = occupation_income[0] + 5.5 * income_age_width_slot\n",
    "        elif (person['Age'] >= 30 and person['Age'] < 40):\n",
    "            income_min = occupation_income[0] + 0 * income_age_width_slot\n",
    "            income_max = occupation_income[0] + 7.5 * income_age_width_slot\n",
    "        elif (person['Age'] >= 40 and person['Age'] < 50):\n",
    "            income_min = occupation_income[0] + 0.1 * income_age_width_slot\n",
    "            income_max = occupation_income[0] + 12 * income_age_width_slot \n",
    "        elif (person['Age'] >= 50 and person['Age'] < 60):\n",
    "            income_min = occupation_income[0] + 0.1 * income_age_width_slot\n",
    "            income_max = occupation_income[0] + 8.5 * income_age_width_slot\n",
    "        elif (person['Age'] >= 60):\n",
    "            income_min = occupation_income[0] - 0.1 * income_age_width_slot\n",
    "            income_max = occupation_income[0] + 4 * income_age_width_slot\n",
    "\n",
    "\n",
    "\n",
    "\n",
    "        \n",
    "        # Find the minimum income value each agent will get based on their age\n",
    "        #income_min = occupation_income[0] + income_age_slot_chosen\n",
    "        #income_max = occupation_income[0] + income_age_slot_chosen + income_age_width_slot\n",
    "        \n",
    "        \n",
    "        # Value identified as the income value of the agent based on the occupation type and age range\n",
    "        income_selected_by_occupation_age = random.randint(int(income_min), int(income_max))\n",
    "        \n",
    "     \n",
    "        # Incorporate the gender gap\n",
    "        ## If male, then increase the income half of the gender income gap\n",
    "        ## If female, decrease the income half of the gender income gap\n",
    "        if (person['Sex'] == 1):   # Male\n",
    "            income_selected_by_occupation_age_sex = income_selected_by_occupation_age + (income_selected_by_occupation_age * (globals()[f\"occupation_{occupation}_gap\"])/2)\n",
    "        else:\n",
    "            income_selected_by_occupation_age_sex = income_selected_by_occupation_age - (income_selected_by_occupation_age * (globals()[f\"occupation_{occupation}_gap\"])/2)\n",
    "        \n",
    "                       \n",
    "        # Transform the income value into an integer and round it to the 10 closest value\n",
    "        income_chosen = int(income_selected_by_occupation_age_sex)\n",
    "        income_round = round(income_chosen,-1)\n",
    "        \n",
    "        # Update the value in the column \"Income\"\n",
    "        (globals()[f\"df_occupation_{occupation}\"]).at[idx_person,'Income'] = income_round\n",
    "        \n",
    "\n",
    "\n",
    "print('Merging dataframes:')\n",
    "        \n",
    "#df_occupation_income = [df_occupation_1, df_occupation_2, df_occupation_3,df_occupation_4,df_occupation_5,df_occupation_6,df_occupation_7, df_occupation_8, df_occupation_9]\n",
    "\n",
    "#df_occupation_income = [df_occupation_2]\n",
    "\n",
    "#df_income = pd.concat(df_occupation_income)\n",
    "\n",
    "print('Job done. check the results')"
   ]
  },
  {
   "cell_type": "code",
   "execution_count": 2543,
   "id": "d18c1e94",
   "metadata": {},
   "outputs": [
    {
     "name": "stdout",
     "output_type": "stream",
     "text": [
      "4200.0\n",
      "37730.0\n",
      "15423.398751748475\n",
      "14690.0\n"
     ]
    }
   ],
   "source": [
    "column = df_occupation_6[\"Income\"]\n",
    "min_value = column.min()\n",
    "max_value = column.max()\n",
    "mean_value = column.mean()\n",
    "median_value = column.median()\n",
    "\n",
    "print(min_value)\n",
    "print(max_value)\n",
    "print(mean_value)\n",
    "print(median_value)"
   ]
  },
  {
   "cell_type": "code",
   "execution_count": 2544,
   "id": "c6314e89",
   "metadata": {},
   "outputs": [
    {
     "data": {
      "text/plain": [
       "-293.39875174847475"
      ]
     },
     "execution_count": 2544,
     "metadata": {},
     "output_type": "execute_result"
    }
   ],
   "source": [
    "15130 -  mean_value"
   ]
  },
  {
   "cell_type": "code",
   "execution_count": 2545,
   "id": "5b1c7679",
   "metadata": {},
   "outputs": [
    {
     "data": {
      "text/plain": [
       "337.0"
      ]
     },
     "execution_count": 2545,
     "metadata": {},
     "output_type": "execute_result"
    }
   ],
   "source": [
    "15027 - median_value"
   ]
  },
  {
   "cell_type": "code",
   "execution_count": 2546,
   "id": "0a51de4c",
   "metadata": {},
   "outputs": [
    {
     "data": {
      "image/png": "[encoded data removed]",
      "text/plain": [
       "<Figure size 432x288 with 1 Axes>"
      ]
     },
     "metadata": {
      "needs_background": "light"
     },
     "output_type": "display_data"
    }
   ],
   "source": [
    "df_occupation_6.hist(column='Income', bins=50);"
   ]
  },
  {
   "cell_type": "code",
   "execution_count": 2547,
   "id": "a9ad42ef",
   "metadata": {},
   "outputs": [
    {
     "name": "stdout",
     "output_type": "stream",
     "text": [
      "-289.0\n",
      "-57.999999999956344\n",
      "322.0\n",
      "318.0\n",
      "-203.0\n",
      "-319.0\n"
     ]
    }
   ],
   "source": [
    "print(10031 - df_occupation_6.Income.quantile(0.25))\n",
    "print(11100 - df_occupation_6.Income.quantile(0.3))\n",
    "print(13232 - df_occupation_6.Income.quantile(0.4))\n",
    "#print( - df_occupation_6.Income.quantile(0.5))\n",
    "print(16788 - df_occupation_6.Income.quantile(0.6))\n",
    "\n",
    "print(18457 - df_occupation_6.Income.quantile(0.7))\n",
    "print(20911 - df_occupation_6.Income.quantile(0.8))\n"
   ]
  },
  {
   "cell_type": "code",
   "execution_count": 2541,
   "id": "e109d9ff",
   "metadata": {},
   "outputs": [
    {
     "data": {
      "text/plain": [
       "10380.0"
      ]
     },
     "execution_count": 2541,
     "metadata": {},
     "output_type": "execute_result"
    }
   ],
   "source": [
    "df_occupation_6.Income.quantile(0.25)"
   ]
  },
  {
   "cell_type": "code",
   "execution_count": 2480,
   "id": "57091793",
   "metadata": {},
   "outputs": [
    {
     "data": {
      "text/plain": [
       "2200.0"
      ]
     },
     "execution_count": 2480,
     "metadata": {},
     "output_type": "execute_result"
    }
   ],
   "source": [
    "income_age_width_slot"
   ]
  },
  {
   "cell_type": "code",
   "execution_count": 2548,
   "id": "26944caa",
   "metadata": {},
   "outputs": [
    {
     "data": {
      "text/plain": [
       "5075.0"
      ]
     },
     "execution_count": 2548,
     "metadata": {},
     "output_type": "execute_result"
    }
   ],
   "source": [
    "df_income_16_17_occupation_6 = df_occupation_6.loc[(df_occupation_6['Age'] >=16) & (df_occupation_6['Age'] <=17)]\n",
    "\n",
    "df_income_16_17_occupation_6[\"Income\"].median()"
   ]
  },
  {
   "cell_type": "code",
   "execution_count": 2549,
   "id": "32a91d76",
   "metadata": {},
   "outputs": [
    {
     "data": {
      "text/plain": [
       "7370.0"
      ]
     },
     "execution_count": 2549,
     "metadata": {},
     "output_type": "execute_result"
    }
   ],
   "source": [
    "df_income_18_21_occupation_6 = df_occupation_6.loc[(df_occupation_6['Age'] >=18) & (df_occupation_6['Age'] <=21)]\n",
    "\n",
    "df_income_18_21_occupation_6[\"Income\"].median()"
   ]
  },
  {
   "cell_type": "code",
   "execution_count": 2551,
   "id": "58fbec90",
   "metadata": {},
   "outputs": [
    {
     "data": {
      "text/plain": [
       "12300.0"
      ]
     },
     "execution_count": 2551,
     "metadata": {},
     "output_type": "execute_result"
    }
   ],
   "source": [
    "df_income_22_29_occupation_6 = df_occupation_6.loc[(df_occupation_6['Age'] >=22) & (df_occupation_6['Age'] <=29)]\n",
    "\n",
    "df_income_22_29_occupation_6[\"Income\"].median()"
   ]
  },
  {
   "cell_type": "code",
   "execution_count": 2552,
   "id": "5e976a14",
   "metadata": {},
   "outputs": [
    {
     "data": {
      "text/plain": [
       "16450.0"
      ]
     },
     "execution_count": 2552,
     "metadata": {},
     "output_type": "execute_result"
    }
   ],
   "source": [
    "df_income_30_39_occupation_6 = df_occupation_6.loc[(df_occupation_6['Age'] >=30) & (df_occupation_6['Age'] <=39)]\n",
    "\n",
    "df_income_30_39_occupation_6[\"Income\"].median()"
   ]
  },
  {
   "cell_type": "code",
   "execution_count": 2554,
   "id": "216a7d61",
   "metadata": {},
   "outputs": [
    {
     "data": {
      "text/plain": [
       "21120.0"
      ]
     },
     "execution_count": 2554,
     "metadata": {},
     "output_type": "execute_result"
    }
   ],
   "source": [
    "df_income_40_49_occupation_6 = df_occupation_6.loc[(df_occupation_6['Age'] >=40) & (df_occupation_6['Age'] <=49)]\n",
    "\n",
    "df_income_40_49_occupation_6[\"Income\"].median()"
   ]
  },
  {
   "cell_type": "code",
   "execution_count": 2553,
   "id": "675e05c7",
   "metadata": {},
   "outputs": [
    {
     "data": {
      "text/plain": [
       "17350.0"
      ]
     },
     "execution_count": 2553,
     "metadata": {},
     "output_type": "execute_result"
    }
   ],
   "source": [
    "df_income_50_59_occupation_6 = df_occupation_6.loc[(df_occupation_6['Age'] >=50) & (df_occupation_6['Age'] <=59)]\n",
    "\n",
    "df_income_50_59_occupation_6[\"Income\"].median()"
   ]
  },
  {
   "cell_type": "code",
   "execution_count": 2550,
   "id": "d8738013",
   "metadata": {},
   "outputs": [
    {
     "data": {
      "text/plain": [
       "12550.0"
      ]
     },
     "execution_count": 2550,
     "metadata": {},
     "output_type": "execute_result"
    }
   ],
   "source": [
    "df_income_60_120_occupation_6 = df_occupation_6.loc[(df_occupation_6['Age'] >=60)]\n",
    "\n",
    "df_income_60_120_occupation_6[\"Income\"].median()"
   ]
  },
  {
   "cell_type": "code",
   "execution_count": 2555,
   "id": "09d4abb7",
   "metadata": {},
   "outputs": [],
   "source": [
    "df_occupation_6_saved = df_occupation_6\n",
    "\n",
    "df_occupation_6_saved.to_csv(r'C:\\Users\\b9055315\\Documents\\PhD_PROJECT\\Synthetic_population_developement\\SPENSER\\Data\\2019\\income\\df_occupation_6_20220216.csv', encoding='utf-8', header=True)\n"
   ]
  },
  {
   "cell_type": "code",
   "execution_count": null,
   "id": "ac88ca62",
   "metadata": {},
   "outputs": [],
   "source": []
  },
  {
   "cell_type": "code",
   "execution_count": 2569,
   "id": "68732ba4",
   "metadata": {},
   "outputs": [],
   "source": [
    "frames = [df_occupation_1, df_occupation_2, df_occupation_3, df_occupation_4, df_occupation_5, df_occupation_6, df_occupation_7, df_occupation_8, df_occupation_9]\n",
    "\n",
    "df_income_all = pd.concat(frames)"
   ]
  },
  {
   "cell_type": "code",
   "execution_count": 2566,
   "id": "296bc4e9",
   "metadata": {},
   "outputs": [],
   "source": [
    "df_income_all_saved = df_income_all\n",
    "\n",
    "df_income_all_saved.to_csv(r'C:\\Users\\b9055315\\Documents\\PhD_PROJECT\\Synthetic_population_developement\\SPENSER\\Data\\2019\\income\\df_income_all_saved_20220216.csv', encoding='utf-8', header=True)\n"
   ]
  },
  {
   "cell_type": "code",
   "execution_count": null,
   "id": "0de683a3",
   "metadata": {},
   "outputs": [],
   "source": []
  },
  {
   "cell_type": "code",
   "execution_count": 2559,
   "id": "7082d151",
   "metadata": {},
   "outputs": [
    {
     "name": "stdout",
     "output_type": "stream",
     "text": [
      "1490.0\n",
      "99870.0\n",
      "25634.970058154257\n",
      "23050.0\n"
     ]
    }
   ],
   "source": [
    "column = df_income_all[\"Income\"]\n",
    "min_value = column.min()\n",
    "max_value = column.max()\n",
    "mean_value = column.mean()\n",
    "median_value = column.median()\n",
    "\n",
    "print(min_value)\n",
    "print(max_value)\n",
    "print(mean_value)\n",
    "print(median_value)"
   ]
  },
  {
   "cell_type": "code",
   "execution_count": 2560,
   "id": "dca5f6ed",
   "metadata": {},
   "outputs": [
    {
     "data": {
      "text/plain": [
       "-448.0"
      ]
     },
     "execution_count": 2560,
     "metadata": {},
     "output_type": "execute_result"
    }
   ],
   "source": [
    "22602 - median_value"
   ]
  },
  {
   "cell_type": "code",
   "execution_count": 2561,
   "id": "15b8ec49",
   "metadata": {},
   "outputs": [
    {
     "data": {
      "text/plain": [
       "704.0299418457435"
      ]
     },
     "execution_count": 2561,
     "metadata": {},
     "output_type": "execute_result"
    }
   ],
   "source": [
    "26339 - mean_value"
   ]
  },
  {
   "cell_type": "code",
   "execution_count": 2563,
   "id": "e3765ce3",
   "metadata": {},
   "outputs": [
    {
     "name": "stdout",
     "output_type": "stream",
     "text": [
      "-767.0\n",
      "-433.0\n",
      "149.0\n",
      "-510.0\n",
      "-448.0\n",
      "-124.0\n",
      "175.0\n",
      "193.0\n",
      "-50.0\n"
     ]
    }
   ],
   "source": [
    "print(7993 - df_income_all.Income.quantile(0.1))\n",
    "print(12607 - df_income_all.Income.quantile(0.2))\n",
    "print(16679 - df_income_all.Income.quantile(0.3))\n",
    "print(19560 - df_income_all.Income.quantile(0.4))\n",
    "print(22602 - df_income_all.Income.quantile(0.5))\n",
    "print(26126 - df_income_all.Income.quantile(0.6))\n",
    "print(30605 - df_income_all.Income.quantile(0.7))\n",
    "print(36523 - df_income_all.Income.quantile(0.8))\n",
    "print(45580 - df_income_all.Income.quantile(0.9))"
   ]
  },
  {
   "cell_type": "code",
   "execution_count": 2564,
   "id": "ff65ef18",
   "metadata": {},
   "outputs": [
    {
     "name": "stdout",
     "output_type": "stream",
     "text": [
      "8760.0\n",
      "13040.0\n",
      "16530.0\n",
      "20070.0\n",
      "23050.0\n",
      "26250.0\n",
      "30430.0\n",
      "36330.0\n",
      "45630.0\n"
     ]
    }
   ],
   "source": [
    "print(df_income_all.Income.quantile(0.1))\n",
    "print(df_income_all.Income.quantile(0.2))\n",
    "print(df_income_all.Income.quantile(0.3))\n",
    "print(df_income_all.Income.quantile(0.4))\n",
    "print(df_income_all.Income.quantile(0.5))\n",
    "print(df_income_all.Income.quantile(0.6))\n",
    "print(df_income_all.Income.quantile(0.7))\n",
    "print(df_income_all.Income.quantile(0.8))\n",
    "print(df_income_all.Income.quantile(0.9))"
   ]
  },
  {
   "cell_type": "code",
   "execution_count": 2565,
   "id": "82714e7b",
   "metadata": {},
   "outputs": [
    {
     "data": {
      "text/plain": [
       "25634.970058154257"
      ]
     },
     "execution_count": 2565,
     "metadata": {},
     "output_type": "execute_result"
    }
   ],
   "source": [
    "mean_value"
   ]
  },
  {
   "cell_type": "code",
   "execution_count": 2570,
   "id": "6b053033",
   "metadata": {},
   "outputs": [
    {
     "data": {
      "text/plain": [
       "5500.0"
      ]
     },
     "execution_count": 2570,
     "metadata": {},
     "output_type": "execute_result"
    }
   ],
   "source": [
    "df_income_all_1 = df_income_all.loc[(df_income_all['Age'] >=16) & (df_income_all['Age'] <=17)]\n",
    "\n",
    "df_income_all_1[\"Income\"].median()"
   ]
  },
  {
   "cell_type": "code",
   "execution_count": 2571,
   "id": "dad328f7",
   "metadata": {},
   "outputs": [
    {
     "data": {
      "text/plain": [
       "8230.0"
      ]
     },
     "execution_count": 2571,
     "metadata": {},
     "output_type": "execute_result"
    }
   ],
   "source": [
    "df_income_all_2 = df_income_all.loc[(df_income_all['Age'] >=18) & (df_income_all['Age'] <=21)]\n",
    "\n",
    "df_income_all_2[\"Income\"].median()"
   ]
  },
  {
   "cell_type": "code",
   "execution_count": 2572,
   "id": "0d600652",
   "metadata": {},
   "outputs": [
    {
     "data": {
      "text/plain": [
       "17210.0"
      ]
     },
     "execution_count": 2572,
     "metadata": {},
     "output_type": "execute_result"
    }
   ],
   "source": [
    "df_income_all_3 = df_income_all.loc[(df_income_all['Age'] >=22) & (df_income_all['Age'] <=29)]\n",
    "\n",
    "df_income_all_3[\"Income\"].median()"
   ]
  },
  {
   "cell_type": "code",
   "execution_count": 2573,
   "id": "669a634a",
   "metadata": {},
   "outputs": [
    {
     "data": {
      "text/plain": [
       "24940.0"
      ]
     },
     "execution_count": 2573,
     "metadata": {},
     "output_type": "execute_result"
    }
   ],
   "source": [
    "df_income_all_4 = df_income_all.loc[(df_income_all['Age'] >=30) & (df_income_all['Age'] <=39)]\n",
    "\n",
    "df_income_all_4[\"Income\"].median()"
   ]
  },
  {
   "cell_type": "code",
   "execution_count": 2574,
   "id": "9ad05196",
   "metadata": {},
   "outputs": [
    {
     "data": {
      "text/plain": [
       "39880.0"
      ]
     },
     "execution_count": 2574,
     "metadata": {},
     "output_type": "execute_result"
    }
   ],
   "source": [
    "df_income_all_5 = df_income_all.loc[(df_income_all['Age'] >=40) & (df_income_all['Age'] <=49)]\n",
    "\n",
    "df_income_all_5[\"Income\"].median()"
   ]
  },
  {
   "cell_type": "code",
   "execution_count": 2575,
   "id": "3ea53990",
   "metadata": {},
   "outputs": [
    {
     "data": {
      "text/plain": [
       "26430.0"
      ]
     },
     "execution_count": 2575,
     "metadata": {},
     "output_type": "execute_result"
    }
   ],
   "source": [
    "df_income_all_6 = df_income_all.loc[(df_income_all['Age'] >=50) & (df_income_all['Age'] <=59)]\n",
    "\n",
    "df_income_all_6[\"Income\"].median()"
   ]
  },
  {
   "cell_type": "code",
   "execution_count": 2576,
   "id": "34837afd",
   "metadata": {},
   "outputs": [
    {
     "data": {
      "text/plain": [
       "15560.0"
      ]
     },
     "execution_count": 2576,
     "metadata": {},
     "output_type": "execute_result"
    }
   ],
   "source": [
    "df_income_all_7 = df_income_all.loc[(df_income_all['Age'] >=60)]\n",
    "\n",
    "df_income_all_7[\"Income\"].median()"
   ]
  },
  {
   "cell_type": "code",
   "execution_count": null,
   "id": "9a969006",
   "metadata": {},
   "outputs": [],
   "source": []
  },
  {
   "cell_type": "code",
   "execution_count": null,
   "id": "850f4aa6",
   "metadata": {},
   "outputs": [],
   "source": []
  }
 ],
 "metadata": {
  "kernelspec": {
   "display_name": "Python 3 (ipykernel)",
   "language": "python",
   "name": "python3"
  },
  "language_info": {
   "codemirror_mode": {
    "name": "ipython",
    "version": 3
   },
   "file_extension": ".py",
   "mimetype": "text/x-python",
   "name": "python",
   "nbconvert_exporter": "python",
   "pygments_lexer": "ipython3",
   "version": "3.8.12"
  }
 },
 "nbformat": 4,
 "nbformat_minor": 5
}
